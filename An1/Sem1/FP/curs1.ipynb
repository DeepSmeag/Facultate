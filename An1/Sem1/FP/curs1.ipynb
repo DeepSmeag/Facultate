{
 "cells": [
  {
   "cell_type": "code",
   "execution_count": 7,
   "source": [
    "a = int(input('hello: '))\n",
    "print(a)"
   ],
   "outputs": [
    {
     "output_type": "stream",
     "name": "stdout",
     "text": [
      "23\n"
     ]
    }
   ],
   "metadata": {}
  }
 ],
 "metadata": {
  "orig_nbformat": 4,
  "language_info": {
   "name": "python",
   "version": "3.9.5",
   "mimetype": "text/x-python",
   "codemirror_mode": {
    "name": "ipython",
    "version": 3
   },
   "pygments_lexer": "ipython3",
   "nbconvert_exporter": "python",
   "file_extension": ".py"
  },
  "kernelspec": {
   "name": "python3",
   "display_name": "Python 3.9.5 64-bit ('base': conda)"
  },
  "interpreter": {
   "hash": "fe8c4375f3057d5df61646ac53d19bc1fc86307f6c13de03bc045ed403faedd6"
  }
 },
 "nbformat": 4,
 "nbformat_minor": 2
}