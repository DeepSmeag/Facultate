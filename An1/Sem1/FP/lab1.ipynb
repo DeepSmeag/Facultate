{
 "cells": [
  {
   "cell_type": "code",
   "execution_count": 41,
   "source": [
    "#problema1\n",
    "n = int(input(\"n: \"))\n",
    "s=0\n",
    "for i in range(n):\n",
    "    a = int(input(\"get number:\"))\n",
    "    s = s + a\n",
    "print(s)"
   ],
   "outputs": [
    {
     "output_type": "stream",
     "name": "stdout",
     "text": [
      "0\n"
     ]
    }
   ],
   "metadata": {}
  },
  {
   "cell_type": "code",
   "execution_count": 24,
   "source": [
    "#problema2\n",
    "from math import sqrt, floor\n",
    "n = int(input(\"Introduceti numar: \"))\n",
    "ok = True\n",
    "if(n%2==0 or n<2): print(\"NU\")\n",
    "else:\n",
    "    for i in range(3, floor(sqrt(n))+1, 2):\n",
    "        if(n%i==0):\n",
    "            ok = False\n",
    "            break\n",
    "    if(ok): print(\"DA\")\n",
    "    else: print(\"NU\")"
   ],
   "outputs": [
    {
     "output_type": "stream",
     "name": "stdout",
     "text": [
      "NU\n"
     ]
    }
   ],
   "metadata": {}
  },
  {
   "cell_type": "code",
   "execution_count": 1,
   "source": [
    "#problema3\n",
    "a = int(input(\"a: \"))\n",
    "b = int(input(\"b: \"))\n",
    "r = a%b\n",
    "#if(a>0 and b>0):\n",
    "while(r!=0):\n",
    "    a=b\n",
    "    b=r\n",
    "    r=a%b\n",
    "print(b)\n",
    "#else: print(\"Date invalide\") "
   ],
   "outputs": [
    {
     "output_type": "stream",
     "name": "stdout",
     "text": [
      "1\n"
     ]
    }
   ],
   "metadata": {}
  },
  {
   "cell_type": "code",
   "execution_count": 45,
   "source": [
    "#p3 recursiv\n",
    "a = int(input(\"a: \"))\n",
    "b = int(input(\"b: \"))\n",
    "def rec_cmmdc(a, b):\n",
    "    r=a%b\n",
    "    if(r!=0):\n",
    "        return rec_cmmdc(b,r)\n",
    "    else:\n",
    "        return b\n",
    "\n",
    "print(rec_cmmdc(a, b))"
   ],
   "outputs": [
    {
     "output_type": "stream",
     "name": "stdout",
     "text": [
      "2\n"
     ]
    }
   ],
   "metadata": {}
  },
  {
   "cell_type": "code",
   "execution_count": 44,
   "source": [
    "from math import gcd\n",
    "print(gcd(-1, 2))"
   ],
   "outputs": [
    {
     "output_type": "stream",
     "name": "stdout",
     "text": [
      "1\n"
     ]
    }
   ],
   "metadata": {}
  }
 ],
 "metadata": {
  "orig_nbformat": 4,
  "language_info": {
   "name": "python",
   "version": "3.9.5",
   "mimetype": "text/x-python",
   "codemirror_mode": {
    "name": "ipython",
    "version": 3
   },
   "pygments_lexer": "ipython3",
   "nbconvert_exporter": "python",
   "file_extension": ".py"
  },
  "kernelspec": {
   "name": "python3",
   "display_name": "Python 3.9.5 64-bit ('base': conda)"
  },
  "interpreter": {
   "hash": "fe8c4375f3057d5df61646ac53d19bc1fc86307f6c13de03bc045ed403faedd6"
  }
 },
 "nbformat": 4,
 "nbformat_minor": 2
}