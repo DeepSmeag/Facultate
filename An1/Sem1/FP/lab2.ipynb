{
 "cells": [
  {
   "cell_type": "code",
   "execution_count": 1,
   "source": [
    "#problema1\n",
    "from math import sqrt, floor\n",
    "n = int(input(\"n: \"))\n",
    "def check_prime(x):  \n",
    "    ok = True\n",
    "    if((x%2==0 and x>2) or x<2): return False\n",
    "    else:\n",
    "        for i in range(3, floor(sqrt(x))+1, 2):\n",
    "            if(x%i==0):\n",
    "                return False\n",
    "        return True\n",
    "n = n+1\n",
    "while(not check_prime(n)):\n",
    "    n = n+1\n",
    "print(n)"
   ],
   "outputs": [
    {
     "output_type": "stream",
     "name": "stdout",
     "text": [
      "17\n"
     ]
    }
   ],
   "metadata": {}
  },
  {
   "cell_type": "code",
   "execution_count": 145,
   "source": [
    "#problema 2\n",
    "#mult mai usor de facut cu librarie\n",
    "import datetime\n",
    "birthday = datetime.date(1900,7,21) #//datetime.date(YEAR,MONTH,DAY)\n",
    "now = datetime.date(2021,9,29)\n",
    "delta = now - birthday\n",
    "print ('Corect: ', delta.days)\n",
    "# ----------------------\n",
    "date_given = input(\"Zi de nastere format ZZ/LL/AAAA: \")\n",
    "date_current = 20210929\n",
    "date_given_l = [int(item) for item in date_given.split('/')]\n",
    "\n",
    "date_given = (date_given_l[2]*100+date_given_l[1])*100+date_given_l[0]\n",
    "print(date_given)\n",
    "# # date_birth = {'year':date_given[2], 'month': date_given[1], 'day': date_given[0]}\n",
    "# # for key in date_birth.keys():\n",
    "# #     key = int(key)#!!!!!!!!!!\n",
    "# # print(int((date_current - date_given)/(10**4)))\n",
    "# #alternativ afisare primele 2 cu split, posibil mai eficient\n",
    "# # print((date_current - date_given))\n",
    "# #preliminar\n",
    "# #vom presupune date de intrare corecte, insemnand ca data curenta > data nasterii\n",
    "# diff_date = date_current - date_given\n",
    "# print(diff_date)\n",
    "# days_to_add = date_current//10000- date_given//10000\n",
    "\n",
    "m_days = [31, 28, 31, 30, 31, 30, 31, 31, 30, 31, 30, 31]\n",
    "# m_days_lived = sum(i for i in m_days[:(diff_date//100%100)])\n",
    "# days_lived = (diff_date//10000)*365 + m_days_lived + diff_date%100 + days_to_add\n",
    "\n",
    "# print('Mine: ', days_lived)\n",
    "\n",
    "#-------------------------\n",
    "m_days_birth = sum(i for i in m_days[:(date_given//100%100)])\n",
    "m_days_now = sum(i for i in m_days[:(date_current//100%100)])\n",
    "date_birth_convert = (date_given//10000)*365 + m_days_birth + date_given%100 + (date_given//10000)//4 - (date_given//10000)//100 + (date_given//10000)//400\n",
    "date_now_convert = (date_current//10000)*365 + m_days_now + date_current%100 + (date_current//10000)//4 - (date_current//10000)//100 + (date_current//10000)//400\n",
    "print(date_now_convert)\n",
    "print(\"new: \", date_now_convert - date_birth_convert)\n",
    "\n",
    "#-----------------------\n",
    "\n",
    "m_days = m_days_now - m_days_birth + date_current%100 - date_given%100\n",
    "y_days = (date_current//10000 - date_given//10000) * 365\n",
    "\n",
    "lost_days = date_current//10000//4 - date_given//10000//4\n",
    "print(\"new new: \", m_days + y_days + lost_days)"
   ],
   "outputs": [
    {
     "output_type": "stream",
     "name": "stdout",
     "text": [
      "Corect:  44265\n",
      "20020627\n",
      "738457\n",
      "new:  7034\n",
      "new new:  7034\n"
     ]
    }
   ],
   "metadata": {}
  },
  {
   "cell_type": "code",
   "execution_count": 17,
   "source": [
    "#problema3\n",
    "an = int(input(\"an: \"))\n",
    "zi = int(input(\"zi: \"))\n",
    "print(an,'')\n",
    "zile = [31, 28, 31, 30, 31, 30,\n",
    "        31, 31, 30, 31, 30, 31]\n",
    "\n"
   ],
   "outputs": [
    {
     "output_type": "stream",
     "name": "stdout",
     "text": [
      "27052002 \n"
     ]
    }
   ],
   "metadata": {}
  },
  {
   "cell_type": "code",
   "execution_count": 21,
   "source": [
    "#problema13\n",
    "# 1,2,3,4,5,6,7,8,9,10,11,12,13,14,15,16,17,18,19,20,21,22,23,24,25\n",
    "# 1,2,3,2,2,5,2,2,3,3 ,3 ,7 ,2 ,2 ,3 ,3 ,3 ,2 ,2 ,5 ,5 ,5 ,5 ,5 ,11........\n",
    "from math import floor, sqrt\n",
    "# n = int(input(\"nr. de ordine: \"))\n",
    "def check_prime(x):  \n",
    "    ok = True\n",
    "    if((x%2==0 and x>2) or x<2): return False\n",
    "    else:\n",
    "        for i in range(3, floor(sqrt(x))+1, 2):\n",
    "            if(x%i==0):\n",
    "                return False\n",
    "        return True\n",
    "def solve(n):\n",
    "    if(n<=3): return n\n",
    "    else:\n",
    "        cpn = n\n",
    "        n=n-3\n",
    "        for i in range(4, cpn+1):\n",
    "            if(not check_prime(i)):\n",
    "                for div in range(2,i//2+1):\n",
    "                    if(i%div == 0 and check_prime(div)):\n",
    "                        if(div>=n): \n",
    "                            return div\n",
    "                        else: n = n-div\n",
    "            else:\n",
    "                n = n-1\n",
    "            if(n==0): return i\n",
    "for i in range(1,101):\n",
    "    print(solve(i), end=' ')\n",
    "\n"
   ],
   "outputs": [
    {
     "output_type": "stream",
     "name": "stdout",
     "text": [
      "1 2 3 2 2 5 2 2 3 3 3 7 2 2 3 3 3 2 2 5 5 5 5 5 11 2 2 3 3 3 13 2 2 7 7 7 7 7 7 7 3 3 3 5 5 5 5 5 2 2 17 2 2 3 3 3 19 2 2 5 5 5 5 5 3 3 3 7 7 7 7 7 7 7 2 2 11 11 11 11 11 11 11 11 11 11 11 23 2 2 3 3 3 5 5 5 5 5 2 2 "
     ]
    }
   ],
   "metadata": {}
  },
  {
   "cell_type": "code",
   "execution_count": 29,
   "source": [
    "#problema14\n",
    "num_dat = int(input(\"Introduceti numar: \"))\n",
    "def check_perfect(num):\n",
    "    s = 1\n",
    "    for div in range(2, num//2 + 1):\n",
    "        if(num % div == 0):\n",
    "            s = s + div\n",
    "        if(s > num):\n",
    "            return False\n",
    "    if(s != num):\n",
    "        return False\n",
    "    return True\n",
    "\n",
    "num_dat = num_dat + 1\n",
    "while(check_perfect(num_dat) is not True):\n",
    "    num_dat = num_dat + 1\n",
    "print(\"Numarul:\",num_dat)"
   ],
   "outputs": [
    {
     "output_type": "error",
     "ename": "KeyboardInterrupt",
     "evalue": "",
     "traceback": [
      "\u001b[0;31m---------------------------------------------------------------------------\u001b[0m",
      "\u001b[0;31mKeyboardInterrupt\u001b[0m                         Traceback (most recent call last)",
      "\u001b[0;32m/tmp/ipykernel_277/58925074.py\u001b[0m in \u001b[0;36m<module>\u001b[0;34m\u001b[0m\n\u001b[1;32m     13\u001b[0m \u001b[0;34m\u001b[0m\u001b[0m\n\u001b[1;32m     14\u001b[0m \u001b[0mnum_dat\u001b[0m \u001b[0;34m=\u001b[0m \u001b[0mnum_dat\u001b[0m \u001b[0;34m+\u001b[0m \u001b[0;36m1\u001b[0m\u001b[0;34m\u001b[0m\u001b[0;34m\u001b[0m\u001b[0m\n\u001b[0;32m---> 15\u001b[0;31m \u001b[0;32mwhile\u001b[0m\u001b[0;34m(\u001b[0m\u001b[0mcheck_perfect\u001b[0m\u001b[0;34m(\u001b[0m\u001b[0mnum_dat\u001b[0m\u001b[0;34m)\u001b[0m \u001b[0;32mis\u001b[0m \u001b[0;32mnot\u001b[0m \u001b[0;32mTrue\u001b[0m\u001b[0;34m)\u001b[0m\u001b[0;34m:\u001b[0m\u001b[0;34m\u001b[0m\u001b[0;34m\u001b[0m\u001b[0m\n\u001b[0m\u001b[1;32m     16\u001b[0m     \u001b[0mnum_dat\u001b[0m \u001b[0;34m=\u001b[0m \u001b[0mnum_dat\u001b[0m \u001b[0;34m+\u001b[0m \u001b[0;36m1\u001b[0m\u001b[0;34m\u001b[0m\u001b[0;34m\u001b[0m\u001b[0m\n\u001b[1;32m     17\u001b[0m \u001b[0mprint\u001b[0m\u001b[0;34m(\u001b[0m\u001b[0;34m\"Numarul:\"\u001b[0m\u001b[0;34m,\u001b[0m\u001b[0mnum_dat\u001b[0m\u001b[0;34m)\u001b[0m\u001b[0;34m\u001b[0m\u001b[0;34m\u001b[0m\u001b[0m\n",
      "\u001b[0;32m/tmp/ipykernel_277/58925074.py\u001b[0m in \u001b[0;36mcheck_perfect\u001b[0;34m(num)\u001b[0m\n\u001b[1;32m      6\u001b[0m         \u001b[0;32mif\u001b[0m\u001b[0;34m(\u001b[0m\u001b[0mnum\u001b[0m \u001b[0;34m%\u001b[0m \u001b[0mdiv\u001b[0m \u001b[0;34m==\u001b[0m \u001b[0;36m0\u001b[0m\u001b[0;34m)\u001b[0m\u001b[0;34m:\u001b[0m\u001b[0;34m\u001b[0m\u001b[0;34m\u001b[0m\u001b[0m\n\u001b[1;32m      7\u001b[0m             \u001b[0ms\u001b[0m \u001b[0;34m=\u001b[0m \u001b[0ms\u001b[0m \u001b[0;34m+\u001b[0m \u001b[0mdiv\u001b[0m\u001b[0;34m\u001b[0m\u001b[0;34m\u001b[0m\u001b[0m\n\u001b[0;32m----> 8\u001b[0;31m         \u001b[0;32mif\u001b[0m\u001b[0;34m(\u001b[0m\u001b[0ms\u001b[0m \u001b[0;34m>\u001b[0m \u001b[0mnum\u001b[0m\u001b[0;34m)\u001b[0m\u001b[0;34m:\u001b[0m\u001b[0;34m\u001b[0m\u001b[0;34m\u001b[0m\u001b[0m\n\u001b[0m\u001b[1;32m      9\u001b[0m             \u001b[0;32mreturn\u001b[0m \u001b[0;32mFalse\u001b[0m\u001b[0;34m\u001b[0m\u001b[0;34m\u001b[0m\u001b[0m\n\u001b[1;32m     10\u001b[0m     \u001b[0;32mif\u001b[0m\u001b[0;34m(\u001b[0m\u001b[0ms\u001b[0m \u001b[0;34m!=\u001b[0m \u001b[0mnum\u001b[0m\u001b[0;34m)\u001b[0m\u001b[0;34m:\u001b[0m\u001b[0;34m\u001b[0m\u001b[0;34m\u001b[0m\u001b[0m\n",
      "\u001b[0;31mKeyboardInterrupt\u001b[0m: "
     ]
    }
   ],
   "metadata": {}
  },
  {
   "cell_type": "code",
   "execution_count": 38,
   "source": [
    "#putere in timp logaritmic\n",
    "\n",
    "def powaaa(num, expo):\n",
    "    if(expo == 1):\n",
    "        return num\n",
    "    elif(expo % 2 ==0):\n",
    "        tmp = powaaa(num, expo/2)\n",
    "        return tmp * tmp\n",
    "    else:\n",
    "        return num * powaaa(num, expo - 1)\n",
    "\n",
    "print(powaaa(9, 128))\n"
   ],
   "outputs": [
    {
     "output_type": "stream",
     "name": "stdout",
     "text": [
      "139008452377144732764939786789661303114218850808529137991604824430036072629766435941001769154109609521811665540548899435521\n"
     ]
    }
   ],
   "metadata": {}
  }
 ],
 "metadata": {
  "orig_nbformat": 4,
  "language_info": {
   "name": "python",
   "version": "3.9.5",
   "mimetype": "text/x-python",
   "codemirror_mode": {
    "name": "ipython",
    "version": 3
   },
   "pygments_lexer": "ipython3",
   "nbconvert_exporter": "python",
   "file_extension": ".py"
  },
  "kernelspec": {
   "name": "python3",
   "display_name": "Python 3.9.5 64-bit ('base': conda)"
  },
  "interpreter": {
   "hash": "fe8c4375f3057d5df61646ac53d19bc1fc86307f6c13de03bc045ed403faedd6"
  }
 },
 "nbformat": 4,
 "nbformat_minor": 2
}