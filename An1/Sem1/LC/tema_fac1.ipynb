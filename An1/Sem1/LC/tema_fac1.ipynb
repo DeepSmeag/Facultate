{
 "cells": [
  {
   "cell_type": "markdown",
   "metadata": {},
   "source": [
    "Voinopol Cosmin-Marian\n",
    "Grupa 217"
   ]
  },
  {
   "cell_type": "code",
   "execution_count": 3,
   "metadata": {},
   "outputs": [
    {
     "name": "stdout",
     "output_type": "stream",
     "text": [
      "[4, 0, 8]\n"
     ]
    }
   ],
   "source": [
    "def translate_to_string(given_list, base_in):\n",
    "    # primeste lista de numere(int) (fiecare element e o cifra din numar) si baza in care se afla numarul\n",
    "    # returneaza un string = reprezentarea numarului in acea baza\n",
    "    digit_dic = {10:'A', 11:'B', 12:'C', 13:'D', 14:'E', 15:'F'}\n",
    "    for digit in range(len(given_list)):\n",
    "        if(given_list[digit] in digit_dic):\n",
    "            given_list[digit]= digit_dic[given_list[digit]]\n",
    "    return ''.join([str(elem) for elem in given_list])\n",
    "\n",
    "def numberToBase(num, b_from, b_to):\n",
    "    # primeste un numar(string), baza in care el se afla si baza in care acesta va fi transformat\n",
    "    # returneaza lista de cifre(int) a numarului transformat\n",
    "    n = int(num,b_from)\n",
    "    if n == 0:\n",
    "        return [0]\n",
    "    digits = []\n",
    "    while n:\n",
    "        digits.append(int(n % b_to))\n",
    "        n //= b_to\n",
    "    return digits[::-1]\n",
    "\n",
    "print(numberToBase('1520',6,10))\n",
    "\n",
    "\n",
    "\n"
   ]
  },
  {
   "cell_type": "code",
   "execution_count": 42,
   "metadata": {},
   "outputs": [
    {
     "name": "stdout",
     "output_type": "stream",
     "text": [
      "3B47\n"
     ]
    }
   ],
   "source": [
    "def addInBase(a, b, base):\n",
    "    # primeste cele 2 numere(string) si baza in care ele se afla\n",
    "    # returneaza numarul(string) suma, adica rezultatul\n",
    "    a = int(translate_to_string(numberToBase(a, base, 10), 10))\n",
    "    b = int(translate_to_string(numberToBase(b, base, 10), 10))\n",
    "    sum = a + b\n",
    "    return translate_to_string(numberToBase(str(sum), 10, base), base)\n",
    "\n",
    "print(addInBase('3A24', '123', 13))"
   ]
  },
  {
   "cell_type": "code",
   "execution_count": 52,
   "metadata": {},
   "outputs": [
    {
     "name": "stdout",
     "output_type": "stream",
     "text": [
      "1\n"
     ]
    }
   ],
   "source": [
    "def subInBase(a, b, base): #supposing a>=b\n",
    "# analog adaugare, primeste cele 2 numere si baza in care se afla\n",
    "# returneaza numarul(string) diferenta\n",
    "    a = int(translate_to_string(numberToBase(a, base, 10), 10))\n",
    "    b = int(translate_to_string(numberToBase(b, base, 10), 10))\n",
    "    sub = a - b\n",
    "    return translate_to_string(numberToBase(str(sub), 10, base), base)\n",
    "\n",
    "print(subInBase('123','122',16))"
   ]
  },
  {
   "cell_type": "code",
   "execution_count": 56,
   "metadata": {},
   "outputs": [
    {
     "name": "stdout",
     "output_type": "stream",
     "text": [
      "1A6E6\n"
     ]
    }
   ],
   "source": [
    "def mulInBase(a, b, base):\n",
    "# primeste cele 2 numere sub forma string si baza in care se afla\n",
    "# returneaza produsul sub forma de string\n",
    "    a = int(translate_to_string(numberToBase(a, base, 10), 10))\n",
    "    b = int(translate_to_string(numberToBase(b, base, 10), 10))\n",
    "    mul = a * b\n",
    "    return translate_to_string(numberToBase(str(mul), 10, base), base)\n",
    "\n",
    "print(mulInBase('1A2','103', 16))\n"
   ]
  },
  {
   "cell_type": "code",
   "execution_count": 57,
   "metadata": {},
   "outputs": [
    {
     "name": "stdout",
     "output_type": "stream",
     "text": [
      "('10', '2')\n"
     ]
    }
   ],
   "source": [
    "def divInBase(a, b, base):\n",
    "# primeste cele 2 numere sub forma string si baza in care se afla\n",
    "# returneaza catul si restul sub forma de string, in baza corespunzatoare\n",
    "    a = int(translate_to_string(numberToBase(a, base, 10), 10))\n",
    "    b = int(translate_to_string(numberToBase(b, base, 10), 10))\n",
    "    div = a//b\n",
    "    remainder = a - div*b\n",
    "    return translate_to_string(numberToBase(str(div), 10, base), base), translate_to_string(numberToBase(str(remainder), 10, base), base)\n",
    "\n",
    "print(divInBase('102','10',10))"
   ]
  }
 ],
 "metadata": {
  "interpreter": {
   "hash": "cdff3c41567ad0bef17ae697961a7af23a3768ca2879a6dfc632f9f897c1eda4"
  },
  "kernelspec": {
   "display_name": "Python 3.9.5 64-bit ('base': conda)",
   "name": "python3"
  },
  "language_info": {
   "codemirror_mode": {
    "name": "ipython",
    "version": 3
   },
   "file_extension": ".py",
   "mimetype": "text/x-python",
   "name": "python",
   "nbconvert_exporter": "python",
   "pygments_lexer": "ipython3",
   "version": "3.9.5"
  },
  "orig_nbformat": 4
 },
 "nbformat": 4,
 "nbformat_minor": 2
}
