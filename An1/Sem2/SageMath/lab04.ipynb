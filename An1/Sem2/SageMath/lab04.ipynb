{
 "cells": [
  {
   "cell_type": "code",
   "execution_count": 19,
   "metadata": {},
   "outputs": [
    {
     "data": {
      "text/plain": [
       "689.285959202488"
      ]
     },
     "execution_count": 19,
     "metadata": {},
     "output_type": "execute_result"
    }
   ],
   "source": [
    "reset()\n",
    "t = var('t')\n",
    "k = var('k')\n",
    "x = function('x')(t)\n",
    "eqd = diff(x,t) == -k * x\n",
    "varl = [x,t]\n",
    "x0 = var('x0')\n",
    "const = [0,x0]\n",
    "sol(t,k, x0) = desolve(eqd,  varl, const)\n",
    "plot([sol(t, 0.1, 10), sol(t, 0.2, 10), sol(t, 0.3, 10)], t, 0, 10)\n",
    "t12 = var('t12')\n",
    "ec = sol(t12, k, x0) == x0/2\n",
    "ans = solve(ec,k)\n",
    "k1(t12) = ans[0].rhs()\n",
    "\n",
    "kconst = var('kconst')\n",
    "kconst = k1(5730)\n",
    "# numerical_approx(k1(5730))\n",
    "T = var('T')\n",
    "ec2 = sol(T, kconst, 1) == 0.2\n",
    "ans2 = solve(ec2,T)\n",
    "# numerical_approx(ans2[0].rhs())\n",
    "# numerical_approx(ans2[0].rhs())\n",
    "ec3 = sol(T, kconst, 1) == 0.92\n",
    "ans3 = solve(ec3,T)\n",
    "numerical_approx(ans3[0].rhs())"
   ]
  },
  {
   "cell_type": "code",
   "execution_count": 27,
   "metadata": {},
   "outputs": [
    {
     "data": {
      "text/html": [
       "<html><script type=\"math/tex; mode=display\">\\newcommand{\\Bold}[1]{\\mathbf{#1}}15.118043520273078</script></html>"
      ],
      "text/plain": [
       "15.118043520273078"
      ]
     },
     "metadata": {},
     "output_type": "display_data"
    }
   ],
   "source": [
    "reset()\n",
    "t = var('t')\n",
    "T = function('T')(t)\n",
    "k = var('k')\n",
    "Tm = var('Tm')\n",
    "Tm = 21.0\n",
    "eqd = diff(T, t) == -k * (T-Tm)\n",
    "T0 = var('T0')\n",
    "sol(t, k, T0, Tm) = desolve(eqd, [T, t], [0,T0])\n",
    "# plot([sol(t, 0.1, 30, Tm),sol(t, 0.2, 30, Tm),sol(t, 0.3, 30, Tm),sol(t, 0.1, 50, Tm)], t, 0,30)\n",
    "ec1 = sol(1,k,34.22,21) == 34.11\n",
    "ans = solve(ec1, k)\n",
    "k1 = ans[0].rhs()\n",
    "Td = var('Td')\n",
    "ec2 = sol(Td, k1, 36, 21) == 34.22\n",
    "ans2 = find_root(ec2, 0, 24)\n",
    "show(ans2)"
   ]
  },
  {
   "cell_type": "code",
   "execution_count": 88,
   "metadata": {},
   "outputs": [
    {
     "data": {
      "image/png": "[encoded data removed]",
      "text/plain": [
       "Graphics object consisting of 1 graphics primitive"
      ]
     },
     "execution_count": 88,
     "metadata": {},
     "output_type": "execute_result"
    }
   ],
   "source": [
    "reset()\n",
    "t = var('t')\n",
    "x = function('x')(t) \n",
    "x0 = var('x0')\n",
    "r = var('r')\n",
    "k = var('k')\n",
    "eqd = diff(x,t) == r * x * (1-x/k)\n",
    "ans = desolve(eqd, [x,t], [0,x0])\n",
    "ec = ans.log_simplify()\n",
    "# show(ec)\n",
    "\n",
    "sol(t, r, k, x0) = solve(ec,x)[0].rhs()\n",
    "# show(sol)\n",
    "# plot([sol(t, 0.5, 10, 5),sol(t, -0.2, 10, 5), sol(t, 0.2, 10, 20),sol(t,0,10,10)], t, 0, 10)\n",
    "assume(r, 'real')\n",
    "ec1 = sol(2,r, k, 20*10^3) == 40*10^3\n",
    "ans1 = solve(ec1, k)\n",
    "ans2 = ans1[0].rhs()\n",
    "ec3 = sol(3, r, ans2, 20*10^3) == 50 * 10^3\n",
    "ans3 = solve(ec3, r)[0].rhs()\n",
    "ec4 = sol(2,ans3, k, 20*10^3) == 40*10^3\n",
    "ans4 = solve(ec4, k)\n",
    "# show(ans4)\n",
    "rgood = ans3\n",
    "kgood = ans4[0].rhs()\n",
    "# numerical_approx(sol(7, rgood, kgood, 20*10^3))\n",
    "plot(sol(t, rgood, kgood, 20*10^3), t, 0, 10)\n",
    "# sol2(r) = \n",
    "# show(sol2)"
   ]
  },
  {
   "cell_type": "code",
   "execution_count": 97,
   "metadata": {},
   "outputs": [
    {
     "data": {
      "text/html": [
       "<html><script type=\"math/tex; mode=display\">\\newcommand{\\Bold}[1]{\\mathbf{#1}}\\left( x, g, R, v_{0} \\right) \\ {\\mapsto} \\ \\frac{R v_{0}^{2} - R v\\left(x\\right)^{2}}{2 \\, R g - v_{0}^{2} + v\\left(x\\right)^{2}}</script></html>"
      ],
      "text/plain": [
       "(x, g, R, v0) |--> (R*v0^2 - R*v(x)^2)/(2*R*g - v0^2 + v(x)^2)"
      ]
     },
     "metadata": {},
     "output_type": "display_data"
    }
   ],
   "source": [
    "reset()\n",
    "x = var('x')\n",
    "v = function('v')(x)\n",
    "g = var('g')\n",
    "R = var('R')\n",
    "v0 = var('v0')\n",
    "eqd = v * diff(v,x) == -(g*R^2/(x+R)^2)\n",
    "ec = desolve(eqd, [v,x], [0,v0])\n",
    "sol(x, g, R, v0) = solve(ec, x)[0].rhs()\n",
    "show(sol)\n",
    "# sol(x, 9.81, 6371000, 50)"
   ]
  }
 ],
 "metadata": {
  "kernelspec": {
   "display_name": "SageMath 9.1",
   "language": "sage",
   "name": "sagemath"
  },
  "language_info": {
   "codemirror_mode": {
    "name": "ipython",
    "version": 3
   },
   "file_extension": ".py",
   "mimetype": "text/x-python",
   "name": "python",
   "nbconvert_exporter": "python",
   "pygments_lexer": "ipython3",
   "version": "3.7.3"
  }
 },
 "nbformat": 4,
 "nbformat_minor": 2
}
