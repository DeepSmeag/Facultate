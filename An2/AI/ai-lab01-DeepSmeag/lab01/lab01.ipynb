{
 "cells": [
  {
   "attachments": {},
   "cell_type": "markdown",
   "metadata": {},
   "source": [
    "1, 4, 5, 6, 7"
   ]
  },
  {
   "cell_type": "code",
   "execution_count": 2,
   "metadata": {},
   "outputs": [
    {
     "name": "stdout",
     "output_type": "stream",
     "text": [
      "si\n",
      "si\n"
     ]
    }
   ],
   "source": [
    "# 1\n",
    "def ex1V1(st:str):\n",
    "    # theta(nlogn)\n",
    "    s = st.split(\" \")\n",
    "    s.sort(reverse=True)\n",
    "    return s[0]\n",
    "\n",
    "def ex1V2(st:str):\n",
    "    # theta(n)\n",
    "    s = st.split(\" \")\n",
    "    word = s[0]\n",
    "    for i in s:\n",
    "        if i > word:\n",
    "            word = i\n",
    "    return word\n",
    "print(ex1V1(\"Ana are mere rosii si galbene\"))\n",
    "assert ex1V1(\"Ana are mere rosii si galbene\") == \"si\"\n",
    "print(ex1V2(\"Ana are mere rosii si galbene\"))\n",
    "assert ex1V2(\"Ana are mere rosii si galbene\") == \"si\""
   ]
  },
  {
   "cell_type": "code",
   "execution_count": 4,
   "metadata": {},
   "outputs": [],
   "source": [
    "# 4\n",
    "def ex4V1(st:str):\n",
    "    # theta(nlogn)\n",
    "    words = []\n",
    "    s = st.split(\" \")\n",
    "    s.sort()\n",
    "    if(s[0] != s[1]):\n",
    "        words.append(s[0])\n",
    "    for i in range(1, len(s)-1):\n",
    "        if s[i] != s[i-1] and s[i] != s[i+1]:\n",
    "            words.append(s[i])\n",
    "    if(s[len(s)-1] != s[len(s)-2]):\n",
    "        words.append(s[len(s)-1])\n",
    "    return words\n",
    "def ex4V2(st:str):\n",
    "    # theta(n)\n",
    "    # pp accesarea in dict e theta(1) si adaugarea in dict e theta(1)\n",
    "    res = []\n",
    "    d = {}\n",
    "    s = st.split(\" \")\n",
    "    for i in s:\n",
    "        if i in d:\n",
    "            d[i] += 1\n",
    "        else:\n",
    "            d[i] = 1\n",
    "    for i in d:\n",
    "        if d[i] == 1:\n",
    "            res.append(i)\n",
    "    return res\n",
    "# ex4V1(\"Ana are mere rosii si galbene si mere rosii\")\n",
    "assert ex4V1(\"Ana are mere rosii si galbene si mere rosii\") == [\"Ana\", \"are\", \"galbene\"]\n",
    "ex4V2(\"Ana are mere rosii si galbene si mere rosii\")\n",
    "assert ex4V2(\"Ana are mere rosii si galbene si mere rosii\") == [\"Ana\", \"are\", \"galbene\"]"
   ]
  },
  {
   "cell_type": "code",
   "execution_count": 5,
   "metadata": {},
   "outputs": [
    {
     "name": "stdout",
     "output_type": "stream",
     "text": [
      "20\n",
      "20\n"
     ]
    }
   ],
   "source": [
    "# 5\n",
    "def ex5V1(l :list):\n",
    "    # cautare nr\n",
    "    # theta(n) spatiu\n",
    "    # O(n) timp\n",
    "    aparitii = []\n",
    "    for i in range(len(l)):\n",
    "        aparitii.append(0)\n",
    "    for i in l:\n",
    "        aparitii[i] += 1\n",
    "        if(aparitii[i] > 1):\n",
    "            return i\n",
    "def ex5V2(l :list):\n",
    "    # suma actuala - suma 1.n-1\n",
    "    # theta(1) spatiu\n",
    "    # theta(n) timp\n",
    "    s = 0\n",
    "    for i in l:\n",
    "        s += i\n",
    "    return s - (len(l)-1)*(len(l))//2\n",
    "\n",
    "print(ex5V1([1,2,3,4,5,6,7,8,9,10,11,12,13,14,15,16,17,18,19,20,20]))\n",
    "assert ex5V1([1,2,3,4,5,6,7,8,9,10,11,12,13,14,15,16,17,18,19,20,20]) == 20\n",
    "print(ex5V2([1,2,3,4,5,6,7,8,9,10,11,12,13,14,15,16,17,18,19,20,20]))\n",
    "assert ex5V2([1,2,3,4,5,6,7,8,9,10,11,12,13,14,15,16,17,18,19,20,20]) == 20"
   ]
  },
  {
   "cell_type": "code",
   "execution_count": 6,
   "metadata": {},
   "outputs": [
    {
     "name": "stdout",
     "output_type": "stream",
     "text": [
      "2\n",
      "2\n",
      "3\n"
     ]
    }
   ],
   "source": [
    "# 6\n",
    "def ex6V1(l :list):\n",
    "    # dictionar \n",
    "    # O(n) timp\n",
    "    d = {}\n",
    "    for i in l:\n",
    "        if i in d:\n",
    "            d[i] += 1\n",
    "            if(d[i] > len(l)//2):\n",
    "                return i\n",
    "        else:\n",
    "            d[i] = 1\n",
    "def ex6V2(l :list):\n",
    "    # sortare\n",
    "    # theta(nlogn)\n",
    "    l.sort()\n",
    "    if(l[0] == l[len(l)//2]):\n",
    "        return l[0]\n",
    "    if(l[len(l)//2] == l[len(l)-1]):\n",
    "        return l[len(l)-1] \n",
    "    return l[len(l)//2]\n",
    "        \n",
    "print(ex6V1([2,8,7,2,2,5,2,3,1,2,2]))\n",
    "assert ex6V1([2,8,7,2,2,5,2,3,1,2,2]) == 2\n",
    "print(ex6V2([2,8,7,2,2,5,2,3,1,2,2]))\n",
    "assert ex6V2([2,8,7,2,2,5,2,3,1,2,2]) == 2\n",
    "print(ex6V2([1,2,3,2,3,3]))\n",
    "assert ex6V2([1,2,3,2,3,3]) == 3"
   ]
  },
  {
   "cell_type": "code",
   "execution_count": 7,
   "metadata": {},
   "outputs": [
    {
     "name": "stdout",
     "output_type": "stream",
     "text": [
      "8\n",
      "6\n"
     ]
    }
   ],
   "source": [
    "# 7\n",
    "def ex7V1(l :list, k:int):\n",
    "    # theta(nlogn)\n",
    "    l.sort(reverse=True)\n",
    "    return l[k-1]\n",
    "def ex7V2(l :list, k:int):\n",
    "    # O(n^2)\n",
    "    while k > 1 :\n",
    "        m = max(l)\n",
    "        l.remove(m)\n",
    "        k -= 1\n",
    "    return max(l)\n",
    "print(ex7V1([1,2,3,4,5,6,7,8,9,10], 3))\n",
    "assert ex7V1([1,2,3,4,5,6,7,8,9,10], 3) == 8\n",
    "print(ex7V2([1,2,3,4,5,6,7,8,9,10], 5))\n",
    "assert ex7V2([1,2,3,4,5,6,7,8,9,10], 5) == 6"
   ]
  }
 ],
 "metadata": {
  "kernelspec": {
   "display_name": "3.9.12",
   "language": "python",
   "name": "python3"
  },
  "language_info": {
   "codemirror_mode": {
    "name": "ipython",
    "version": 3
   },
   "file_extension": ".py",
   "mimetype": "text/x-python",
   "name": "python",
   "nbconvert_exporter": "python",
   "pygments_lexer": "ipython3",
   "version": "3.9.12"
  },
  "orig_nbformat": 4
 },
 "nbformat": 4,
 "nbformat_minor": 2
}
