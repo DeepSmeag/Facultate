{
 "cells": [
  {
   "cell_type": "code",
   "execution_count": 1254,
   "metadata": {},
   "outputs": [],
   "source": [
    "# Evolutionary algorithm\n",
    "\n",
    "import networkx as nx\n",
    "import numpy as np\n",
    "from pyswarm import pso\n",
    "import matplotlib.pyplot as plt\n",
    "import math\n",
    "from random import randint, uniform\n",
    "import copy\n"
   ]
  },
  {
   "cell_type": "code",
   "execution_count": 1255,
   "metadata": {},
   "outputs": [],
   "source": [
    "def generateNewValue(lim1, lim2):\n",
    "    return uniform(lim1, lim2)\n",
    "\n",
    "\n",
    "def binToInt(x):\n",
    "    val = 0\n",
    "    # x.reverse()\n",
    "    for bit in x:\n",
    "        val = val * 2 + bit\n",
    "    return val\n"
   ]
  },
  {
   "cell_type": "code",
   "execution_count": 1256,
   "metadata": {},
   "outputs": [],
   "source": [
    "from random import randint, seed\n",
    "\n",
    "\n",
    "def generateARandomPermutation(n):\n",
    "    perm = [i for i in range(n)]\n",
    "    for i in range(n):\n",
    "        pos1 = randint(0, n - 1)\n",
    "        pos2 = randint(0, n - 1)\n",
    "        perm[pos1], perm[pos2] = perm[pos2], perm[pos1]\n",
    "    return perm\n",
    "\n",
    "# print(generateARandomPermutation(10))\n",
    "# print(generateARandomPermutation(10))\n",
    "# if we fix the seed, we obtain the same results for all runs\n",
    "# seed(5)\n",
    "# print(generateARandomPermutation(10))\n",
    "# print(generateARandomPermutation(10))"
   ]
  },
  {
   "cell_type": "code",
   "execution_count": 1257,
   "metadata": {},
   "outputs": [],
   "source": [
    "# paths = [\"./data/real/\" + name + \"/\" + name + \".gml\" for name in [\"dolphins\", \"football\", \"karate\", \"krebs\"]]"
   ]
  },
  {
   "cell_type": "code",
   "execution_count": 1258,
   "metadata": {},
   "outputs": [],
   "source": [
    "class Chromosome:\n",
    "    def __init__(self, network, problParam=None):\n",
    "        self.__problParam = problParam\n",
    "        self.__repres = self.init_repres(network)\n",
    "        self.__fitness = 99999\n",
    "\n",
    "    def init_repres(self, network):\n",
    "\n",
    "        mat = network[\"mat\"]\n",
    "\n",
    "        return generateARandomPermutation(len(mat))\n",
    "\n",
    "    @property\n",
    "    def repres(self):\n",
    "        return self.__repres\n",
    "\n",
    "    @property\n",
    "    def fitness(self):\n",
    "        return self.__fitness\n",
    "\n",
    "    @repres.setter\n",
    "    def repres(self, l=[]):\n",
    "        self.__repres = l\n",
    "\n",
    "    @fitness.setter\n",
    "    def fitness(self, fit=0.0):\n",
    "        self.__fitness = fit\n",
    "\n",
    "    def crossover(self, c, network):\n",
    "        \n",
    "        # search for a common point index in the 2 chromosomes\n",
    "        # commonPointIndex = 0\n",
    "        # for index in range(len(self.__repres)):\n",
    "        #     if(self.__repres[index] == c.__repres[index]):\n",
    "        #         commonPointIndex = index\n",
    "        #         break\n",
    "        # c1 = Chromosome(network, self.__problParam)\n",
    "        # c1.__repres = self.__repres\n",
    "        # # from there, switch the values\n",
    "        # for index in range(commonPointIndex, len(self.__repres)):\n",
    "        #     c1.__repres[index] = c.__repres[index]\n",
    "\n",
    "        # find a list of common indexes\n",
    "        commonIndexes = []\n",
    "        for index in range(len(self.__repres)):\n",
    "            if(self.__repres[index] == c.__repres[index]):\n",
    "                commonIndexes.append(index)\n",
    "        # go through these common indexes and switch them around\n",
    "        c1 = Chromosome(network, self.__problParam)\n",
    "        # now do a permutation of the commonIndexes list\n",
    "        permIndexes = generateARandomPermutation(len(commonIndexes))\n",
    "        c1.__repres = self.__repres\n",
    "        for index in range(len(commonIndexes)):\n",
    "            c1.__repres[commonIndexes[index]] = c.__repres[permIndexes[index]]\n",
    "\n",
    "        return c1\n",
    "\n",
    "    def shuffle(self, list: list):\n",
    "        for i in range(len(list) - 1, 0, -1):\n",
    "            j = randint(0, i)\n",
    "            list[i], list[j] = list[j], list[i]\n",
    "        return list\n",
    "\n",
    "    def mutation(self, pm):\n",
    "        \"\"\"\n",
    "        Mutation of a chromosome\n",
    "        :param pm: probability of mutation\n",
    "        \"\"\"\n",
    "        if uniform(0, 1) <= pm:\n",
    "            pos1 = randint(0, len(self.__repres) - 1)\n",
    "            pos2 = randint(0, len(self.__repres) - 1)\n",
    "            if pos1 > pos2:\n",
    "                # switch\n",
    "                pos2, pos1 = pos1, pos2\n",
    "            # print(self.__repres[pos1:pos2])\n",
    "            self.__repres[pos1:pos2] = self.shuffle(self.__repres[pos1:pos2])\n",
    "            # print(self.__repres[pos1:pos2])\n",
    "    def differentFrom(self, c):\n",
    "        for index in range(len(self.__repres)):\n",
    "            if(self.__repres[index] == c.__repres[index]):\n",
    "                return False\n",
    "        return True\n",
    "    def copyRepres(self, c):\n",
    "        for index in range(len(self.__repres)):\n",
    "            self.__repres[index] = c.__repres[index]\n",
    "    def evaluate(self, network):\n",
    "        cost = 0\n",
    "        road = self.__repres\n",
    "        for nodeIndex in range(len(road) - 1):\n",
    "            i = road[nodeIndex]\n",
    "            j = road[(nodeIndex + 1)]\n",
    "            cost += network[\"mat\"][i][j]\n",
    "        cost += network[\"mat\"][0][road[-1]]\n",
    "        return cost\n",
    "    def __str__(self):\n",
    "        return \"\\nChromo: \" + str(self.__repres) + \" has cost: \" + str(self.__fitness)\n",
    "\n",
    "    def __repr__(self):\n",
    "        return self.__str__()\n",
    "\n",
    "    def __eq__(self, c):\n",
    "        return self.__repres == c.__repres and self.__fitness == c.__fitness\n"
   ]
  },
  {
   "cell_type": "code",
   "execution_count": 1259,
   "metadata": {},
   "outputs": [],
   "source": [
    "class GeneticAlgorithm:\n",
    "    def __init__(self, network, param=None, problParam=None):\n",
    "       \n",
    "        self.__param = param\n",
    "        self.__problParam = problParam\n",
    "        self.__population = []\n",
    "        self.__network = network\n",
    "        self.__bestEver = None\n",
    "\n",
    "    def bestEver(self):\n",
    "        return self.__bestEver\n",
    "    @property\n",
    "    def population(self):\n",
    "        \"\"\"\n",
    "        Get method for population\n",
    "        :return: population\n",
    "        \"\"\"\n",
    "        return self.__population\n",
    "\n",
    "    def initialisation(self):\n",
    "        \"\"\"\n",
    "        intialize population\n",
    "        \"\"\"\n",
    "        for _ in range(0, self.__param[\"popSize\"]):\n",
    "            c = Chromosome(self.__network, self.__problParam)\n",
    "            self.__population.append(c)\n",
    "        self.evaluation()\n",
    "        self.__bestEver = Chromosome(self.__network, self.__problParam)\n",
    "        self.__bestEver.copyRepres(self.bestChromosome())\n",
    "\n",
    "    def evaluation(self):\n",
    "        \"\"\"\n",
    "        Population evaluation\n",
    "        \"\"\"\n",
    "        for c in self.__population:\n",
    "            c.fitness = self.__problParam[\"function\"](c.repres, self.__network)\n",
    "\n",
    "    def worstChromosome(self):\n",
    "        \"\"\"\n",
    "        Worst fitness\n",
    "        :return: worst fitness chromosome\n",
    "        \"\"\"\n",
    "        worst = self.__population[0]\n",
    "        for c in self.__population:\n",
    "            if c.fitness > worst.fitness:\n",
    "                worst = c\n",
    "        return worst\n",
    "\n",
    "    def bestChromosome(self):\n",
    "        \"\"\"\n",
    "        Best fitness\n",
    "        :return: best fitness chromosome\n",
    "        \"\"\"\n",
    "        best = self.__population[0]\n",
    "        for c in self.__population:\n",
    "            if c.fitness < best.fitness:\n",
    "                best = c\n",
    "        return best\n",
    "\n",
    "    def selection(self):\n",
    "        \"\"\"\n",
    "        Returns the better chromosome\n",
    "        :return: better chromosome\n",
    "        \"\"\"\n",
    "        # pos1 = randint(0, self.__param[\"popSize\"] - 1)\n",
    "        # pos2 = randint(0, self.__param[\"popSize\"] - 1)\n",
    "        # if self.__population[pos1].fitness < self.__population[pos2].fitness:\n",
    "        #     return pos1\n",
    "        # else:\n",
    "        #     return pos2\n",
    "        # take 20 of the lowest fitness chromosomes\n",
    "        # and select a random one\n",
    "        # code:\n",
    "        # sort the population by fitness\n",
    "        self.__population.sort(key=lambda x: x.fitness)\n",
    "        # take the first 20\n",
    "        pop = self.__population[:20]\n",
    "        # select a random one\n",
    "        pos = randint(0, len(pop) - 1)\n",
    "        return self.__population.index(pop[pos])\n",
    "\n",
    "    def oneGeneration(self):\n",
    "        \"\"\"\n",
    "        Generate chromosomes every new generation\n",
    "        \"\"\"\n",
    "        newPop = []\n",
    "        for _ in range(self.__param[\"popSize\"]):\n",
    "            p1 = self.__population[self.selection()]\n",
    "            p2 = self.__population[self.selection()]\n",
    "            off = p1.crossover(p2, self.__network)\n",
    "            off.mutation(self.__param[\"pm\"])\n",
    "            newPop.append(off)\n",
    "        self.__population = newPop\n",
    "        self.evaluation()\n",
    "\n",
    "    def oneGenerationElitism(self):\n",
    "        \"\"\"\n",
    "        Remain only the best chromosomes - Elitism\n",
    "        \"\"\"\n",
    "        best = self.bestChromosome()\n",
    "        if( best.fitness < self.__bestEver.fitness):\n",
    "            print(\"Found new bestever with fitness: \" , best.fitness)\n",
    "            self.__bestEver.copyRepres(best)\n",
    "            self.__bestEver.fitness = best.fitness\n",
    "        newPop = []\n",
    "        # sort population based on fitness\n",
    "        self.__population.sort(key=lambda x: x.fitness)\n",
    "        for i in range(10):\n",
    "            newPop.append(self.__population[i])\n",
    "        for _ in range(self.__param[\"popSize\"] - 11):\n",
    "            p1 = self.__population[self.selection()]\n",
    "            p2 = self.__population[self.selection()]\n",
    "            off = Chromosome(self.__network, self.__problParam)\n",
    "            off.copyRepres(p1)\n",
    "            off.mutation(self.__param[\"pm\"])\n",
    "            # off = off.crossover(p2, self.__network)\n",
    "            # off.mutation(self.__param[\"pm\"])\n",
    "            # off.evaluate(self.__network)\n",
    "            newPop.append(off)\n",
    "        self.__population = newPop\n",
    "        self.evaluation()\n",
    "\n",
    "    def oneGenerationSteadyState(self):\n",
    "        \"\"\"\n",
    "        Steady State\n",
    "        \"\"\"\n",
    "        for _ in range(self.__param[\"popSize\"]):\n",
    "            p1 = self.__population[self.selection()]\n",
    "            p2 = self.__population[self.selection()]\n",
    "            off = p1.crossover(p2, self.__network)\n",
    "            off.mutation(self.__param[\"pm\"])\n",
    "            off.fitness = self.__problParam[\"function\"](off.repres, self.__network)\n",
    "            worst = self.worstChromosome()\n",
    "            if off.fitness > worst.fitness:\n",
    "                worst = off"
   ]
  },
  {
   "cell_type": "code",
   "execution_count": 1260,
   "metadata": {},
   "outputs": [],
   "source": [
    "def draw_graph(G, communities):\n",
    "\n",
    "    node_groups = []\n",
    "    for item in range(max(communities) + 1):\n",
    "        node_groups.append([])\n",
    "    for node in range(len(communities)):\n",
    "        node_groups[communities[node]].append(node)\n",
    "\n",
    "    # print(node_groups)\n",
    "\n",
    "    color_map = []\n",
    "    nrcommunities = len(node_groups)\n",
    "    colors = [\n",
    "        \"red\",\n",
    "        \"green\",\n",
    "        \"blue\",\n",
    "        \"yellow\",\n",
    "        \"orange\",\n",
    "        \"purple\",\n",
    "        \"pink\",\n",
    "        \"brown\",\n",
    "        \"black\",\n",
    "        \"grey\",\n",
    "    ]\n",
    "    for node in range(len(G.nodes())):\n",
    "        for node_group in range(nrcommunities):\n",
    "            if node in node_groups[node_group]:\n",
    "                color_map.append(colors[node_group])\n",
    "    plt.figure(figsize=(20, 20))\n",
    "    nx.draw_networkx(\n",
    "        G, pos=nx.spring_layout(G), node_color=color_map, with_labels=False\n",
    "    )\n",
    "    # nx.draw(G, pos=nx.spring_layout(G), node_color=color_map, with_labels=False, node_size=500)\n",
    "    # nx.draw_networkx_nodes(G, pos=nx.spring_layout(G), node_color=color_map)\n",
    "    # nx.draw_networkx_edges(G, pos=nx.spring_layout(G), alpha=0.5, edge_color = \"black\")\n",
    "    plt.show()\n",
    "\n",
    "\n",
    "\n",
    "def fitnessRoad(road, network):\n",
    "    # this fitness function is defined as the sum of the costs of the edges the chromosome chose\n",
    "    # the lower the cost, the better the fitness\n",
    "    cost = 0\n",
    "    for nodeIndex in range(len(road) - 1):\n",
    "        i = road[nodeIndex]\n",
    "        j = road[(nodeIndex + 1)]\n",
    "        cost += network[\"mat\"][i][j]\n",
    "    cost += network[\"mat\"][0][road[-1]]\n",
    "    return cost\n"
   ]
  },
  {
   "cell_type": "code",
   "execution_count": 1261,
   "metadata": {},
   "outputs": [],
   "source": [
    "def getDegrees(G):\n",
    "    return [d for n, d in G.degree()]\n",
    "def adapt_numpy_matrix(network):\n",
    "    # for every element in the matrix, if it is 0, it will be replaced with a big value\n",
    "    # this is done because the algorithm will not work with 0 values\n",
    "    for i in range(len(network['mat'])):\n",
    "        for j in range(len(network['mat'][i])):\n",
    "            if network['mat'][i][j] == 0:\n",
    "                network['mat'][i][j] = 99"
   ]
  },
  {
   "cell_type": "code",
   "execution_count": 1262,
   "metadata": {},
   "outputs": [],
   "source": [
    "def do_road(path, gens=50, readFromGML=True):\n",
    "    G = None\n",
    "    noNodes = 0\n",
    "    mat = None\n",
    "    if readFromGML:\n",
    "        G = nx.read_gml(path)\n",
    "        noNodes = len(G.nodes())\n",
    "        mat = nx.to_numpy_array(G)\n",
    "    else:\n",
    "        with open(path, \"r\") as f:\n",
    "            noNodes = int(f.readline())\n",
    "            # read mat as numpy array\n",
    "            mat = np.loadtxt(f, dtype=int, skiprows=0, max_rows=noNodes,delimiter=',')\n",
    "            \n",
    "    # print(costs)\n",
    "\n",
    "    network = {\"noNodes\": noNodes, \"mat\": mat}\n",
    "    if readFromGML:\n",
    "        adapt_numpy_matrix(network)\n",
    "    noGen = gens\n",
    "\n",
    "    # xref = [[utils.generateNewValue(0, numComms - 1) for _ in range(noDim)] for _ in range(0, 1000)]\n",
    "    # xref.sort()\n",
    "    # yref = [fcEval(xi) for xi in xref]\n",
    "\n",
    "    param = {\"popSize\": 100, \"noGen\": noGen, \"pm\": 0.2, \"pc\": 0.5}\n",
    "\n",
    "    problParam = {\"function\": fitnessRoad, \"noDim\": len(network)}\n",
    "\n",
    "    allBestFitnesses = []\n",
    "    allAvgFitnesses = []\n",
    "    generations = []\n",
    "\n",
    "    ga = GeneticAlgorithm(network, param, problParam)\n",
    "    ga.initialisation()\n",
    "    ga.evaluation()\n",
    "\n",
    "    bestChrom = None\n",
    "    fitnessValues = []\n",
    "    for g in range(param[\"noGen\"]):\n",
    "        ga.oneGenerationElitism()\n",
    "        \n",
    "        bestChrom = ga.bestChromosome()\n",
    "        fitnessValues.append(bestChrom.fitness)\n",
    "    bestChrom = ga.bestEver()\n",
    "    bestFitness = bestChrom.fitness\n",
    "    bestChroms = [bestChrom]\n",
    "    for fitIndex in range(len(ga.population)):\n",
    "        if ga.population[fitIndex].fitness == bestFitness and ga.population[fitIndex].differentFrom(bestChrom):\n",
    "            bestChroms.append(ga.population[fitIndex])\n",
    "\n",
    "    plt.plot(fitnessValues)\n",
    "    return bestChroms\n"
   ]
  },
  {
   "cell_type": "code",
   "execution_count": 1263,
   "metadata": {},
   "outputs": [
    {
     "name": "stdout",
     "output_type": "stream",
     "text": [
      "Found new bestever with fitness:  8.0\n"
     ]
    },
    {
     "data": {
      "text/plain": [
       "[\n",
       " Chromo: [7, 5, 1, 2, 0, 6, 3, 4] has cost: 8.0,\n",
       " \n",
       " Chromo: [2, 0, 4, 1, 5, 3, 6, 7] has cost: 8.0,\n",
       " \n",
       " Chromo: [3, 6, 0, 4, 2, 1, 7, 5] has cost: 8.0,\n",
       " \n",
       " Chromo: [0, 6, 4, 1, 2, 3, 7, 5] has cost: 8.0,\n",
       " \n",
       " Chromo: [0, 1, 7, 6, 3, 4, 5, 2] has cost: 8.0,\n",
       " \n",
       " Chromo: [4, 6, 3, 5, 7, 1, 0, 2] has cost: 8.0,\n",
       " \n",
       " Chromo: [6, 0, 4, 1, 2, 3, 7, 5] has cost: 8.0,\n",
       " \n",
       " Chromo: [0, 1, 7, 6, 3, 4, 5, 2] has cost: 8.0,\n",
       " \n",
       " Chromo: [2, 0, 4, 1, 5, 3, 6, 7] has cost: 8.0,\n",
       " \n",
       " Chromo: [0, 2, 4, 1, 5, 3, 6, 7] has cost: 8.0,\n",
       " \n",
       " Chromo: [2, 0, 4, 1, 5, 3, 6, 7] has cost: 8.0,\n",
       " \n",
       " Chromo: [2, 0, 4, 1, 5, 3, 6, 7] has cost: 8.0,\n",
       " \n",
       " Chromo: [4, 0, 3, 6, 7, 2, 1, 5] has cost: 8.0,\n",
       " \n",
       " Chromo: [0, 6, 4, 1, 2, 3, 7, 5] has cost: 8.0,\n",
       " \n",
       " Chromo: [0, 6, 4, 1, 2, 3, 7, 5] has cost: 8.0,\n",
       " \n",
       " Chromo: [2, 0, 4, 1, 5, 3, 6, 7] has cost: 8.0,\n",
       " \n",
       " Chromo: [4, 6, 3, 5, 7, 1, 0, 2] has cost: 8.0,\n",
       " \n",
       " Chromo: [4, 6, 3, 5, 7, 1, 0, 2] has cost: 8.0,\n",
       " \n",
       " Chromo: [0, 6, 4, 1, 2, 3, 7, 5] has cost: 8.0,\n",
       " \n",
       " Chromo: [6, 0, 4, 1, 2, 3, 7, 5] has cost: 8.0,\n",
       " \n",
       " Chromo: [0, 6, 4, 1, 2, 3, 7, 5] has cost: 8.0,\n",
       " \n",
       " Chromo: [0, 1, 7, 6, 3, 4, 5, 2] has cost: 8.0,\n",
       " \n",
       " Chromo: [0, 6, 4, 1, 2, 3, 7, 5] has cost: 8.0,\n",
       " \n",
       " Chromo: [0, 6, 4, 1, 2, 3, 7, 5] has cost: 8.0,\n",
       " \n",
       " Chromo: [0, 6, 4, 1, 2, 3, 7, 5] has cost: 8.0,\n",
       " \n",
       " Chromo: [0, 1, 7, 6, 3, 4, 5, 2] has cost: 8.0,\n",
       " \n",
       " Chromo: [6, 0, 4, 1, 2, 3, 7, 5] has cost: 8.0,\n",
       " \n",
       " Chromo: [0, 1, 7, 6, 3, 4, 5, 2] has cost: 8.0,\n",
       " \n",
       " Chromo: [2, 0, 4, 1, 5, 3, 6, 7] has cost: 8.0,\n",
       " \n",
       " Chromo: [2, 0, 4, 1, 5, 3, 6, 7] has cost: 8.0,\n",
       " \n",
       " Chromo: [2, 0, 4, 1, 5, 3, 6, 7] has cost: 8.0,\n",
       " \n",
       " Chromo: [0, 2, 4, 1, 5, 3, 6, 7] has cost: 8.0,\n",
       " \n",
       " Chromo: [0, 1, 7, 6, 3, 4, 5, 2] has cost: 8.0]"
      ]
     },
     "execution_count": 1263,
     "metadata": {},
     "output_type": "execute_result"
    },
    {
     "data": {
      "image/png": "[encoded data removed]",
      "text/plain": [
       "<Figure size 640x480 with 1 Axes>"
      ]
     },
     "metadata": {},
     "output_type": "display_data"
    }
   ],
   "source": [
    "path = \"./datasets/complete.gml\"\n",
    "do_road(path, 100)"
   ]
  },
  {
   "cell_type": "code",
   "execution_count": 1264,
   "metadata": {},
   "outputs": [
    {
     "name": "stdout",
     "output_type": "stream",
     "text": [
      "Found new bestever with fitness:  10\n"
     ]
    },
    {
     "data": {
      "text/plain": [
       "[\n",
       " Chromo: [3, 2, 1, 0] has cost: 10]"
      ]
     },
     "execution_count": 1264,
     "metadata": {},
     "output_type": "execute_result"
    },
    {
     "data": {
      "image/png": "[encoded data removed]",
      "text/plain": [
       "<Figure size 640x480 with 1 Axes>"
      ]
     },
     "metadata": {},
     "output_type": "display_data"
    }
   ],
   "source": [
    "path = \"./datasets/easy_01_tsp.txt\"\n",
    "do_road(path, 100, False)"
   ]
  },
  {
   "cell_type": "code",
   "execution_count": 1265,
   "metadata": {},
   "outputs": [
    {
     "name": "stdout",
     "output_type": "stream",
     "text": [
      "Found new bestever with fitness:  22\n"
     ]
    },
    {
     "data": {
      "text/plain": [
       "[\n",
       " Chromo: [2, 1, 3, 0] has cost: 22]"
      ]
     },
     "execution_count": 1265,
     "metadata": {},
     "output_type": "execute_result"
    },
    {
     "data": {
      "image/png": "[encoded data removed]",
      "text/plain": [
       "<Figure size 640x480 with 1 Axes>"
      ]
     },
     "metadata": {},
     "output_type": "display_data"
    }
   ],
   "source": [
    "path = \"./datasets/t6.tsp\"\n",
    "do_road(path, 100, False)"
   ]
  },
  {
   "cell_type": "code",
   "execution_count": 1266,
   "metadata": {},
   "outputs": [
    {
     "name": "stdout",
     "output_type": "stream",
     "text": [
      "Found new bestever with fitness:  2096\n",
      "Found new bestever with fitness:  2088\n",
      "Found new bestever with fitness:  2042\n",
      "Found new bestever with fitness:  2037\n",
      "Found new bestever with fitness:  1994\n",
      "Found new bestever with fitness:  1992\n",
      "Found new bestever with fitness:  1979\n",
      "Found new bestever with fitness:  1939\n",
      "Found new bestever with fitness:  1929\n",
      "Found new bestever with fitness:  1928\n",
      "Found new bestever with fitness:  1820\n",
      "Found new bestever with fitness:  1758\n",
      "Found new bestever with fitness:  1738\n",
      "Found new bestever with fitness:  1703\n",
      "Found new bestever with fitness:  1670\n",
      "Found new bestever with fitness:  1575\n",
      "Found new bestever with fitness:  1568\n",
      "Found new bestever with fitness:  1546\n",
      "Found new bestever with fitness:  1536\n",
      "Found new bestever with fitness:  1519\n",
      "Found new bestever with fitness:  1474\n",
      "Found new bestever with fitness:  1473\n",
      "Found new bestever with fitness:  1457\n",
      "Found new bestever with fitness:  1433\n"
     ]
    },
    {
     "data": {
      "text/plain": [
       "[\n",
       " Chromo: [23, 0, 1, 2, 7, 6, 4, 3, 8, 9, 10, 14, 13, 5, 15, 18, 19, 17, 16, 12, 11, 20, 25, 22, 24, 21] has cost: 1433]"
      ]
     },
     "execution_count": 1266,
     "metadata": {},
     "output_type": "execute_result"
    },
    {
     "data": {
      "image/png": "[encoded data removed]",
      "text/plain": [
       "<Figure size 640x480 with 1 Axes>"
      ]
     },
     "metadata": {},
     "output_type": "display_data"
    }
   ],
   "source": [
    "path = \"./datasets/th.tsp\"\n",
    "do_road(path, 100, False)"
   ]
  },
  {
   "cell_type": "code",
   "execution_count": 1267,
   "metadata": {},
   "outputs": [],
   "source": [
    "# create a file that contains a generated directed cost graph\n",
    "def createFile(numNodes):\n",
    "    with open(\"datasets/hard.txt\", \"w\") as f:\n",
    "        f.write(str(numNodes) + \"\\n\")\n",
    "        # generate a random array of costs with numNodes * numNodes elements\n",
    "        costs = np.random.randint(0, 100, size=(numNodes, numNodes))\n",
    "        # write the costs in the file, separated by ,\n",
    "        for i in range(numNodes):\n",
    "            for j in range(numNodes):\n",
    "                f.write(str(costs[i][j]))\n",
    "                if j != numNodes - 1:\n",
    "                    f.write(\",\")\n",
    "            f.write(\"\\n\")\n",
    "    "
   ]
  },
  {
   "cell_type": "code",
   "execution_count": 1268,
   "metadata": {},
   "outputs": [],
   "source": [
    "createFile(150)"
   ]
  },
  {
   "cell_type": "code",
   "execution_count": 1269,
   "metadata": {},
   "outputs": [
    {
     "name": "stdout",
     "output_type": "stream",
     "text": [
      "Found new bestever with fitness:  6733\n",
      "Found new bestever with fitness:  6613\n",
      "Found new bestever with fitness:  6521\n",
      "Found new bestever with fitness:  6514\n",
      "Found new bestever with fitness:  6318\n",
      "Found new bestever with fitness:  6218\n",
      "Found new bestever with fitness:  6212\n",
      "Found new bestever with fitness:  6134\n",
      "Found new bestever with fitness:  5977\n",
      "Found new bestever with fitness:  5964\n",
      "Found new bestever with fitness:  5838\n",
      "Found new bestever with fitness:  5812\n",
      "Found new bestever with fitness:  5741\n",
      "Found new bestever with fitness:  5631\n",
      "Found new bestever with fitness:  5604\n",
      "Found new bestever with fitness:  5574\n",
      "Found new bestever with fitness:  5573\n",
      "Found new bestever with fitness:  5501\n",
      "Found new bestever with fitness:  5419\n",
      "Found new bestever with fitness:  5324\n",
      "Found new bestever with fitness:  5259\n",
      "Found new bestever with fitness:  5252\n",
      "Found new bestever with fitness:  5199\n",
      "Found new bestever with fitness:  5196\n",
      "Found new bestever with fitness:  5186\n",
      "Found new bestever with fitness:  5112\n",
      "Found new bestever with fitness:  5078\n",
      "Found new bestever with fitness:  5068\n",
      "Found new bestever with fitness:  5061\n",
      "Found new bestever with fitness:  5045\n",
      "Found new bestever with fitness:  5039\n",
      "Found new bestever with fitness:  4969\n",
      "Found new bestever with fitness:  4941\n",
      "Found new bestever with fitness:  4891\n",
      "Found new bestever with fitness:  4868\n",
      "Found new bestever with fitness:  4867\n",
      "Found new bestever with fitness:  4833\n"
     ]
    },
    {
     "data": {
      "text/plain": [
       "[\n",
       " Chromo: [24, 139, 65, 9, 22, 2, 53, 7, 43, 51, 10, 114, 12, 98, 14, 6, 49, 54, 18, 15, 56, 125, 59, 135, 74, 0, 106, 52, 117, 104, 45, 67, 116, 141, 122, 62, 108, 143, 16, 29, 81, 47, 121, 50, 148, 84, 75, 23, 8, 111, 147, 76, 128, 88, 90, 89, 57, 124, 66, 48, 20, 113, 138, 31, 41, 58, 80, 133, 83, 120, 70, 102, 130, 103, 3, 97, 28, 137, 109, 126, 140, 36, 55, 35, 33, 26, 132, 27, 34, 86, 79, 145, 96, 40, 134, 105, 63, 69, 11, 93, 100, 110, 127, 44, 119, 82, 99, 101, 129, 136, 123, 71, 85, 46, 73, 4, 17, 39, 77, 118, 144, 91, 146, 21, 78, 38, 115, 72, 149, 142, 68, 64, 112, 95, 94, 131, 87, 32, 37, 1, 19, 5, 25, 107, 61, 60, 13, 42, 92, 30] has cost: 4833]"
      ]
     },
     "execution_count": 1269,
     "metadata": {},
     "output_type": "execute_result"
    },
    {
     "data": {
      "image/png": "[encoded data removed]",
      "text/plain": [
       "<Figure size 640x480 with 1 Axes>"
      ]
     },
     "metadata": {},
     "output_type": "display_data"
    }
   ],
   "source": [
    "path = \"./datasets/hard.txt\"\n",
    "do_road(path, 100, False)"
   ]
  }
 ],
 "metadata": {
  "kernelspec": {
   "display_name": "aiMaterie",
   "language": "python",
   "name": "python3"
  },
  "language_info": {
   "codemirror_mode": {
    "name": "ipython",
    "version": 3
   },
   "file_extension": ".py",
   "mimetype": "text/x-python",
   "name": "python",
   "nbconvert_exporter": "python",
   "pygments_lexer": "ipython3",
   "version": "3.8.16"
  },
  "orig_nbformat": 4
 },
 "nbformat": 4,
 "nbformat_minor": 2
}
