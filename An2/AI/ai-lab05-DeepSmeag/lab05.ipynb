{
 "cells": [
  {
   "cell_type": "markdown",
   "metadata": {},
   "source": [
    "# Lab05 - Invatare automata - metode de evaluare"
   ]
  },
  {
   "cell_type": "markdown",
   "metadata": {},
   "source": [
    "## Obiective\n",
    "\n",
    "- intelegerea problemelor rezolvabile cu metode de învățare automată (regresie și clasificare). \n",
    "- intelegerea măsurilor de evaluare a performanței acestor metode.\n",
    "\n",
    "## Cuvinte cheie\n",
    "- regresie liniara (uni-variata si multi-variata)\n",
    "- clasificare (binara si multi-class)\n",
    "- eroare de predictie\n",
    "- acuratete, precizie, rapel"
   ]
  },
  {
   "cell_type": "markdown",
   "metadata": {},
   "source": [
    "## Aspecte teoretice "
   ]
  },
  {
   "cell_type": "markdown",
   "metadata": {},
   "source": [
    "- Regresie - scopul rezolvarii unei probleme de regresie este predictia unor valori reale. Calitatea predictiei (pe un set de date de control) consta in insumarea diferentelor (absolute sau ridicate la puterea a 2-a) dintre valoarea reala si valoarea prezisa de algoritm.\n",
    "\n",
    "- Clasificare - scopul rezolvarii unei probleme de clasificare este predictia unor valori discrete (etichete). Calitatea predictiei (pe un set de date de control) consta in numararea diferentelor dintre valoarea (eticheta) reala si valoarea (Eticheta) prezisa de algoritm."
   ]
  },
  {
   "cell_type": "markdown",
   "metadata": {},
   "source": [
    "## Exemple (explicatii si demo)"
   ]
  },
  {
   "cell_type": "markdown",
   "metadata": {},
   "source": [
    "### Regression problems\n",
    "\n",
    "\n",
    "<details>\n",
    "  <summary>Remember the theory behind error functions</summary>\n",
    "  \n",
    "In a regression problem, the outputs of a prediction algorithm are represented by real values. \n",
    "For instance, we want to estimate the icecream consumption (in a camp) according to the temperature and the number of children in a camp. This is a single-target regression problem (the target is icecream consumption) with two features (the temperature and the number of children).\n",
    "\n",
    "Suppose that an ML algorithm has provided, for a set of camps (known as set of inputs or set of samples), a set of icecream consumption (known as set of outputs) $computedOutputs$. The real icecream consumption are also known ($realOutputs$). Determine the algorithm's performance.\n",
    "\n",
    "A possible performance measure is given by the prediction error expressed as sum of the distances between the real outputs and the predicted outputs. The distance, for each sample, can be measured as:\n",
    "- the absolute difference  (this is $L_1$ distance):\n",
    "$$Error = \\frac{1}{noSamples} \\times \\sum_{i=1}^{noSamples} |realNoInfections_i - computedNoInfections_i| = Mean Absolute Error (MAE)$$\n",
    "- the square difference (this is the $L_2$ distance):\n",
    "$$Error = \\sqrt{\\frac{1}{noSamples} \\times \\sum_{i=1}^{noSamples} (realNoInfections_i - computedNoInfections_i) ^ 2} = Root Mean Square Error (RMSE)$$ \n",
    "\n",
    "\n",
    "</details>\n"
   ]
  },
  {
   "cell_type": "markdown",
   "metadata": {},
   "source": [
    "#### **Demo1**\n",
    "\n",
    "Consider some real values and some predicted values (obtained by the ML algorithm) and we want ot estimate the error of prediction\n",
    "\n",
    "| Country |\tHappinessScore | PredictedScore |\n",
    "| --- | --- | --- |\n",
    "| Norway | 7.53 | 7.80 |\n",
    "| Denmark | 7.52 | 7.75 |\n",
    "| Iceland | 7.50 | 7.45 |\n",
    "| Switzerland |\t7.49 | 7.60 |\n",
    "| Finland | 7.46 | 7.40 |"
   ]
  },
  {
   "cell_type": "code",
   "execution_count": 1,
   "metadata": {},
   "outputs": [],
   "source": [
    "from math import sqrt\n",
    "import matplotlib.pyplot as plt\n",
    "import numpy as np"
   ]
  },
  {
   "cell_type": "code",
   "execution_count": 2,
   "metadata": {},
   "outputs": [
    {
     "data": {
      "image/png": "[encoded data removed]",
      "text/plain": [
       "<Figure size 640x480 with 1 Axes>"
      ]
     },
     "metadata": {},
     "output_type": "display_data"
    }
   ],
   "source": [
    "# Problem specification:\n",
    "# input: realOutputs, computedOutputs - arrays of the same length containing real numbers\n",
    "# output: error - real value\n",
    "\n",
    "realOutputs = [7.53, 7.52, 7.5, 7.49, 7.46]\n",
    "computedOutputs = [7.8, 7.75, 7.45, 7.6, 7.4]\n",
    "\n",
    "# plot the data\n",
    "indexes = [i for i in range(len(realOutputs))]\n",
    "real, = plt.plot(indexes, realOutputs, 'ro', label = 'real')\n",
    "computed, = plt.plot(indexes, computedOutputs, 'bo', label = 'computed')\n",
    "plt.xlim(-0.5,5)\n",
    "plt.ylim(7, 8)\n",
    "plt.legend([real, (real, computed)], [\"Real\", \"Computed\"])\n",
    "plt.show()\n"
   ]
  },
  {
   "cell_type": "code",
   "execution_count": 3,
   "metadata": {},
   "outputs": [
    {
     "name": "stdout",
     "output_type": "stream",
     "text": [
      "Error (L1):  0.14399999999999977\n",
      "Error (L2):  0.16970562748477128\n"
     ]
    }
   ],
   "source": [
    "\n",
    "# compute the prediction error\n",
    "\n",
    "# MAE\n",
    "errorL1 = sum(abs(r - c) for r, c in zip(realOutputs, computedOutputs)) / len(realOutputs)\n",
    "print('Error (L1): ', errorL1)\n",
    "\n",
    "# RMSE\n",
    "errorL2 = sqrt(sum((r - c) ** 2 for r, c in zip(realOutputs, computedOutputs)) / len(realOutputs))\n",
    "print('Error (L2): ', errorL2)\n"
   ]
  },
  {
   "cell_type": "markdown",
   "metadata": {},
   "source": [
    "### Binary classification problems \n",
    "\n",
    "<details>\n",
    "  <summary>Remember the theory behind error functions</summary>\n",
    "  \n",
    "\n",
    "If we deal by a binary classification problem, the outputs represent some labels. There are possible two labels, only (one for each class or output type). Suppose that class 1 is the positive class, while class 2 is the negative class. For instance, if we want to classify the emails into spam or ham messages, *spam* and *ham* are the two classes. \n",
    "\n",
    "An ML algorithm has provided, for a set of emails (known as set of inputs or set of samples), a set of spam/ham labels (known as set of outputs) $computedOutputs$. The real labels are also known $realOutputs$. Determine the algorithm's performance. \n",
    "\n",
    "Three performance measures are usefull for a classification problem: accuracy, precision, recall. Some pre-computations, enclosed in the confusion matrix are useful: \n",
    "- true positive \n",
    "- false positive\n",
    "- true negative\n",
    "- false negative\n",
    "\n",
    "The confusion matrix has the form: <img src=\"images/cm.png\" width=\"400\">\n",
    "- accuracy represents the overall performance of classification model: \n",
    "$$acc = \\frac{TP + TN}{TP + TN + FP + FN} = \\frac{correc predicted}{no of all samples}$$\n",
    "- precision indicates how accurate the positive predictions are: \n",
    "$$precision = \\frac{TP}{TP+FP}$$\n",
    "- recall indicates the coverage of actual positive sample: \n",
    "$$recall = \\frac{TP}{TP+FN}$$\n",
    "\n",
    "</details>\n"
   ]
  },
  {
   "cell_type": "markdown",
   "metadata": {},
   "source": [
    "#### **Demo2.1**\n",
    "\n",
    "Consider a set of emails, **half** of them being good ones (ham) and the others not (spam). We obtained the predicted labels by using an ML agorithm (obtained by the ML algorithm) and we want ot estimate the quality of prediction.\n",
    "\n",
    "| email |\tRealLabel | PredictedLabel |\n",
    "| --- | --- | --- |\n",
    "| FreeMsg Hey there darling it's been 3 week's now and no word back! I'd like some fun you up for it still? Tb ok! XxX std chgs to send, å£1.50 to rcv | spam | spam |\n",
    "| Had your mobile 11 months or more? U R entitled to Update to the latest colour mobiles with camera for Free! Call The Mobile Update Co FREE on 08002986030  | spam | ham |\n",
    "| I'm gonna be home soon and i don't want to talk about this stuff anymore tonight, k? I've cried enough today   | ham | ham |\n",
    "| I've been searching for the right words to thank you for this breather. I promise i wont take your help for granted and will fulfil my promise. You have been wonderful and a blessing at all times  | ham | spam |\n",
    "| XXXMobileMovieClub: To use your credit, click the WAP link in the next txt message or click here>> http://wap. xxxmobilemovieclub.com?n=QJKGIGHJJGCBL  | spam | spam |\n",
    "| I'm back &amp; we're packing the car now, I'll let you know if there's room | ham | ham |"
   ]
  },
  {
   "cell_type": "code",
   "execution_count": 4,
   "metadata": {},
   "outputs": [],
   "source": [
    "# packages required\n",
    "\n",
    "from math import sqrt\n",
    "import matplotlib.pyplot as plt\n",
    "import numpy as np"
   ]
  },
  {
   "cell_type": "code",
   "execution_count": 5,
   "metadata": {},
   "outputs": [
    {
     "name": "stdout",
     "output_type": "stream",
     "text": [
      "acc:  0.6666666666666666  precision:  [0.66666667 0.66666667]  recall:  [0.66666667 0.66666667]\n"
     ]
    }
   ],
   "source": [
    "# consider some real labels and some predicted labels (obtained by the ML algorithm - a classifier)\n",
    "# we want ot estimate the error of prediction (classification)\n",
    "\n",
    "# Problem specification:\n",
    "# input: realLabels, computedLabels - arrays of the same length containing binary labels (some discrete values)\n",
    "# output: accuracy, precision, recall - real values in range [0,1]\n",
    "\n",
    "\n",
    "# a balanced data set (each class containes the same numer of samples)\n",
    "\n",
    "realLabels =        ['spam', 'spam', 'ham', 'ham', 'spam', 'ham']\n",
    "computedLabels =    ['spam', 'ham', 'ham', 'spam', 'spam', 'ham']\n",
    "\n",
    "\n",
    "\n",
    "# suppose that 'spam' is the positive class (and 'ham' is the negative class)\n",
    "# compute the prediction performance\n",
    "\n",
    "# version 1 - using the sklearn functions\n",
    "def evalClassificationV1(realLabels, computedLabels, labelNames):\n",
    "    from sklearn.metrics import confusion_matrix, accuracy_score, precision_score, recall_score\n",
    "\n",
    "    cm = confusion_matrix(realLabels, computedLabels, labels = labelNames)\n",
    "    acc = accuracy_score(realLabels, computedLabels)\n",
    "    precision = precision_score(realLabels, computedLabels, average = None, labels = labelNames)\n",
    "    recall = recall_score(realLabels, computedLabels, average = None, labels = labelNames)\n",
    "    return acc, precision, recall \n",
    "\n",
    "# version 2 - native code\n",
    "def evalClassificationV2(realLabels, computedLabels, pos, neg):\n",
    "    # noCorrect = 0\n",
    "    # for i in range(0, len(realLabels)):\n",
    "    #     if (realLabels[i] == computedLabels[i]):\n",
    "    #         noCorrect += 1\n",
    "    # acc = noCorrect / len(realLabels)\n",
    "    acc = sum([1 if realLabels[i] == computedLabels[i] else 0 for i in range(0, len(realLabels))]) / len(realLabels)\n",
    "\n",
    "    # TP = 0\n",
    "    # for i in range(0, len(realLabels)):\n",
    "    #     if (realLabels[i] == 'spam' and computedLabels[i] == 'spam'):\n",
    "    #         TP += 1\n",
    "    TP = sum([1 if (realLabels[i] == pos and computedLabels[i] == pos) else 0 for i in range(len(realLabels))])\n",
    "    FP = sum([1 if (realLabels[i] == neg and computedLabels[i] == pos) else 0  for i in range(len(realLabels))])\n",
    "    TN = sum([1 if (realLabels[i] == neg and computedLabels[i] == neg) else 0 for i in range(len(realLabels))])\n",
    "    FN = sum([1 if (realLabels[i] == pos and computedLabels[i] == neg) else 0  for i in range(len(realLabels))])\n",
    "\n",
    "    precisionPos = TP / (TP + FP)\n",
    "    recallPos = TP / (TP + FN)\n",
    "    precisionNeg = TN / (TN + FN)\n",
    "    recallNeg = TN / (TN + FP)\n",
    "\n",
    "    return acc, precisionPos, precisionNeg, recallPos, recallNeg\n",
    "    \n",
    "acc, prec, recall = evalClassificationV1(realLabels, computedLabels, ['spam', 'ham'])\n",
    "\n",
    "# acc, prec, recall = evalClassificationV2(realLabels, computedLabels, 'spam', 'ham')\n",
    "\n",
    "print('acc: ', acc, ' precision: ', prec, ' recall: ', recall)"
   ]
  },
  {
   "cell_type": "markdown",
   "metadata": {},
   "source": [
    "#### **Demo2.2**\n",
    "\n",
    "Consider a set of persons and their tests against COVID. We have the PCR-test results (infected vs. normal) and those obtained by an ML algorithms. We want to estimate the quality of ML prediction.\n",
    "\n",
    "**Note: just a few people were detected as infected by the PCR-test!!! Hppy us!** :smile:\n",
    "\n",
    "| Person |\tRealLabel | PredictedLabel |\n",
    "| --- | --- | --- |\n",
    "| person01 | infected | infected |\n",
    "| person02 | infected | infected |\n",
    "| person03 | infected | normal |\n",
    "..."
   ]
  },
  {
   "cell_type": "code",
   "execution_count": 6,
   "metadata": {},
   "outputs": [
    {
     "name": "stdout",
     "output_type": "stream",
     "text": [
      "acc:  0.8  precision:  [0.66666667 0.83333333]  recall:  [0.5        0.90909091]\n"
     ]
    }
   ],
   "source": [
    "# consider some real labels and some predicted labels (obtained by the ML algorithm - a classifier)\n",
    "# we want ot estimate the error of prediction (classification)\n",
    "\n",
    "# Problem specification:\n",
    "# input: realLabels, computedLabels - arrays of the same length containing binary labels (some discrete values)\n",
    "# output: accuracy, precision, recall - real values in range [0,1]\n",
    "\n",
    "# an unbalanced data set (the numer of samples from each class are not uniform distributed)\n",
    "\n",
    "realLabels =        ['infected', 'infected', 'infected', 'infected', 'normal', 'normal', 'normal', 'normal', 'normal','normal', 'normal', 'normal', 'normal', 'normal', 'normal']\n",
    "computedLabels =    ['infected', 'infected', 'normal', 'normal', 'normal', 'normal','normal', 'normal', 'normal', 'normal', 'normal', 'normal', 'normal', 'normal', 'infected']\n",
    "\n",
    "acc, prec, recall = evalClassificationV1(realLabels, computedLabels, ['infected', 'normal'])\n",
    "# acc, prec, recall = evalClassificationV2(realLabels, computedLabels, 'infected', 'normal')\n",
    "\n",
    "print('acc: ', acc, ' precision: ', prec, ' recall: ', recall)\n"
   ]
  },
  {
   "cell_type": "markdown",
   "metadata": {},
   "source": [
    "### Binary classification and probabilities\n",
    "\n",
    "<details>\n",
    "  <summary>Remember the theory behind </summary>\n",
    " \n",
    "\n",
    "What happens if the classification algorithm's **outputs represents probabilities** <img src=\"images/binClassProb.png\" width=\"200\">\n",
    "\n",
    "In this case, for each sample, $noClasses$ probabilities are computed (such as the summ of probabilities for a sample is 1). Remember that in the case of a binary classification problems ($noClasses$ = 2)\n",
    "\n",
    "$$computedOutputs = [(p_{11}, p_{12}), (p_{21}, p_{22}), ..., (p_{n1}, p_{n2})]$$\n",
    "\n",
    "where $p_{ij}$ is the probability that the sample $i$ belongs to class $j$ and $n$ is the number of samples\n",
    "\n",
    "The corresponding label is indicated by the largest probability\n",
    "\n",
    "$$computedLabels = [argmax(p_{1j}), argmax(p_{2j}), ..., argmax(p_{nj}),$$ \n",
    "\n",
    "where $j \\in \\{1, 2, .., noClasses\\}$\n",
    "\n",
    "</details>\n"
   ]
  },
  {
   "cell_type": "markdown",
   "metadata": {},
   "source": [
    "#### **Demo3**\n",
    "\n",
    "Consider a set of emails, **half** of them being good ones (ham) and the others not (spam). We obtained the predicted outputs by using an ML agorithm and we want ot estimate the quality of prediction. The predicted outputs represent real values and not labels. In fact they are the probabilities associated to these labels. \n"
   ]
  },
  {
   "cell_type": "code",
   "execution_count": 7,
   "metadata": {},
   "outputs": [
    {
     "name": "stdout",
     "output_type": "stream",
     "text": [
      "acc:  0.3333333333333333  precision:  [0.33333333 0.33333333]  recall:  [0.33333333 0.33333333]\n"
     ]
    }
   ],
   "source": [
    "# consider some real labels and, instead of some predicted labels, we have some values (real values representing probabilities asscoaited to our labels) (obtained by the ML algorithm - a classifier)\n",
    "# we want ot estimate the error of prediction (classification)\n",
    "# reconsider the problem of emails' classification (spam vs ham)\n",
    "\n",
    "# Problem specification:\n",
    "# input: realLabels, computedOutputs - arrays of the same length containing labels (some discrete values) and real values, respectively\n",
    "# output: accuracy, precision, recall - real values in range [0,1]\n",
    "\n",
    "\n",
    "# if the rawOutputs of the ML algorithms are probabilities (not labels)\n",
    "realLabels =        ['spam', 'spam', 'ham', 'ham', 'spam', 'ham']\n",
    "computedOutputs = [ [0.7, 0.3], [0.2, 0.8], [0.4, 0.6], [0.9, 0.1], [0.7, 0.3], [0.4, 0.6]]\n",
    "# computedLabels have to be  ['spam', 'ham', 'ham', 'spam', 'spam', 'ham']\n",
    "\n",
    "# step1: transform the raw outputs into labels\n",
    "\n",
    "# version 1 - native code\n",
    "# computedLabels = []\n",
    "# labelNames = list(set(realLabels))\n",
    "# for p in computedOutputs:\n",
    "#     probMaxPos = p.index(max(p))\n",
    "#     label = labelNames[probMaxPos]\n",
    "#     computedLabels.append(label)\n",
    "\n",
    "# version 2 - by using NumPy library\n",
    "\n",
    "labelNames = list(set(realLabels))\n",
    "computedLabels = [labelNames[np.argmax(p)] for p in computedOutputs]\n",
    "\n",
    "# step2: compute the performance\n",
    "acc, prec, recall = evalClassificationV1(realLabels, computedLabels, ['spam', 'ham'])\n",
    "\n",
    "print('acc: ', acc, ' precision: ', prec, ' recall: ', recall)\n"
   ]
  },
  {
   "cell_type": "markdown",
   "metadata": {},
   "source": [
    "## Temă"
   ]
  },
  {
   "cell_type": "markdown",
   "metadata": {},
   "source": [
    "\n",
    "1. sa se determine eroarea de predictie în cazul unei regresii multi-target: pe baza unor date de intrare (precum numarul de ridicari, sarituri, etc.) se doreste predicatia greutatii, taliei si pulsului persoanei care a realizat exrcitiile. Un algoritm de ML a prezis aceste valori. Se doreste calcularea calitatii acestor predictii. A se consulta datele din fisierul \"sport.csv\". \n",
    "\n",
    "<details>\n",
    "  <summary>Remember</summary>\n",
    "  \n",
    "\n",
    "> * Single-target regression: y = f(x1, x2, ..,xD) - a single real value is predicted based on D features (x1, x2, ..., xD) of an example\n",
    "> * Multi-target regression: (y1,y2, ..., yk) = [f1(x1, x2, ..,xD), f2(x1, x2, ..,xD), ..., fk(x1, x2, ..,xD)] - more real values are predicted based on D features (x1, x2, ..., xD) of an example\n",
    "\n",
    "> Problem specification:\n",
    "\n",
    "> * input: realOutputss, computedOutputss - $k$-dimensional arrays of the same length containing real values (two matrix of $k \\times noSamples$ elements, $k$ = number of output targets, $noSamples$ = no of samples/exampeles)\n",
    "\n",
    "> * output: prediction error - real value\n",
    "\n",
    "> Utilitate: <img src=\"images/objectDetection.png\" width=\"250\">\n",
    "\n",
    "> * de exemplu in cazul unui detector de obiecte in imagini (de exemplu detectorul Yolo): fiind date imagini cu diferite animale, sa se identifice unde apare animalul in fiecare imagine. In acest caz, localizarea obiectului poate fi reprezentata printr-un chenar ($bounding$ $box$). Deci algoritmul va trebui sa prezica coordonatele a 2 colturi opuse ale chenarului sau coordonatele unui colt, lungimea si latimea chenarului. \n",
    "\n",
    "</details>\n"
   ]
  },
  {
   "cell_type": "code",
   "execution_count": 8,
   "metadata": {},
   "outputs": [],
   "source": [
    "import pandas as pd\n",
    "import numpy as np\n",
    "# get data from sports.csv\n",
    "df = pd.read_csv('sports.csv')"
   ]
  },
  {
   "cell_type": "code",
   "execution_count": 9,
   "metadata": {},
   "outputs": [],
   "source": [
    "# split based on first 3 and last 3 columns\n",
    "y = df.iloc[:, 0:3]\n",
    "yhat = df.iloc[:, 3:6]\n",
    "\n",
    "# turn them to numpy arrays\n",
    "y = y.values\n",
    "yhat = yhat.values"
   ]
  },
  {
   "cell_type": "code",
   "execution_count": 10,
   "metadata": {},
   "outputs": [
    {
     "name": "stdout",
     "output_type": "stream",
     "text": [
      "68\n",
      "43.35\n"
     ]
    }
   ],
   "source": [
    "def error(yline, yhatline):\n",
    "    # return np.sum(np.abs(yline - yhatline))\n",
    "    return np.sum((yline - yhatline)**2)\n",
    "# other options include taking the square root of that (for normalization)\n",
    "print(error(y[0], yhat[0]))\n",
    "\n",
    "def loss(y, yhat):\n",
    "    # return np.sum(np.sum(abs(y - yhat)))\n",
    "    # we can also do MSE\n",
    "    return (np.sum((y - yhat)**2)) / len(y)\n",
    "print(loss(y, yhat))"
   ]
  },
  {
   "cell_type": "markdown",
   "metadata": {},
   "source": [
    "\n",
    "2. sa se determine acuratetea, precizia, rapelul în cazul unei clasificări multi-class: pe baza unor masuratori ale petalelor si sepalelor, se doreste predictia tipului de floare intr-un din clasele Daisy, Tulip, Rose. Se doreste calcularea calitatii acestor predictii. A se consulta datele din fisierul \"flowers.csv\". \n",
    "\n",
    "<details>\n",
    "  <summary>Remember</summary>\n",
    "  \n",
    "> * Binary classification: y = f(x1, x2, ..,xD) - a single binary label (y) is predicted based on D features (x1, x2, ..., xD) of an example\n",
    "\n",
    "> * Multi-class classification: y = f(x1, x2, ..,xD) - a single label (from a particular set of possible labels whose size > 2) is predicted based on D features (x1, x2, ..., xD) of an example\n",
    "\n",
    "> Problem specification:\n",
    "\n",
    "> * input: realLabels, computedLabels - one-dimensional arrays of the same length containing labels (two arrays of $noSamples$ labels from ${label_1, label_2, \\ldots, label_C}$, $noSamples$ = no of samples/exampeles)\n",
    "\n",
    "> * output: prediction quality expressed by accuracy, precison and recall.\n",
    "\n",
    "> Utilitate: <img src=\"images/multiClass.png\" width=\"100\">\n",
    "\n",
    "> * in clasificarea cifrelor scrise de mana avem 10 clase (cate o clasa pentru fiecare cifra), \n",
    "> * clasificarea tipurilor de obstacole in trafic (clasa pietonilor, clasa biciclistilor, clasa semnelor de circulatie, etc.)\n",
    "\n",
    "</details>"
   ]
  },
  {
   "cell_type": "code",
   "execution_count": 11,
   "metadata": {},
   "outputs": [],
   "source": [
    "# read date from flowers.csv\n",
    "df = pd.read_csv('flowers.csv')\n",
    "dfcopy = df.copy()"
   ]
  },
  {
   "cell_type": "code",
   "execution_count": 1,
   "metadata": {},
   "outputs": [
    {
     "name": "stderr",
     "output_type": "stream",
     "text": [
      "\n",
      "KeyboardInterrupt\n",
      "\n"
     ]
    }
   ],
   "source": [
    "# do one-hot encoding for the 3 classes\n",
    "df = pd.get_dummies(df, columns=['Type', 'PredictedType'])\n",
    "yhat = df.iloc[:, 0:3]\n",
    "y = df.iloc[:, 3:6]\n",
    "y = y.values\n",
    "yhat = yhat.values\n"
   ]
  },
  {
   "cell_type": "code",
   "execution_count": 13,
   "metadata": {},
   "outputs": [
    {
     "name": "stdout",
     "output_type": "stream",
     "text": [
      "23.025850929940457\n",
      "414.46531673812825\n"
     ]
    }
   ],
   "source": [
    "# turn them to numpy arrays\n",
    "\n",
    "\n",
    "# do cross entropy loss for a line\n",
    "def crossEntropyLoss(yline, yhatline):\n",
    "    return -np.sum(yline * np.log(yhatline + 1e-10))\n",
    "print(crossEntropyLoss(y[1], yhat[1]))\n",
    "\n",
    "# do cross entropy loss for the whole dataset\n",
    "def crossEntropyLoss(y, yhat):\n",
    "    return -np.sum(y * np.log(yhat + 1e-10))\n",
    "print(crossEntropyLoss(y, yhat))"
   ]
  },
  {
   "cell_type": "code",
   "execution_count": 14,
   "metadata": {},
   "outputs": [
    {
     "name": "stdout",
     "output_type": "stream",
     "text": [
      "acc:  0.3076923076923077  precision:  [0.36363636 0.25       0.28571429]  recall:  [0.36363636 0.25       0.28571429]\n"
     ]
    }
   ],
   "source": [
    "# calculate accuracy, precision and recall\n",
    "# evalClassificationV1(y, yhat, ['Daisy', 'Rose', 'Tulip'])\n",
    "reallabels = dfcopy['PredictedType'].values\n",
    "computedlabels = dfcopy['Type'].values\n",
    "acc, prec, recall = evalClassificationV1(reallabels, computedlabels, ['Daisy', 'Rose', 'Tulip'])\n",
    "print('acc: ', acc, ' precision: ', prec, ' recall: ', recall)\n"
   ]
  },
  {
   "attachments": {},
   "cell_type": "markdown",
   "metadata": {},
   "source": [
    "### Accuracy\n",
    "\n",
    "the percentage of correctly classified samples\n",
    "\n",
    "### Precizie\n",
    "\n",
    "the percentage of positive classified samples from the ones that were classified as positive\n",
    "= TP / (TP + FP)\n",
    "\n",
    "### Rapel = recall\n",
    "\n",
    "the percentage of positive classified samples from the ones that were GT positive\n",
    "= TP / (TP + FN)"
   ]
  },
  {
   "cell_type": "markdown",
   "metadata": {},
   "source": [
    "\n",
    "## Temă opțională \n",
    "\n"
   ]
  },
  {
   "cell_type": "markdown",
   "metadata": {},
   "source": [
    "\n",
    "- sa se determine loss-ul (funcția de cost) în cazul problemelor de regresie \n",
    "- sa se determine loss-ul (funcția de cost) în cazul problemelor de clasificare binară cu output de tip probabilistic <img src=\"images/binClassProb.png\" width=\"200\">\n",
    "    - outputul clasificatorului este reprezentat ca o matrice cu $noSamples \\times 2$ valori reale subunitare; \n",
    "    - fiecare linie are suma elementelor 1, elementele reprezentand probabilitatile prezise pt fiecare din cele 2 clase).\n",
    "\n"
   ]
  }
 ],
 "metadata": {
  "file_extension": ".py",
  "interpreter": {
   "hash": "e9dc543f66030a8dac45661f55ca2fb15f567084184f0424c1f0b6ed578c96be"
  },
  "kernelspec": {
   "display_name": "Python 3.7.2 64-bit ('myenv': venv)",
   "name": "python3"
  },
  "language_info": {
   "codemirror_mode": {
    "name": "ipython",
    "version": 3
   },
   "file_extension": ".py",
   "mimetype": "text/x-python",
   "name": "python",
   "nbconvert_exporter": "python",
   "pygments_lexer": "ipython3",
   "version": "3.8.16"
  },
  "mimetype": "text/x-python",
  "name": "python",
  "npconvert_exporter": "python",
  "orig_nbformat": 2,
  "pygments_lexer": "ipython3",
  "version": 3
 },
 "nbformat": 4,
 "nbformat_minor": 2
}
