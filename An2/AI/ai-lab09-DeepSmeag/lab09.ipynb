{
 "cells": [
  {
   "attachments": {},
   "cell_type": "markdown",
   "metadata": {},
   "source": [
    "# Probleme de clasificare folosind ANN <img src=\"images/ann.jpeg\" width=\"150\">\n"
   ]
  },
  {
   "attachments": {},
   "cell_type": "markdown",
   "metadata": {},
   "source": [
    "\n",
    "## Obiective\n",
    "* rezolvarea unei probleme de clasificare multi-clasa (metoda bazata pe $softmax$)\n",
    "* folosirea unor algoritmi ne-liniari bazati pe retele neuronale (parametrii unei retele)\n",
    "* normalizarea datelor (atributelor datelor)\n",
    "\n",
    "## Cuvinte cheie:\n",
    "* date de antrenare si date de testare \n",
    "* atribute/catacteristici ale datelor\n",
    "* etichete ale datelor\n",
    "* normalizare date \n",
    "* model de clasificare ne-liniar\n",
    "* arhitectura (inputs, weights, ) si parametrii unei retele neuronale\n",
    "* acuratetea, precizia si rapelul clasificarii\n"
   ]
  },
  {
   "attachments": {},
   "cell_type": "markdown",
   "metadata": {},
   "source": [
    "## Aspecte teoretice"
   ]
  },
  {
   "attachments": {},
   "cell_type": "markdown",
   "metadata": {},
   "source": [
    "Detalii despre ANN \n",
    "* parametrii \n",
    "    - layers - configuration of the multilayer perceptron layers (array of numbers where every number represents the number of neurons in specific layer).\n",
    "    - max_iterations (no epochs) - this is the maximum number of iterations that gradient descent algorithm will use to find the minimum of a cost function. Low numbers may prevent gradient descent from reaching the minimum. High numbers will make the algorithm work longer without improving its accuracy.\n",
    "    - Optional: regularization_param - parameter that will fight overfitting. The higher the parameter, the simplier is the model will be.\n",
    "    \n",
    "* structura (layere in, out, hiddent)\n",
    "* cum arata layerul de input (in fc de problema ce trebuie rezolvata si feature-urile folosite; nrNeuroni = nrFeatures)\n",
    "* cum arata layerul de output (pt o probl de clasificare cu k clase, softmax)\n"
   ]
  },
  {
   "attachments": {},
   "cell_type": "markdown",
   "metadata": {},
   "source": [
    "### Formalizare problema de clasificare multiclasa: <img src=\"images/softmax.jpg\" width=\"200\">"
   ]
  },
  {
   "attachments": {},
   "cell_type": "markdown",
   "metadata": {},
   "source": [
    "#### **One vs. all** multi-class classification\n"
   ]
  },
  {
   "attachments": {},
   "cell_type": "markdown",
   "metadata": {},
   "source": [
    "\n",
    "<details>\n",
    "  <summary>Remember the theory behind **One vs. all** </summary>\n",
    "\n",
    "\n",
    "* **One vs. all** provides a way to leverage binary classification. Given a classification problem with $noClasses$ possible solutions, a one-vs.-all solution consists of $noClasses$ separate binary classifiers—one binary classifier for each possible outcome. During training, the model runs through a sequence of binary classifiers, training each to answer a separate classification question. For example, given five possible classes (apple, bear, candy, dog, egg) and a picture of a dog, five different recognizers might be trained, four seeing the image as a negative example (not a dog) and one seeing the image as a positive example (a dog). That is:\n",
    "    - Is this image an apple? No.\n",
    "    - Is this image a bear? No.\n",
    "    - Is this image candy? No.\n",
    "    - Is this image a dog? Yes.\n",
    "    - Is this image an egg? No.\n",
    "\n",
    "\n",
    "<img src=\"images/OneVsAll.svg\" width=\"200\">\n",
    "\n",
    "This approach is fairly reasonable when the total number of classes is small, but becomes increasingly inefficient as the number of classes rises\n",
    "\n",
    "</details>\n"
   ]
  },
  {
   "attachments": {},
   "cell_type": "markdown",
   "metadata": {},
   "source": [
    "#### Softmax multi-class classification"
   ]
  },
  {
   "attachments": {},
   "cell_type": "markdown",
   "metadata": {},
   "source": [
    "\n",
    "* **Softmax** Recall that logistic regression produces a decimal between 0 and 1.0 $sigmoid(val) = \\frac{1}{1 + e^{-val}}$. For example, a logistic regression output of 0.8 from an email classifier suggests an 80% chance of an email being spam and a 20% chance of it being not spam. Clearly, the sum of the probabilities of an email being either spam or not spam is 1.0. Softmax extends this idea into a multi-class world. That is, Softmax assigns decimal probabilities to each class in a multi-class problem. Those decimal probabilities must add up to 1.0. This additional constraint helps training converge more quickly than it otherwise would. For example, returning to the image analysis, Softmax might produce the following likelihoods of an image belonging to a particular class:\n",
    "\n",
    "| Class\t| Probability |\n",
    "| :---: | :---------: |\n",
    "| apple\t| 0.001 |\n",
    "| bear\t| 0.04 |\n",
    "| candy\t| 0.008 |\n",
    "| dog\t| 0.95 |\n",
    "| egg\t| 0.001 |\n",
    "\n",
    "Softmax is implemented through a neural network layer just before the output layer. The Softmax layer must have the same number of nodes as the output layer.\n",
    "\n",
    "<img src=\"images/SoftmaxLayer.svg\" width=\"200\">\n",
    "\n",
    "The Softmax equation is as follows:\n",
    "\n",
    "$$softmax(val_i) = \\frac{e^{val_i}}{\\sum_{j=1}^{noClasses}{e^{val_j}}}$$\n"
   ]
  },
  {
   "attachments": {},
   "cell_type": "markdown",
   "metadata": {},
   "source": [
    "## Exemple"
   ]
  },
  {
   "attachments": {},
   "cell_type": "markdown",
   "metadata": {},
   "source": [
    "### Demo1 - clasificare multi-class"
   ]
  },
  {
   "attachments": {},
   "cell_type": "markdown",
   "metadata": {},
   "source": [
    "####\tProblema: Ce fel de floare preferi?\n",
    "\n",
    "Se consideră, din nou, problema clasificării florilor de iris în diferite specii precum: setosa, versicolor și virginica. Pentru fiecare floare se cunosc caracteristici precum: lungimea și lățimea sepalei, lungimea și lățimea petalei. Mai multe detalii despre acest set se pot găsi la [link](https://archive.ics.uci.edu/ml/datasets/Iris). Folosindu-se aceste informații, să se decidă din ce specie aparține o anumită floare. \n",
    "\n",
    "Să se rezolve problema, implementându-se rutine pentru clasificarea multi-clasă folosind rețele neuronale artificiale (cu tool).\n"
   ]
  },
  {
   "attachments": {},
   "cell_type": "markdown",
   "metadata": {},
   "source": [
    "#### Metodologie pentru a aplica o ANN (in fapt, un MLP) cu o anumita arhitectura pe setul de date iris (3 clase)\n",
    "    \n",
    "* step1: load data (iris data and all features) \n",
    "* step2: impartire pe train si test; normalizare; analiza distributiei datelor pe clase - pt a verifica daca e echilibrat setul de train\n",
    "* step3: invatare model (cu tool neural_network.MLPClassifier() -- [link](https://scikit-learn.org/stable/modules/neural_networks_supervised.html))\n",
    "    - exemplificare cu model posibil ne-liniar (ANN)\n",
    "* step4: testare model, plot rezultate, forma outputului si interpretarea lui\n",
    "* step5: calcul metrici de performanta (acc)\n"
   ]
  },
  {
   "cell_type": "code",
   "execution_count": 1,
   "metadata": {},
   "outputs": [],
   "source": [
    "from sklearn.preprocessing import StandardScaler\n",
    "import numpy as np \n",
    "from sklearn import neural_network\n",
    "import matplotlib.pyplot as plt \n",
    "from sklearn import neural_network\n",
    "from sklearn import linear_model\n"
   ]
  },
  {
   "attachments": {},
   "cell_type": "markdown",
   "metadata": {},
   "source": [
    "#### Pasul 1: inspectarea datelor"
   ]
  },
  {
   "cell_type": "code",
   "execution_count": 2,
   "metadata": {},
   "outputs": [
    {
     "name": "stdout",
     "output_type": "stream",
     "text": [
      "['setosa' 'versicolor' 'virginica']\n",
      "[5.1, 1.4] [7.0, 4.7] [6.7, 5.2]\n",
      "0 1 2\n"
     ]
    }
   ],
   "source": [
    "# step1: load the data\n",
    "\n",
    "def loadIrisData():\n",
    "    from sklearn.datasets import load_iris\n",
    "\n",
    "    data = load_iris()\n",
    "    inputs = data['data']\n",
    "    outputs = data['target']\n",
    "    outputNames = data['target_names']\n",
    "    featureNames = list(data['feature_names'])\n",
    "    feature1 = [feat[featureNames.index('sepal length (cm)')] for feat in inputs]\n",
    "    feature2 = [feat[featureNames.index('petal length (cm)')] for feat in inputs]\n",
    "    inputs = [[feat[featureNames.index('sepal length (cm)')], feat[featureNames.index('petal length (cm)')]] for feat in inputs]    \n",
    "    return inputs, outputs, outputNames\n",
    "\n",
    "inData, outData, featNames = loadIrisData()\n",
    "print(featNames)\n",
    "print(inData[0], inData[50], inData[-5])\n",
    "print(outData[0], outData[50], outData[-5])\n"
   ]
  },
  {
   "cell_type": "code",
   "execution_count": 3,
   "metadata": {},
   "outputs": [],
   "source": [
    "inputs, outputs, outputNames = loadIrisData()"
   ]
  },
  {
   "attachments": {},
   "cell_type": "markdown",
   "metadata": {},
   "source": [
    "#### Pasul 2 - impartire pe train si test; normalizare; analiza distributiei datelor pe clase - pt a verifica daca e echilibrat setul de train"
   ]
  },
  {
   "cell_type": "code",
   "execution_count": 4,
   "metadata": {},
   "outputs": [],
   "source": [
    "# step2: split data into train and test\n",
    "\n",
    "def splitData(inputs, outputs):\n",
    "    np.random.seed(5)\n",
    "    indexes = [i for i in range(len(inputs))]\n",
    "    trainSample = np.random.choice(indexes, int(0.8 * len(inputs)), replace = False)\n",
    "    testSample = [i for i in indexes  if not i in trainSample]\n",
    "\n",
    "    trainInputs = [inputs[i] for i in trainSample]\n",
    "    trainOutputs = [outputs[i] for i in trainSample]\n",
    "    testInputs = [inputs[i] for i in testSample]\n",
    "    testOutputs = [outputs[i] for i in testSample]\n",
    "    \n",
    "    return trainInputs, trainOutputs, testInputs, testOutputs"
   ]
  },
  {
   "cell_type": "code",
   "execution_count": 5,
   "metadata": {},
   "outputs": [],
   "source": [
    "def normalisation(trainData, testData):\n",
    "    scaler = StandardScaler()\n",
    "    if not isinstance(trainData[0], list):\n",
    "        #encode each sample into a list\n",
    "        trainData = [[d] for d in trainData]\n",
    "        testData = [[d] for d in testData]\n",
    "        \n",
    "        scaler.fit(trainData)  #  fit only on training data\n",
    "        normalisedTrainData = scaler.transform(trainData) # apply same transformation to train data\n",
    "        normalisedTestData = scaler.transform(testData)  # apply same transformation to test data\n",
    "        \n",
    "        #decode from list to raw values\n",
    "        normalisedTrainData = [el[0] for el in normalisedTrainData]\n",
    "        normalisedTestData = [el[0] for el in normalisedTestData]\n",
    "    else:\n",
    "        scaler.fit(trainData)  #  fit only on training data\n",
    "        normalisedTrainData = scaler.transform(trainData) # apply same transformation to train data\n",
    "        normalisedTestData = scaler.transform(testData)  # apply same transformation to test data\n",
    "    return normalisedTrainData, normalisedTestData"
   ]
  },
  {
   "cell_type": "code",
   "execution_count": 6,
   "metadata": {},
   "outputs": [],
   "source": [
    "def data2FeaturesMoreClasses(inputs, outputs):\n",
    "    labels = set(outputs)\n",
    "    noData = len(inputs)\n",
    "    for crtLabel in labels:\n",
    "        x = [inputs[i][0] for i in range(noData) if outputs[i] == crtLabel ]\n",
    "        y = [inputs[i][1] for i in range(noData) if outputs[i] == crtLabel ]\n",
    "        plt.scatter(x, y, label = outputNames[crtLabel])\n",
    "    plt.xlabel('feat1')\n",
    "    plt.ylabel('feat2')\n",
    "    plt.legend()\n",
    "    plt.show() "
   ]
  },
  {
   "cell_type": "code",
   "execution_count": 7,
   "metadata": {},
   "outputs": [
    {
     "data": {
      "image/png": "[encoded data removed]",
      "text/plain": [
       "<Figure size 432x288 with 1 Axes>"
      ]
     },
     "metadata": {
      "needs_background": "light"
     },
     "output_type": "display_data"
    },
    {
     "data": {
      "image/png": "[encoded data removed]",
      "text/plain": [
       "<Figure size 432x288 with 1 Axes>"
      ]
     },
     "metadata": {
      "needs_background": "light"
     },
     "output_type": "display_data"
    }
   ],
   "source": [
    "\n",
    "trainInputs, trainOutputs, testInputs, testOutputs = splitData(inputs, outputs)\n",
    "\n",
    "# plot the training data distribution on classes\n",
    "plt.hist(trainOutputs, 3, rwidth = 0.8)\n",
    "plt.xticks(np.arange(len(outputNames)), outputNames)\n",
    "plt.show()\n",
    "\n",
    "# plot the data in order to observe the shape of the classifier required in this problem\n",
    "data2FeaturesMoreClasses(trainInputs, trainOutputs)\n",
    "\n",
    "# normalise the data\n",
    "trainInputs, testInputs = normalisation(trainInputs, testInputs)"
   ]
  },
  {
   "attachments": {},
   "cell_type": "markdown",
   "metadata": {},
   "source": [
    "#### Pasul 3 - invatare model (cu tool neural_network.MLPClassifier() -- [link](https://scikit-learn.org/stable/modules/neural_networks_supervised.html))"
   ]
  },
  {
   "cell_type": "code",
   "execution_count": 8,
   "metadata": {},
   "outputs": [],
   "source": [
    "\n",
    "\n",
    "classifier = neural_network.MLPClassifier()\n",
    "\n",
    "def training(classifier, trainInputs, trainOutputs):\n",
    "    # step3: training the classifier\n",
    "    # identify (by training) the classification model\n",
    "    classifier.fit(trainInputs, trainOutputs)\n",
    "\n",
    "\n"
   ]
  },
  {
   "cell_type": "code",
   "execution_count": 9,
   "metadata": {},
   "outputs": [
    {
     "name": "stdout",
     "output_type": "stream",
     "text": [
      "Iteration 1, loss = 0.89050498\n",
      "Iteration 2, loss = 0.79020695\n",
      "Iteration 3, loss = 0.70261682\n",
      "Iteration 4, loss = 0.63795055\n",
      "Iteration 5, loss = 0.59294737\n",
      "Iteration 6, loss = 0.55980303\n",
      "Iteration 7, loss = 0.53299519\n",
      "Iteration 8, loss = 0.50913765\n",
      "Iteration 9, loss = 0.48668042\n",
      "Iteration 10, loss = 0.46438364\n",
      "Iteration 11, loss = 0.44226943\n",
      "Iteration 12, loss = 0.42161313\n",
      "Iteration 13, loss = 0.40252943\n",
      "Iteration 14, loss = 0.38534053\n",
      "Iteration 15, loss = 0.37002397\n",
      "Iteration 16, loss = 0.35631526\n",
      "Iteration 17, loss = 0.34377371\n",
      "Iteration 18, loss = 0.33211015\n",
      "Iteration 19, loss = 0.32117627\n",
      "Iteration 20, loss = 0.31100910\n",
      "Iteration 21, loss = 0.30165144\n",
      "Iteration 22, loss = 0.29309232\n",
      "Iteration 23, loss = 0.28528781\n",
      "Iteration 24, loss = 0.27814662\n",
      "Iteration 25, loss = 0.27156702\n",
      "Iteration 26, loss = 0.26545860\n",
      "Iteration 27, loss = 0.25974428\n",
      "Iteration 28, loss = 0.25437110\n",
      "Iteration 29, loss = 0.24930393\n",
      "Iteration 30, loss = 0.24408987\n",
      "Iteration 31, loss = 0.23811077\n",
      "Iteration 32, loss = 0.23162447\n",
      "Iteration 33, loss = 0.22490352\n",
      "Iteration 34, loss = 0.21497096\n",
      "Iteration 35, loss = 0.20554855\n",
      "Iteration 36, loss = 0.19718520\n",
      "Iteration 37, loss = 0.18966263\n",
      "Iteration 38, loss = 0.18223410\n",
      "Iteration 39, loss = 0.17485126\n",
      "Iteration 40, loss = 0.16785569\n",
      "Iteration 41, loss = 0.16143204\n",
      "Iteration 42, loss = 0.15572747\n",
      "Iteration 43, loss = 0.15071215\n",
      "Iteration 44, loss = 0.14628971\n",
      "Iteration 45, loss = 0.14235733\n",
      "Iteration 46, loss = 0.13886647\n",
      "Iteration 47, loss = 0.13577750\n",
      "Iteration 48, loss = 0.13305631\n",
      "Iteration 49, loss = 0.13069278\n",
      "Iteration 50, loss = 0.12861612\n",
      "Iteration 51, loss = 0.12676304\n",
      "Iteration 52, loss = 0.12509602\n",
      "Iteration 53, loss = 0.12355165\n",
      "Iteration 54, loss = 0.12211156\n",
      "Iteration 55, loss = 0.12074778\n",
      "Iteration 56, loss = 0.11944302\n",
      "Iteration 57, loss = 0.11818239\n",
      "Iteration 58, loss = 0.11695905\n",
      "Iteration 59, loss = 0.11576846\n",
      "Iteration 60, loss = 0.11460792\n",
      "Iteration 61, loss = 0.11347679\n",
      "Iteration 62, loss = 0.11237826\n",
      "Iteration 63, loss = 0.11131574\n",
      "Iteration 64, loss = 0.11029242\n",
      "Iteration 65, loss = 0.10931112\n",
      "Iteration 66, loss = 0.10837413\n",
      "Iteration 67, loss = 0.10748299\n",
      "Iteration 68, loss = 0.10663840\n",
      "Iteration 69, loss = 0.10584046\n",
      "Iteration 70, loss = 0.10508807\n",
      "Iteration 71, loss = 0.10437943\n",
      "Iteration 72, loss = 0.10371239\n",
      "Iteration 73, loss = 0.10308449\n",
      "Iteration 74, loss = 0.10249305\n",
      "Iteration 75, loss = 0.10193528\n",
      "Iteration 76, loss = 0.10140841\n",
      "Iteration 77, loss = 0.10090976\n",
      "Iteration 78, loss = 0.10043680\n",
      "Iteration 79, loss = 0.09998717\n",
      "Iteration 80, loss = 0.09955878\n",
      "Iteration 81, loss = 0.09914973\n",
      "Iteration 82, loss = 0.09875838\n",
      "Iteration 83, loss = 0.09838341\n",
      "Iteration 84, loss = 0.09802360\n",
      "Iteration 85, loss = 0.09767779\n",
      "Iteration 86, loss = 0.09734509\n",
      "Iteration 87, loss = 0.09702478\n",
      "Iteration 88, loss = 0.09671622\n",
      "Iteration 89, loss = 0.09641888\n",
      "Iteration 90, loss = 0.09613228\n",
      "Iteration 91, loss = 0.09585601\n",
      "Iteration 92, loss = 0.09558969\n",
      "Iteration 93, loss = 0.09533294\n",
      "Iteration 94, loss = 0.09508543\n",
      "Iteration 95, loss = 0.09484682\n",
      "Iteration 96, loss = 0.09461677\n",
      "Iteration 97, loss = 0.09439494\n",
      "Iteration 98, loss = 0.09418102\n",
      "Iteration 99, loss = 0.09397467\n",
      "Iteration 100, loss = 0.09377557\n"
     ]
    },
    {
     "name": "stderr",
     "output_type": "stream",
     "text": [
      "d:\\_Work\\School\\_2019-2020\\sem2\\AI\\codeExamples\\myenv\\lib\\site-packages\\sklearn\\neural_network\\_multilayer_perceptron.py:571: ConvergenceWarning: Stochastic Optimizer: Maximum iterations (100) reached and the optimization hasn't converged yet.\n",
      "  % self.max_iter, ConvergenceWarning)\n"
     ]
    }
   ],
   "source": [
    "# liniar classifier and one-vs-all approach for multi-class\n",
    "# classifier = linear_model.LogisticRegression()\n",
    "\n",
    "# non-liniar classifier and softmax approach for multi-class \n",
    "classifier = neural_network.MLPClassifier(hidden_layer_sizes=(5,), activation='relu', max_iter=100, solver='sgd', verbose=10, random_state=1, learning_rate_init=.1)\n",
    "\n",
    "\n",
    "training(classifier, trainInputs, trainOutputs)\n"
   ]
  },
  {
   "attachments": {},
   "cell_type": "markdown",
   "metadata": {},
   "source": [
    "#### Pasul 4 - testare model, plot rezultate, forma outputului si interpretarea lui"
   ]
  },
  {
   "cell_type": "code",
   "execution_count": 10,
   "metadata": {},
   "outputs": [],
   "source": [
    "def classification(classifier, testInputs):\n",
    "    # step4: testing (predict the labels for new inputs)\n",
    "    # makes predictions for test data \n",
    "    computedTestOutputs = classifier.predict(testInputs)\n",
    "\n",
    "    return computedTestOutputs"
   ]
  },
  {
   "cell_type": "code",
   "execution_count": 11,
   "metadata": {},
   "outputs": [],
   "source": [
    "predictedLabels = classification(classifier, testInputs)\n",
    "\n"
   ]
  },
  {
   "attachments": {},
   "cell_type": "markdown",
   "metadata": {},
   "source": [
    "#### Pasul 5 - calcul metrici de performanta (acc, precision, recall)\n"
   ]
  },
  {
   "cell_type": "code",
   "execution_count": 12,
   "metadata": {},
   "outputs": [],
   "source": [
    "def plotConfusionMatrix(cm, classNames, title):\n",
    "    from sklearn.metrics import confusion_matrix\n",
    "    import itertools \n",
    "\n",
    "    classes = classNames\n",
    "    plt.figure()\n",
    "    plt.imshow(cm, interpolation = 'nearest', cmap = 'Blues')\n",
    "    plt.title('Confusion Matrix ' + title)\n",
    "    plt.colorbar()\n",
    "    tick_marks = np.arange(len(classNames))\n",
    "    plt.xticks(tick_marks, classNames, rotation=45)\n",
    "    plt.yticks(tick_marks, classNames)\n",
    "\n",
    "    text_format = 'd'\n",
    "    thresh = cm.max() / 2.\n",
    "    for row, column in itertools.product(range(cm.shape[0]), range(cm.shape[1])):\n",
    "        plt.text(column, row, format(cm[row, column], text_format),\n",
    "                horizontalalignment = 'center',\n",
    "                color = 'white' if cm[row, column] > thresh else 'black')\n",
    "\n",
    "    plt.ylabel('True label')\n",
    "    plt.xlabel('Predicted label')\n",
    "    plt.tight_layout()\n",
    "\n",
    "    plt.show()\n",
    "\n",
    "def evalMultiClass(realLabels, computedLabels, labelNames):\n",
    "    from sklearn.metrics import confusion_matrix\n",
    "\n",
    "    confMatrix = confusion_matrix(realLabels, computedLabels)\n",
    "    acc = sum([confMatrix[i][i] for i in range(len(labelNames))]) / len(realLabels)\n",
    "    precision = {}\n",
    "    recall = {}\n",
    "    for i in range(len(labelNames)):\n",
    "        precision[labelNames[i]] = confMatrix[i][i] / sum([confMatrix[j][i] for j in range(len(labelNames))])\n",
    "        recall[labelNames[i]] = confMatrix[i][i] / sum([confMatrix[i][j] for j in range(len(labelNames))])\n",
    "    return acc, precision, recall, confMatrix"
   ]
  },
  {
   "cell_type": "code",
   "execution_count": 13,
   "metadata": {},
   "outputs": [
    {
     "data": {
      "image/png": "[encoded data removed]",
      "text/plain": [
       "<Figure size 432x288 with 2 Axes>"
      ]
     },
     "metadata": {
      "needs_background": "light"
     },
     "output_type": "display_data"
    },
    {
     "name": "stdout",
     "output_type": "stream",
     "text": [
      "acc:  0.9666666666666667\n",
      "precision:  {'setosa': 1.0, 'versicolor': 0.875, 'virginica': 1.0}\n",
      "recall:  {'setosa': 1.0, 'versicolor': 1.0, 'virginica': 0.9230769230769231}\n"
     ]
    }
   ],
   "source": [
    "acc, prec, recall, cm = evalMultiClass(np.array(testOutputs), predictedLabels, outputNames)\n",
    "plotConfusionMatrix(cm, outputNames, \"iris classification\")\n",
    "\n",
    "print('acc: ', acc)\n",
    "print('precision: ', prec)\n",
    "print('recall: ', recall)\n"
   ]
  },
  {
   "attachments": {},
   "cell_type": "markdown",
   "metadata": {},
   "source": [
    "### Demo2 - clasificare multi-class"
   ]
  },
  {
   "attachments": {},
   "cell_type": "markdown",
   "metadata": {},
   "source": [
    "#### Problema: Ce cifră am scris?\n",
    "\n",
    "Se consideră un set de imagini care conțin cifre scrise de mână. Sa se decida ce cifra apare intr-o imagine.\n",
    "\n",
    "Să se rezolve problema folosind rețele neuronale artificiale (cu tool). Incercati folosirea unei ANN cu aceeasi arhitectura ca la problema cu florile de iris si analizati ce se intampla.\n",
    "\n",
    "Metodologie:\n",
    "\n",
    "Incercam sa aplicam acelasi MLP pt NIST/MNIST set (o parte din date); Observam ca:\n",
    "* se parcurg aceeasi pasi ca la clasificarea florilor de iris (mai putin pasul de normalizare, imaginile fiind definite in acelasi domeniu de culori/gri-uri)\n",
    "* dar ar tb sa se modifice putin arhitectura ca sa invete un model mai performant\n",
    "* challenge: sa se gaseasca cea mai buna arhitectura\n",
    "\n",
    "* step1: load data (iris data and all features) \n",
    "* step2: impartire pe train si test; normalizare; analiza distributiei datelor pe clase - pt a verifica daca e echilibrat setul de train\n",
    "* step3: invatare model (cu tool neural_network.MLPClassifier() -- [link](https://scikit-learn.org/stable/modules/neural_networks_supervised.html))\n",
    "    - exemplificare cu model posibil ne-liniar (ANN)\n",
    "* step4: testare model, plot rezultate, forma outputului si interpretarea lui\n",
    "* step5: calcul metrici de performanta (acc)"
   ]
  },
  {
   "attachments": {},
   "cell_type": "markdown",
   "metadata": {},
   "source": [
    "#### Pasul 1 - load the data"
   ]
  },
  {
   "cell_type": "code",
   "execution_count": 14,
   "metadata": {},
   "outputs": [],
   "source": [
    "import numpy as np\n",
    "\n",
    "def loadDigitData():\n",
    "    from sklearn.datasets import load_digits\n",
    "\n",
    "    data = load_digits()\n",
    "    inputs = data.images\n",
    "    outputs = data['target']\n",
    "    outputNames = data['target_names']\n",
    "     \n",
    "    # shuffle the original data\n",
    "    noData = len(inputs)\n",
    "    permutation = np.random.permutation(noData)\n",
    "    inputs = inputs[permutation]\n",
    "    outputs = outputs[permutation]\n",
    "\n",
    "    return inputs, outputs, outputNames\n",
    "\n",
    "inputs, outputs, outputNames = loadDigitData()"
   ]
  },
  {
   "attachments": {},
   "cell_type": "markdown",
   "metadata": {},
   "source": [
    "#### Pasul 2 - split on train and test"
   ]
  },
  {
   "cell_type": "code",
   "execution_count": 15,
   "metadata": {},
   "outputs": [
    {
     "data": {
      "image/png": "[encoded data removed]",
      "text/plain": [
       "<Figure size 432x288 with 1 Axes>"
      ]
     },
     "metadata": {
      "needs_background": "light"
     },
     "output_type": "display_data"
    }
   ],
   "source": [
    "\n",
    "trainInputs, trainOutputs, testInputs, testOutputs = splitData(inputs, outputs)\n",
    "# check if the data is uniform distributed over classes\n",
    "plt.hist(trainOutputs, rwidth = 0.8)\n",
    "plt.xticks(np.arange(len(outputNames)), outputNames)\n",
    "plt.show()\n",
    "\n",
    "\n",
    "def flatten(mat):\n",
    "    x = []\n",
    "    for line in mat:\n",
    "        for el in line:\n",
    "            x.append(el)\n",
    "    return x \n",
    "\n",
    "trainInputsFlatten = [flatten(el) for el in trainInputs]\n",
    "testInputsFlatten = [flatten(el) for el in testInputs]\n",
    "trainInputsNormalised, testInputsNormalised = normalisation(trainInputsFlatten, testInputsFlatten)\n",
    "\n"
   ]
  },
  {
   "attachments": {},
   "cell_type": "markdown",
   "metadata": {},
   "source": [
    "#### Pasul 3, 4 si 5 : train and test the classifier"
   ]
  },
  {
   "cell_type": "code",
   "execution_count": 16,
   "metadata": {},
   "outputs": [
    {
     "name": "stdout",
     "output_type": "stream",
     "text": [
      "Iteration 1, loss = 2.27810622\n",
      "Iteration 2, loss = 1.54692777\n",
      "Iteration 3, loss = 1.05670217\n",
      "Iteration 4, loss = 0.77847832\n",
      "Iteration 5, loss = 0.60717452\n",
      "Iteration 6, loss = 0.47901016\n",
      "Iteration 7, loss = 0.40583374\n",
      "Iteration 8, loss = 0.36827667\n",
      "Iteration 9, loss = 0.32538813\n",
      "Iteration 10, loss = 0.30243395\n",
      "Iteration 11, loss = 0.27884433\n",
      "Iteration 12, loss = 0.25800418\n",
      "Iteration 13, loss = 0.24334742\n",
      "Iteration 14, loss = 0.22764030\n",
      "Iteration 15, loss = 0.21440147\n",
      "Iteration 16, loss = 0.20150454\n",
      "Iteration 17, loss = 0.19222273\n",
      "Iteration 18, loss = 0.18401795\n",
      "Iteration 19, loss = 0.17212980\n",
      "Iteration 20, loss = 0.16978750\n",
      "Iteration 21, loss = 0.16947651\n",
      "Iteration 22, loss = 0.15838433\n",
      "Iteration 23, loss = 0.15174972\n",
      "Iteration 24, loss = 0.14801898\n",
      "Iteration 25, loss = 0.14762747\n",
      "Iteration 26, loss = 0.14132400\n",
      "Iteration 27, loss = 0.13818281\n",
      "Iteration 28, loss = 0.12827350\n",
      "Iteration 29, loss = 0.12406738\n",
      "Iteration 30, loss = 0.12202021\n",
      "Iteration 31, loss = 0.11743061\n",
      "Iteration 32, loss = 0.11948954\n",
      "Iteration 33, loss = 0.11432581\n",
      "Iteration 34, loss = 0.11047393\n",
      "Iteration 35, loss = 0.10858635\n",
      "Iteration 36, loss = 0.10980388\n",
      "Iteration 37, loss = 0.10693219\n",
      "Iteration 38, loss = 0.10110204\n",
      "Iteration 39, loss = 0.09828087\n",
      "Iteration 40, loss = 0.09753875\n",
      "Iteration 41, loss = 0.09710870\n",
      "Iteration 42, loss = 0.09308111\n",
      "Iteration 43, loss = 0.09201330\n",
      "Iteration 44, loss = 0.09134956\n",
      "Iteration 45, loss = 0.08855829\n",
      "Iteration 46, loss = 0.08864041\n",
      "Iteration 47, loss = 0.08652260\n",
      "Iteration 48, loss = 0.08523878\n",
      "Iteration 49, loss = 0.08278104\n",
      "Iteration 50, loss = 0.07898262\n",
      "Iteration 51, loss = 0.07907191\n",
      "Iteration 52, loss = 0.07608008\n",
      "Iteration 53, loss = 0.07386019\n",
      "Iteration 54, loss = 0.07629073\n",
      "Iteration 55, loss = 0.07144042\n",
      "Iteration 56, loss = 0.06970035\n",
      "Iteration 57, loss = 0.06863056\n",
      "Iteration 58, loss = 0.06764434\n",
      "Iteration 59, loss = 0.07661355\n",
      "Iteration 60, loss = 0.07083359\n",
      "Iteration 61, loss = 0.06737749\n",
      "Iteration 62, loss = 0.06586990\n",
      "Iteration 63, loss = 0.06531608\n",
      "Iteration 64, loss = 0.06382783\n",
      "Iteration 65, loss = 0.06237092\n",
      "Iteration 66, loss = 0.05626866\n",
      "Iteration 67, loss = 0.05722155\n",
      "Iteration 68, loss = 0.05590110\n",
      "Iteration 69, loss = 0.05432936\n",
      "Iteration 70, loss = 0.05350562\n",
      "Iteration 71, loss = 0.05247791\n",
      "Iteration 72, loss = 0.05330700\n",
      "Iteration 73, loss = 0.05214862\n",
      "Iteration 74, loss = 0.05115055\n",
      "Iteration 75, loss = 0.04958065\n",
      "Iteration 76, loss = 0.04789802\n",
      "Iteration 77, loss = 0.04708439\n",
      "Iteration 78, loss = 0.04583936\n",
      "Iteration 79, loss = 0.04593325\n",
      "Iteration 80, loss = 0.04511010\n",
      "Iteration 81, loss = 0.04427681\n",
      "Iteration 82, loss = 0.04354009\n",
      "Iteration 83, loss = 0.04309745\n",
      "Iteration 84, loss = 0.04427819\n",
      "Iteration 85, loss = 0.04293987\n",
      "Iteration 86, loss = 0.04257656\n",
      "Iteration 87, loss = 0.04233506\n",
      "Iteration 88, loss = 0.04082948\n",
      "Iteration 89, loss = 0.04065423\n",
      "Iteration 90, loss = 0.04023065\n",
      "Iteration 91, loss = 0.03928728\n",
      "Iteration 92, loss = 0.03973510\n",
      "Iteration 93, loss = 0.03805991\n",
      "Iteration 94, loss = 0.03779052\n",
      "Iteration 95, loss = 0.03827096\n",
      "Iteration 96, loss = 0.03827080\n",
      "Iteration 97, loss = 0.03969452\n",
      "Iteration 98, loss = 0.03821556\n",
      "Iteration 99, loss = 0.03774332\n",
      "Iteration 100, loss = 0.03726767\n"
     ]
    },
    {
     "name": "stderr",
     "output_type": "stream",
     "text": [
      "d:\\_Work\\School\\_2019-2020\\sem2\\AI\\codeExamples\\myenv\\lib\\site-packages\\sklearn\\neural_network\\_multilayer_perceptron.py:571: ConvergenceWarning: Stochastic Optimizer: Maximum iterations (100) reached and the optimization hasn't converged yet.\n",
      "  % self.max_iter, ConvergenceWarning)\n"
     ]
    },
    {
     "data": {
      "image/png": "[encoded data removed]",
      "text/plain": [
       "<Figure size 432x288 with 2 Axes>"
      ]
     },
     "metadata": {
      "needs_background": "light"
     },
     "output_type": "display_data"
    },
    {
     "name": "stdout",
     "output_type": "stream",
     "text": [
      "acc:  0.9138888888888889\n",
      "precision:  {0: 0.9230769230769231, 1: 0.8857142857142857, 2: 0.926829268292683, 3: 0.9411764705882353, 4: 0.9166666666666666, 5: 0.8823529411764706, 6: 1.0, 7: 0.9230769230769231, 8: 0.9428571428571428, 9: 0.8}\n",
      "recall:  {0: 1.0, 1: 0.96875, 2: 0.95, 3: 0.9142857142857143, 4: 0.868421052631579, 5: 0.9090909090909091, 6: 0.9411764705882353, 7: 0.9230769230769231, 8: 0.7674418604651163, 9: 0.9333333333333333}\n"
     ]
    },
    {
     "data": {
      "image/png": "[encoded data removed]",
      "text/plain": [
       "<Figure size 504x504 with 50 Axes>"
      ]
     },
     "metadata": {
      "needs_background": "light"
     },
     "output_type": "display_data"
    }
   ],
   "source": [
    "\n",
    "# try to play by MLP parameters (e.g. change the HL size from 10 to 20 and see how this modification impacts the accuracy)\n",
    "classifier = neural_network.MLPClassifier(hidden_layer_sizes=(5, ), activation='relu', max_iter=100, solver='sgd', verbose=10, random_state=1, learning_rate_init=.1)\n",
    "\n",
    "training(classifier, trainInputsNormalised, trainOutputs)\n",
    "predictedLabels = classification(classifier, testInputsNormalised)\n",
    "acc, prec, recall, cm = evalMultiClass(np.array(testOutputs), predictedLabels, outputNames)\n",
    "\n",
    "\n",
    "plotConfusionMatrix(cm, outputNames, \"digit classification\")\n",
    "print('acc: ', acc)\n",
    "print('precision: ', prec)\n",
    "print('recall: ', recall)\n",
    "\n",
    "# plot first 50 test images and their real and computed labels\n",
    "n = 10\n",
    "m = 5\n",
    "fig, axes = plt.subplots(n, m, figsize = (7, 7))\n",
    "fig.tight_layout() \n",
    "for i in range(0, n):\n",
    "    for j in range(0, m):\n",
    "        axes[i][j].imshow(testInputs[m * i + j])\n",
    "        if (testOutputs[m * i + j] == predictedLabels[m * i + j]):\n",
    "            font = 'normal'\n",
    "        else:\n",
    "            font = 'bold'\n",
    "        axes[i][j].set_title('real ' + str(testOutputs[m * i + j]) + '\\npredicted ' + str(predictedLabels[m * i + j]), fontweight=font)\n",
    "        axes[i][j].set_axis_off()\n",
    "        \n",
    "plt.show()"
   ]
  },
  {
   "attachments": {},
   "cell_type": "markdown",
   "metadata": {},
   "source": [
    "## Problema tema: clasificare poze\n",
    "\n",
    "Tocmai ti-ai inceput prima ta zi de munca ca si software developer la Facebook in echipa care se ocupa cu partea de continut a platformei. \n",
    "\n",
    "Echipa de analisti a observat ca foarte multe persoane folosesc filtre peste pozele lor, asadar in speranta de a promova continut mai putin editat, si poze cat mai reale, doresc sa implementeze o noua functionalite in care sa arate utilizatorilor daca o poza a fost sau nu editata. Pentru a testa aceasta idee, si pentru a vedea daca utlizatorilor li s-ar parea folositoare o astfel de functionalitate, au decis sa testeze ideea pe pozele care au filtre sepia. \n",
    "\n",
    "Primul task al tau este sa implementezi un algoritm de clasificare a pozelor care sa ne spuna daca o poza are sau nu adaugat filtru sepia.\n",
    "\n",
    "Team leaderul echipei de ML iti propune urmatorul plan de lucru \n",
    "- devoltarea, antrenarea si testarea unui clasificator bazat pe retele neuronale folosind date mai simple, de tip caracteristici numerice - de ex datele cu irisi) \n",
    "- devoltarea, antrenarea si testarea unui clasificator bazat pe retele neuronale folosind date mai complexe, de tip imagine - de ex baza de date cu cifre, pentru fiecare exmplu considerandu-se matricea de pixeli) \n",
    "- crearea unei baze cu imagini (cu si fara filtru sepia) si etichetele corespunzatoare \n",
    "- antrenarea si testarea clasificatorului (bazat pe retele neuronale artificiale – tool sau ANN-ul dezvoltat la pasul 2) pentru clasificarea imaginilor cu si fara filtru\n",
    "\n",
    "\n",
    "\n",
    "## Tema optionala\n",
    "\n",
    "-\timplementare algoritm de Programare genetica sau alt algoritm de invatare automata supervizata (SVM, Decision Tree, Naive Bayes, etc) pentru același task de diferențiere între poze cu și fără filtru.\n",
    "-\tDezvoltarea unei noi functionalitati de login in reteaua sociala pe baza de recunoastere faciala. Pentru aceasta se doreste implementarea unui sistem de recunoaștere a fețelor astfel:\n",
    "o\tExtragerea unor caractersitici din imaginile cu fete (Se poate folosi o librarie specializata precum Dlib )\n",
    "o\tClasificarea imaginilor pe baza acestor caracteristici \n",
    "\n"
   ]
  },
  {
   "cell_type": "code",
   "execution_count": 2,
   "metadata": {},
   "outputs": [],
   "source": [
    "# Importing libraries\n",
    "import numpy as np\n",
    "import matplotlib.pyplot as plt\n",
    "from sklearn.neural_network import MLPClassifier"
   ]
  },
  {
   "cell_type": "code",
   "execution_count": 3,
   "metadata": {},
   "outputs": [
    {
     "name": "stdout",
     "output_type": "stream",
     "text": [
      "(150, 4)\n",
      "(150,)\n"
     ]
    }
   ],
   "source": [
    "# MLP classifier for the iris dataset\n",
    "from sklearn.datasets import load_iris\n",
    "iris = load_iris()\n",
    "X = iris.data\n",
    "y = iris.target\n",
    "\n",
    "print(X.shape)\n",
    "print(y.shape)\n"
   ]
  },
  {
   "cell_type": "code",
   "execution_count": 4,
   "metadata": {},
   "outputs": [
    {
     "name": "stdout",
     "output_type": "stream",
     "text": [
      "[[5.1 3.5 1.4 0.2]\n",
      " [4.9 3.  1.4 0.2]\n",
      " [4.7 3.2 1.3 0.2]\n",
      " [4.6 3.1 1.5 0.2]\n",
      " [5.  3.6 1.4 0.2]\n",
      " [5.4 3.9 1.7 0.4]\n",
      " [4.6 3.4 1.4 0.3]\n",
      " [5.  3.4 1.5 0.2]\n",
      " [4.4 2.9 1.4 0.2]\n",
      " [4.9 3.1 1.5 0.1]\n",
      " [5.4 3.7 1.5 0.2]\n",
      " [4.8 3.4 1.6 0.2]\n",
      " [4.8 3.  1.4 0.1]\n",
      " [4.3 3.  1.1 0.1]\n",
      " [5.8 4.  1.2 0.2]\n",
      " [5.7 4.4 1.5 0.4]\n",
      " [5.4 3.9 1.3 0.4]\n",
      " [5.1 3.5 1.4 0.3]\n",
      " [5.7 3.8 1.7 0.3]\n",
      " [5.1 3.8 1.5 0.3]\n",
      " [5.4 3.4 1.7 0.2]\n",
      " [5.1 3.7 1.5 0.4]\n",
      " [4.6 3.6 1.  0.2]\n",
      " [5.1 3.3 1.7 0.5]\n",
      " [4.8 3.4 1.9 0.2]\n",
      " [5.  3.  1.6 0.2]\n",
      " [5.  3.4 1.6 0.4]\n",
      " [5.2 3.5 1.5 0.2]\n",
      " [5.2 3.4 1.4 0.2]\n",
      " [4.7 3.2 1.6 0.2]\n",
      " [4.8 3.1 1.6 0.2]\n",
      " [5.4 3.4 1.5 0.4]\n",
      " [5.2 4.1 1.5 0.1]\n",
      " [5.5 4.2 1.4 0.2]\n",
      " [4.9 3.1 1.5 0.2]\n",
      " [5.  3.2 1.2 0.2]\n",
      " [5.5 3.5 1.3 0.2]\n",
      " [4.9 3.6 1.4 0.1]\n",
      " [4.4 3.  1.3 0.2]\n",
      " [5.1 3.4 1.5 0.2]\n",
      " [5.  3.5 1.3 0.3]\n",
      " [4.5 2.3 1.3 0.3]\n",
      " [4.4 3.2 1.3 0.2]\n",
      " [5.  3.5 1.6 0.6]\n",
      " [5.1 3.8 1.9 0.4]\n",
      " [4.8 3.  1.4 0.3]\n",
      " [5.1 3.8 1.6 0.2]\n",
      " [4.6 3.2 1.4 0.2]\n",
      " [5.3 3.7 1.5 0.2]\n",
      " [5.  3.3 1.4 0.2]\n",
      " [7.  3.2 4.7 1.4]\n",
      " [6.4 3.2 4.5 1.5]\n",
      " [6.9 3.1 4.9 1.5]\n",
      " [5.5 2.3 4.  1.3]\n",
      " [6.5 2.8 4.6 1.5]\n",
      " [5.7 2.8 4.5 1.3]\n",
      " [6.3 3.3 4.7 1.6]\n",
      " [4.9 2.4 3.3 1. ]\n",
      " [6.6 2.9 4.6 1.3]\n",
      " [5.2 2.7 3.9 1.4]\n",
      " [5.  2.  3.5 1. ]\n",
      " [5.9 3.  4.2 1.5]\n",
      " [6.  2.2 4.  1. ]\n",
      " [6.1 2.9 4.7 1.4]\n",
      " [5.6 2.9 3.6 1.3]\n",
      " [6.7 3.1 4.4 1.4]\n",
      " [5.6 3.  4.5 1.5]\n",
      " [5.8 2.7 4.1 1. ]\n",
      " [6.2 2.2 4.5 1.5]\n",
      " [5.6 2.5 3.9 1.1]\n",
      " [5.9 3.2 4.8 1.8]\n",
      " [6.1 2.8 4.  1.3]\n",
      " [6.3 2.5 4.9 1.5]\n",
      " [6.1 2.8 4.7 1.2]\n",
      " [6.4 2.9 4.3 1.3]\n",
      " [6.6 3.  4.4 1.4]\n",
      " [6.8 2.8 4.8 1.4]\n",
      " [6.7 3.  5.  1.7]\n",
      " [6.  2.9 4.5 1.5]\n",
      " [5.7 2.6 3.5 1. ]\n",
      " [5.5 2.4 3.8 1.1]\n",
      " [5.5 2.4 3.7 1. ]\n",
      " [5.8 2.7 3.9 1.2]\n",
      " [6.  2.7 5.1 1.6]\n",
      " [5.4 3.  4.5 1.5]\n",
      " [6.  3.4 4.5 1.6]\n",
      " [6.7 3.1 4.7 1.5]\n",
      " [6.3 2.3 4.4 1.3]\n",
      " [5.6 3.  4.1 1.3]\n",
      " [5.5 2.5 4.  1.3]\n",
      " [5.5 2.6 4.4 1.2]\n",
      " [6.1 3.  4.6 1.4]\n",
      " [5.8 2.6 4.  1.2]\n",
      " [5.  2.3 3.3 1. ]\n",
      " [5.6 2.7 4.2 1.3]\n",
      " [5.7 3.  4.2 1.2]\n",
      " [5.7 2.9 4.2 1.3]\n",
      " [6.2 2.9 4.3 1.3]\n",
      " [5.1 2.5 3.  1.1]\n",
      " [5.7 2.8 4.1 1.3]\n",
      " [6.3 3.3 6.  2.5]\n",
      " [5.8 2.7 5.1 1.9]\n",
      " [7.1 3.  5.9 2.1]\n",
      " [6.3 2.9 5.6 1.8]\n",
      " [6.5 3.  5.8 2.2]\n",
      " [7.6 3.  6.6 2.1]\n",
      " [4.9 2.5 4.5 1.7]\n",
      " [7.3 2.9 6.3 1.8]\n",
      " [6.7 2.5 5.8 1.8]\n",
      " [7.2 3.6 6.1 2.5]\n",
      " [6.5 3.2 5.1 2. ]\n",
      " [6.4 2.7 5.3 1.9]\n",
      " [6.8 3.  5.5 2.1]\n",
      " [5.7 2.5 5.  2. ]\n",
      " [5.8 2.8 5.1 2.4]\n",
      " [6.4 3.2 5.3 2.3]\n",
      " [6.5 3.  5.5 1.8]\n",
      " [7.7 3.8 6.7 2.2]\n",
      " [7.7 2.6 6.9 2.3]\n",
      " [6.  2.2 5.  1.5]\n",
      " [6.9 3.2 5.7 2.3]\n",
      " [5.6 2.8 4.9 2. ]\n",
      " [7.7 2.8 6.7 2. ]\n",
      " [6.3 2.7 4.9 1.8]\n",
      " [6.7 3.3 5.7 2.1]\n",
      " [7.2 3.2 6.  1.8]\n",
      " [6.2 2.8 4.8 1.8]\n",
      " [6.1 3.  4.9 1.8]\n",
      " [6.4 2.8 5.6 2.1]\n",
      " [7.2 3.  5.8 1.6]\n",
      " [7.4 2.8 6.1 1.9]\n",
      " [7.9 3.8 6.4 2. ]\n",
      " [6.4 2.8 5.6 2.2]\n",
      " [6.3 2.8 5.1 1.5]\n",
      " [6.1 2.6 5.6 1.4]\n",
      " [7.7 3.  6.1 2.3]\n",
      " [6.3 3.4 5.6 2.4]\n",
      " [6.4 3.1 5.5 1.8]\n",
      " [6.  3.  4.8 1.8]\n",
      " [6.9 3.1 5.4 2.1]\n",
      " [6.7 3.1 5.6 2.4]\n",
      " [6.9 3.1 5.1 2.3]\n",
      " [5.8 2.7 5.1 1.9]\n",
      " [6.8 3.2 5.9 2.3]\n",
      " [6.7 3.3 5.7 2.5]\n",
      " [6.7 3.  5.2 2.3]\n",
      " [6.3 2.5 5.  1.9]\n",
      " [6.5 3.  5.2 2. ]\n",
      " [6.2 3.4 5.4 2.3]\n",
      " [5.9 3.  5.1 1.8]]\n",
      "[0 0 0 0 0 0 0 0 0 0 0 0 0 0 0 0 0 0 0 0 0 0 0 0 0 0 0 0 0 0 0 0 0 0 0 0 0\n",
      " 0 0 0 0 0 0 0 0 0 0 0 0 0 1 1 1 1 1 1 1 1 1 1 1 1 1 1 1 1 1 1 1 1 1 1 1 1\n",
      " 1 1 1 1 1 1 1 1 1 1 1 1 1 1 1 1 1 1 1 1 1 1 1 1 1 1 2 2 2 2 2 2 2 2 2 2 2\n",
      " 2 2 2 2 2 2 2 2 2 2 2 2 2 2 2 2 2 2 2 2 2 2 2 2 2 2 2 2 2 2 2 2 2 2 2 2 2\n",
      " 2 2]\n"
     ]
    }
   ],
   "source": [
    "print(X)\n",
    "print(y)"
   ]
  },
  {
   "cell_type": "code",
   "execution_count": 5,
   "metadata": {},
   "outputs": [
    {
     "name": "stdout",
     "output_type": "stream",
     "text": [
      "Training set score: 0.986667\n"
     ]
    }
   ],
   "source": [
    "# MLP classifier\n",
    "mlp = MLPClassifier(hidden_layer_sizes=(10, 10, 10), max_iter=1000)\n",
    "mlp.fit(X, y)\n",
    "print(\"Training set score: %f\" % mlp.score(X, y)) "
   ]
  },
  {
   "cell_type": "code",
   "execution_count": 6,
   "metadata": {},
   "outputs": [],
   "source": [
    "# Our own code\n",
    "from sklearn.model_selection import train_test_split\n",
    "from sklearn.metrics import accuracy_score\n",
    "from sklearn.metrics import confusion_matrix\n",
    "from sklearn.metrics import classification_report"
   ]
  },
  {
   "cell_type": "code",
   "execution_count": 7,
   "metadata": {},
   "outputs": [],
   "source": [
    "np.random.seed(0)"
   ]
  },
  {
   "cell_type": "code",
   "execution_count": 8,
   "metadata": {},
   "outputs": [
    {
     "name": "stdout",
     "output_type": "stream",
     "text": [
      "[[1. 0. 0.]\n",
      " [1. 0. 0.]\n",
      " [1. 0. 0.]\n",
      " [1. 0. 0.]\n",
      " [1. 0. 0.]\n",
      " [1. 0. 0.]\n",
      " [1. 0. 0.]\n",
      " [1. 0. 0.]\n",
      " [1. 0. 0.]\n",
      " [1. 0. 0.]\n",
      " [1. 0. 0.]\n",
      " [1. 0. 0.]\n",
      " [1. 0. 0.]\n",
      " [1. 0. 0.]\n",
      " [1. 0. 0.]\n",
      " [1. 0. 0.]\n",
      " [1. 0. 0.]\n",
      " [1. 0. 0.]\n",
      " [1. 0. 0.]\n",
      " [1. 0. 0.]\n",
      " [1. 0. 0.]\n",
      " [1. 0. 0.]\n",
      " [1. 0. 0.]\n",
      " [1. 0. 0.]\n",
      " [1. 0. 0.]\n",
      " [1. 0. 0.]\n",
      " [1. 0. 0.]\n",
      " [1. 0. 0.]\n",
      " [1. 0. 0.]\n",
      " [1. 0. 0.]\n",
      " [1. 0. 0.]\n",
      " [1. 0. 0.]\n",
      " [1. 0. 0.]\n",
      " [1. 0. 0.]\n",
      " [1. 0. 0.]\n",
      " [1. 0. 0.]\n",
      " [1. 0. 0.]\n",
      " [1. 0. 0.]\n",
      " [1. 0. 0.]\n",
      " [1. 0. 0.]\n",
      " [1. 0. 0.]\n",
      " [1. 0. 0.]\n",
      " [1. 0. 0.]\n",
      " [1. 0. 0.]\n",
      " [1. 0. 0.]\n",
      " [1. 0. 0.]\n",
      " [1. 0. 0.]\n",
      " [1. 0. 0.]\n",
      " [1. 0. 0.]\n",
      " [1. 0. 0.]\n",
      " [0. 1. 0.]\n",
      " [0. 1. 0.]\n",
      " [0. 1. 0.]\n",
      " [0. 1. 0.]\n",
      " [0. 1. 0.]\n",
      " [0. 1. 0.]\n",
      " [0. 1. 0.]\n",
      " [0. 1. 0.]\n",
      " [0. 1. 0.]\n",
      " [0. 1. 0.]\n",
      " [0. 1. 0.]\n",
      " [0. 1. 0.]\n",
      " [0. 1. 0.]\n",
      " [0. 1. 0.]\n",
      " [0. 1. 0.]\n",
      " [0. 1. 0.]\n",
      " [0. 1. 0.]\n",
      " [0. 1. 0.]\n",
      " [0. 1. 0.]\n",
      " [0. 1. 0.]\n",
      " [0. 1. 0.]\n",
      " [0. 1. 0.]\n",
      " [0. 1. 0.]\n",
      " [0. 1. 0.]\n",
      " [0. 1. 0.]\n",
      " [0. 1. 0.]\n",
      " [0. 1. 0.]\n",
      " [0. 1. 0.]\n",
      " [0. 1. 0.]\n",
      " [0. 1. 0.]\n",
      " [0. 1. 0.]\n",
      " [0. 1. 0.]\n",
      " [0. 1. 0.]\n",
      " [0. 1. 0.]\n",
      " [0. 1. 0.]\n",
      " [0. 1. 0.]\n",
      " [0. 1. 0.]\n",
      " [0. 1. 0.]\n",
      " [0. 1. 0.]\n",
      " [0. 1. 0.]\n",
      " [0. 1. 0.]\n",
      " [0. 1. 0.]\n",
      " [0. 1. 0.]\n",
      " [0. 1. 0.]\n",
      " [0. 1. 0.]\n",
      " [0. 1. 0.]\n",
      " [0. 1. 0.]\n",
      " [0. 1. 0.]\n",
      " [0. 1. 0.]\n",
      " [0. 1. 0.]\n",
      " [0. 0. 1.]\n",
      " [0. 0. 1.]\n",
      " [0. 0. 1.]\n",
      " [0. 0. 1.]\n",
      " [0. 0. 1.]\n",
      " [0. 0. 1.]\n",
      " [0. 0. 1.]\n",
      " [0. 0. 1.]\n",
      " [0. 0. 1.]\n",
      " [0. 0. 1.]\n",
      " [0. 0. 1.]\n",
      " [0. 0. 1.]\n",
      " [0. 0. 1.]\n",
      " [0. 0. 1.]\n",
      " [0. 0. 1.]\n",
      " [0. 0. 1.]\n",
      " [0. 0. 1.]\n",
      " [0. 0. 1.]\n",
      " [0. 0. 1.]\n",
      " [0. 0. 1.]\n",
      " [0. 0. 1.]\n",
      " [0. 0. 1.]\n",
      " [0. 0. 1.]\n",
      " [0. 0. 1.]\n",
      " [0. 0. 1.]\n",
      " [0. 0. 1.]\n",
      " [0. 0. 1.]\n",
      " [0. 0. 1.]\n",
      " [0. 0. 1.]\n",
      " [0. 0. 1.]\n",
      " [0. 0. 1.]\n",
      " [0. 0. 1.]\n",
      " [0. 0. 1.]\n",
      " [0. 0. 1.]\n",
      " [0. 0. 1.]\n",
      " [0. 0. 1.]\n",
      " [0. 0. 1.]\n",
      " [0. 0. 1.]\n",
      " [0. 0. 1.]\n",
      " [0. 0. 1.]\n",
      " [0. 0. 1.]\n",
      " [0. 0. 1.]\n",
      " [0. 0. 1.]\n",
      " [0. 0. 1.]\n",
      " [0. 0. 1.]\n",
      " [0. 0. 1.]\n",
      " [0. 0. 1.]\n",
      " [0. 0. 1.]\n",
      " [0. 0. 1.]\n",
      " [0. 0. 1.]]\n"
     ]
    }
   ],
   "source": [
    "# change y to a dummy vector\n",
    "y_dummy = np.zeros((y.size, y.max() + 1))\n",
    "y_dummy[np.arange(y.size), y] = 1\n",
    "print(y_dummy)\n",
    "\n",
    "# scale down X\n",
    "X = X / X.max(axis=0)"
   ]
  },
  {
   "cell_type": "code",
   "execution_count": 9,
   "metadata": {},
   "outputs": [],
   "source": [
    "# split into test and training\n",
    "X_train, X_test, y_train, y_test = train_test_split(X, y_dummy, test_size=0.2)"
   ]
  },
  {
   "cell_type": "code",
   "execution_count": 10,
   "metadata": {},
   "outputs": [],
   "source": [
    "# forward function\n",
    "def forward(X, W1, W2):\n",
    "    Xb = np.hstack(\n",
    "        [X, np.ones((X.shape[0], 1))]\n",
    "    )  # add the bias, now an input set looks like [value1, value2, 1]\n",
    "    H1 = Xb.dot(W1)  # 1st hidden layer values\n",
    "    A1 = np.maximum(H1, 0)  # ReLU activation\n",
    "    Z1 = np.hstack(\n",
    "        [A1, np.ones((A1.shape[0], 1))]\n",
    "    )  # add the bias, now an input set looks like [value1, value2, 1]\n",
    "    H2 = Z1.dot(W2)  # 2nd hidden layer values\n",
    "    # Softmax for final probabilities\n",
    "    exp_scores = np.exp(H2)\n",
    "    probs = exp_scores / np.sum(exp_scores, axis=1, keepdims=True)\n",
    "    return Z1, probs"
   ]
  },
  {
   "cell_type": "code",
   "execution_count": 11,
   "metadata": {},
   "outputs": [],
   "source": [
    "# initialize W1 and W2 with 20 neurons each\\\n",
    "W1 = np.random.randn(5, 20)\n",
    "W2 = np.random.randn(21, 3)\n"
   ]
  },
  {
   "cell_type": "code",
   "execution_count": 12,
   "metadata": {},
   "outputs": [
    {
     "name": "stdout",
     "output_type": "stream",
     "text": [
      "Loss after iteration 0: 1615.924645\n",
      "Loss after iteration 1000: 8.529368\n",
      "Loss after iteration 2000: 6.850542\n",
      "Loss after iteration 3000: 6.308194\n",
      "Loss after iteration 4000: 6.066650\n",
      "Loss after iteration 5000: 5.946174\n",
      "Loss after iteration 6000: 5.825991\n",
      "Loss after iteration 7000: 5.906878\n",
      "Loss after iteration 8000: 5.808605\n",
      "Loss after iteration 9000: 5.804571\n",
      "Loss after iteration 10000: 5.779980\n",
      "Loss after iteration 11000: 5.767631\n",
      "Loss after iteration 12000: 5.755136\n",
      "Loss after iteration 13000: 5.741680\n",
      "Loss after iteration 14000: 5.737654\n",
      "Loss after iteration 15000: 5.744258\n",
      "Loss after iteration 16000: 5.732482\n",
      "Loss after iteration 17000: 5.728400\n",
      "Loss after iteration 18000: 5.725972\n",
      "Loss after iteration 19000: 5.729096\n",
      "Loss after iteration 20000: 5.726101\n",
      "Loss after iteration 21000: 5.720088\n",
      "Loss after iteration 22000: 5.718446\n",
      "Loss after iteration 23000: 5.716955\n",
      "Loss after iteration 24000: 5.715580\n",
      "Loss after iteration 25000: 5.714307\n",
      "Loss after iteration 26000: 5.713124\n",
      "Loss after iteration 27000: 5.712486\n",
      "Loss after iteration 28000: 5.716031\n",
      "Loss after iteration 29000: 5.712967\n",
      "Loss after iteration 30000: 5.709188\n",
      "Loss after iteration 31000: 5.708349\n",
      "Loss after iteration 32000: 5.707566\n",
      "Loss after iteration 33000: 5.706827\n",
      "Loss after iteration 34000: 5.706127\n",
      "Loss after iteration 35000: 5.705465\n",
      "Loss after iteration 36000: 5.704837\n",
      "Loss after iteration 37000: 5.704240\n",
      "Loss after iteration 38000: 5.703672\n",
      "Loss after iteration 39000: 5.703131\n",
      "Loss after iteration 40000: 5.702616\n",
      "Loss after iteration 41000: 5.702123\n",
      "Loss after iteration 42000: 5.701652\n",
      "Loss after iteration 43000: 5.701202\n",
      "Loss after iteration 44000: 5.700770\n",
      "Loss after iteration 45000: 5.700357\n",
      "Loss after iteration 46000: 5.699960\n",
      "Loss after iteration 47000: 5.699579\n",
      "Loss after iteration 48000: 5.699212\n",
      "Loss after iteration 49000: 5.698859\n",
      "Loss after iteration 50000: 5.706220\n",
      "Loss after iteration 51000: 5.701316\n",
      "Loss after iteration 52000: 5.700182\n",
      "Loss after iteration 53000: 5.698093\n",
      "Loss after iteration 54000: 5.697312\n",
      "Loss after iteration 55000: 5.697027\n",
      "Loss after iteration 56000: 5.696758\n",
      "Loss after iteration 57000: 5.696498\n",
      "Loss after iteration 58000: 5.696247\n",
      "Loss after iteration 59000: 5.696003\n",
      "Loss after iteration 60000: 5.695767\n",
      "Loss after iteration 61000: 5.695538\n",
      "Loss after iteration 62000: 5.695316\n",
      "Loss after iteration 63000: 5.695100\n",
      "Loss after iteration 64000: 5.694891\n",
      "Loss after iteration 65000: 5.694687\n",
      "Loss after iteration 66000: 5.694489\n",
      "Loss after iteration 67000: 5.694297\n",
      "Loss after iteration 68000: 5.694110\n",
      "Loss after iteration 69000: 5.696011\n",
      "Loss after iteration 70000: 5.697275\n",
      "Loss after iteration 71000: 5.695579\n",
      "Loss after iteration 72000: 5.695047\n",
      "Loss after iteration 73000: 5.694010\n",
      "Loss after iteration 74000: 5.693111\n",
      "Loss after iteration 75000: 5.692950\n",
      "Loss after iteration 76000: 5.692801\n",
      "Loss after iteration 77000: 5.692656\n",
      "Loss after iteration 78000: 5.692514\n",
      "Loss after iteration 79000: 5.692376\n",
      "Loss after iteration 80000: 5.692241\n",
      "Loss after iteration 81000: 5.692109\n",
      "Loss after iteration 82000: 5.691980\n",
      "Loss after iteration 83000: 5.691853\n",
      "Loss after iteration 84000: 5.691730\n",
      "Loss after iteration 85000: 5.691609\n",
      "Loss after iteration 86000: 5.691491\n",
      "Loss after iteration 87000: 5.691375\n",
      "Loss after iteration 88000: 5.691262\n",
      "Loss after iteration 89000: 5.691151\n",
      "Loss after iteration 90000: 5.691042\n",
      "Loss after iteration 91000: 5.690936\n",
      "Loss after iteration 92000: 5.690832\n",
      "Loss after iteration 93000: 5.690729\n",
      "Loss after iteration 94000: 5.690629\n",
      "Loss after iteration 95000: 5.690531\n",
      "Loss after iteration 96000: 5.690435\n",
      "Loss after iteration 97000: 5.690340\n",
      "Loss after iteration 98000: 5.690247\n",
      "Loss after iteration 99000: 5.690156\n"
     ]
    }
   ],
   "source": [
    "def train(X, y, W1, W2, learning_rate=0.01, num_iterations=10000, print_loss=False):\n",
    "    Xb = np.hstack(\n",
    "        [X, np.ones((X.shape[0], 1))]\n",
    "    )  # add the bias, now an input set looks like [value1, value2, 1]\n",
    "    loss = []\n",
    "    for iter in range(num_iterations):\n",
    "        # Forward propagation\n",
    "        Z1, probs = forward(X, W1, W2)\n",
    "        lossTemp = -np.sum(y * np.log(probs))\n",
    "        loss.append(lossTemp)\n",
    "\n",
    "        dW1 = np.zeros_like(W1)\n",
    "        dW2 = np.zeros_like(W2)\n",
    "        # Backpropagation\n",
    "\n",
    "        \n",
    "        cost = probs - y # it comes from cross-entropy and softmax derivative\n",
    "        \n",
    "        # Output layer\n",
    "        dZ2 = np.mat(cost)  # 1x2\n",
    "        Z1t = np.mat(Z1)  # 1x4\n",
    "        dW2 += np.dot(Z1t.T, dZ2)  # 4x2\n",
    "        # Hidden layer\n",
    "        dZ1 = np.dot(dZ2, W2.T) \n",
    "        dZ1 = np.multiply(dZ1, (Z1t > 0))\n",
    "        dZ1 = np.mat(dZ1)\n",
    "        dW1 += np.dot(np.mat(Xb).T, dZ1[:,:-1])  # 3x3\n",
    "        # print(dZ2)\n",
    "\n",
    "        # Update the weights\n",
    "        W1 -= learning_rate * dW1 \n",
    "        W2 -= learning_rate * dW2\n",
    "        # Print the loss\n",
    "        if print_loss and iter % 1000 == 0:\n",
    "            print(\"Loss after iteration %i: %f\" % (iter, lossTemp))\n",
    "    return loss, W1, W2\n",
    "\n",
    "\n",
    "# Train the model\n",
    "loss, W1, W2 = train(\n",
    "    X_train, y_train, W1, W2, learning_rate=0.01, num_iterations=100000, print_loss=True\n",
    ")"
   ]
  },
  {
   "cell_type": "code",
   "execution_count": 13,
   "metadata": {},
   "outputs": [],
   "source": [
    "# save W1 and W2 to a file\n",
    "# np.savetxt(\"W1.txt\", W1)\n",
    "# np.savetxt(\"W2.txt\", W2)"
   ]
  },
  {
   "cell_type": "code",
   "execution_count": 14,
   "metadata": {},
   "outputs": [],
   "source": [
    "# load W1 and W2 from files\n",
    "W1 = np.loadtxt(\"W1.txt\")\n",
    "W2 = np.loadtxt(\"W2.txt\")"
   ]
  },
  {
   "cell_type": "code",
   "execution_count": 15,
   "metadata": {},
   "outputs": [
    {
     "data": {
      "text/plain": [
       "[<matplotlib.lines.Line2D at 0x7fbd0344c040>]"
      ]
     },
     "execution_count": 15,
     "metadata": {},
     "output_type": "execute_result"
    },
    {
     "data": {
      "image/png": "[encoded data removed]",
      "text/plain": [
       "<Figure size 640x480 with 1 Axes>"
      ]
     },
     "metadata": {},
     "output_type": "display_data"
    }
   ],
   "source": [
    "# plot loss\n",
    "plt.plot(loss)"
   ]
  },
  {
   "cell_type": "code",
   "execution_count": 16,
   "metadata": {},
   "outputs": [],
   "source": [
    "# create another loss that takes the average of every 1000 values from loss\n",
    "loss2 = []\n",
    "for i in range(0, len(loss), 1000):\n",
    "    loss2.append(np.mean(loss[i:i+1000]))\n",
    "    "
   ]
  },
  {
   "cell_type": "code",
   "execution_count": 17,
   "metadata": {},
   "outputs": [
    {
     "data": {
      "text/plain": [
       "[<matplotlib.lines.Line2D at 0x7fbd0333d430>]"
      ]
     },
     "execution_count": 17,
     "metadata": {},
     "output_type": "execute_result"
    },
    {
     "data": {
      "image/png": "[encoded data removed]",
      "text/plain": [
       "<Figure size 640x480 with 1 Axes>"
      ]
     },
     "metadata": {},
     "output_type": "display_data"
    }
   ],
   "source": [
    "# plot loss2\n",
    "plt.plot(loss2)"
   ]
  },
  {
   "cell_type": "code",
   "execution_count": 18,
   "metadata": {},
   "outputs": [
    {
     "name": "stdout",
     "output_type": "stream",
     "text": [
      "accuracy:  1.0\n"
     ]
    }
   ],
   "source": [
    "# calculate accuracy on test set\n",
    "Z1, probs = forward(X_test, W1, W2)\n",
    "predicted_class = np.argmax(probs, axis=1)\n",
    "print('accuracy: ', accuracy_score(y_test.argmax(axis=1), predicted_class))"
   ]
  },
  {
   "cell_type": "code",
   "execution_count": 19,
   "metadata": {},
   "outputs": [
    {
     "name": "stderr",
     "output_type": "stream",
     "text": [
      "2023-05-11 15:15:54.806173: I tensorflow/core/platform/cpu_feature_guard.cc:182] This TensorFlow binary is optimized to use available CPU instructions in performance-critical operations.\n",
      "To enable the following instructions: AVX2 FMA, in other operations, rebuild TensorFlow with the appropriate compiler flags.\n",
      "2023-05-11 15:16:15.086539: W tensorflow/compiler/tf2tensorrt/utils/py_utils.cc:38] TF-TRT Warning: Could not find TensorRT\n"
     ]
    }
   ],
   "source": [
    "# Download MNIST dataset from web\n",
    "import keras.datasets.mnist as mnist\n",
    "\n",
    "# load\n",
    "(trainImages, trainLabels), (testImages, testLabels) = mnist.load_data()\n"
   ]
  },
  {
   "cell_type": "code",
   "execution_count": null,
   "metadata": {},
   "outputs": [],
   "source": []
  },
  {
   "cell_type": "code",
   "execution_count": 20,
   "metadata": {},
   "outputs": [],
   "source": [
    "# split into test and training with Xm_train, Xm_test, ym_train, ym_test\n",
    "Xm_train, Xm_test, ym_train, ym_test = train_test_split(trainImages, trainLabels, test_size=0.2)"
   ]
  },
  {
   "cell_type": "code",
   "execution_count": 21,
   "metadata": {},
   "outputs": [],
   "source": [
    "# flatten the 28x28 images into 784 dimensional vectors\n",
    "Xm_train = Xm_train.reshape(Xm_train.shape[0], 784)\n",
    "Xm_test = Xm_test.reshape(Xm_test.shape[0], 784)\n"
   ]
  },
  {
   "cell_type": "code",
   "execution_count": 22,
   "metadata": {},
   "outputs": [],
   "source": [
    "# Turn Xm_train, Xm_test into numpy arrays and scale them down to 0-1\n",
    "Xm_train = np.array(Xm_train)\n",
    "Xm_test = np.array(Xm_test)\n",
    "# Xm_train = Xm_train / Xm_train.max(axis=0)\n",
    "# Xm_test = Xm_test / Xm_test.max(axis=0)"
   ]
  },
  {
   "cell_type": "code",
   "execution_count": 23,
   "metadata": {},
   "outputs": [],
   "source": [
    "# scale pixels down to 0-1\n",
    "Xm_train = Xm_train / 255.0\n",
    "Xm_test = Xm_test / 255.0"
   ]
  },
  {
   "cell_type": "code",
   "execution_count": 25,
   "metadata": {},
   "outputs": [],
   "source": [
    "# Compres images by taking the mean of every 4 pixels\n",
    "# X_train = X_train.reshape(X_train.shape[0], 28, 28, 1)\n",
    "# X_train = X_train[:, ::2, ::2, :]\n",
    "# X_train = X_train.reshape(X_train.shape[0], 196)\n",
    "\n",
    "# # same with test images\n",
    "# X_test = X_test.reshape(X_test.shape[0], 28, 28, 1)\n",
    "# X_test = X_test[:, ::2, ::2, :]\n",
    "# X_test = X_test.reshape(X_test.shape[0], 196)"
   ]
  },
  {
   "cell_type": "code",
   "execution_count": 26,
   "metadata": {},
   "outputs": [
    {
     "name": "stdout",
     "output_type": "stream",
     "text": [
      "[1. 1. 1. 1.]\n"
     ]
    }
   ],
   "source": [
    "print(X_train.max(axis=0))"
   ]
  },
  {
   "cell_type": "code",
   "execution_count": 27,
   "metadata": {},
   "outputs": [],
   "source": [
    "# transform ym_train, ym_test into one-hot vectors\n",
    "ym_train = np.eye(10)[ym_train]\n",
    "ym_test = np.eye(10)[ym_test]\n"
   ]
  },
  {
   "cell_type": "code",
   "execution_count": 28,
   "metadata": {},
   "outputs": [
    {
     "name": "stdout",
     "output_type": "stream",
     "text": [
      "[0.         0.         0.         0.         0.         0.\n",
      " 0.         0.         0.         0.         0.         0.\n",
      " 0.03921569 0.84705882 0.84705882 0.03529412 0.         0.\n",
      " 0.         0.         0.         0.         0.         0.\n",
      " 0.         0.         0.         0.         0.         0.\n",
      " 0.         0.         0.0627451  0.18431373 0.61568627 0.99607843\n",
      " 1.         0.99607843 1.         1.         0.99607843 1.\n",
      " 1.         1.         1.         1.         1.         1.\n",
      " 0.95686275 1.         0.72156863 0.05882353 0.         0.\n",
      " 0.         0.         0.         0.         0.25098039 0.11372549\n",
      " 0.5254902  0.24313725 0.91764706 1.         1.         1.\n",
      " 1.         1.         1.         1.         1.         1.\n",
      " 1.         1.         1.         1.         1.         1.\n",
      " 1.         1.         1.         0.64705882 0.         0.\n",
      " 0.         0.         0.55294118 0.39607843 0.37254902 1.\n",
      " 1.         1.         1.         1.         1.         1.\n",
      " 1.         1.         1.         1.         1.         1.\n",
      " 1.         1.         1.         1.         1.         1.\n",
      " 1.         0.75294118 0.4745098  0.         0.         0.14901961\n",
      " 0.16470588 0.39607843 0.99607843 1.         1.         1.\n",
      " 1.         1.         1.         1.         1.         1.\n",
      " 1.         1.         1.         1.         1.         1.\n",
      " 1.         1.         1.         1.         1.         0.99607843\n",
      " 0.86666667 0.24705882 0.         0.         0.37254902 1.\n",
      " 1.         1.         1.         1.         1.         1.\n",
      " 1.         1.         1.         1.         1.         1.\n",
      " 1.         1.         1.         1.         1.         1.\n",
      " 1.         1.         1.         1.         1.         0.36470588\n",
      " 0.         0.02745098 0.82352941 1.         1.         1.\n",
      " 1.         1.         1.         1.         1.         1.\n",
      " 1.         1.         1.         1.         1.         1.\n",
      " 1.         1.         1.         1.         1.         1.\n",
      " 1.         1.         0.99607843 0.73333333 0.         0.56470588\n",
      " 1.         1.         1.         1.         1.         1.\n",
      " 1.         1.         1.         1.         1.         1.\n",
      " 1.         1.         1.         1.         1.         1.\n",
      " 1.         1.         1.         1.         1.         1.\n",
      " 1.         0.99215686 0.20784314 0.97254902 1.         1.\n",
      " 1.         1.         1.         1.         1.         1.\n",
      " 1.         1.         1.         1.         1.         1.\n",
      " 1.         1.         1.         1.         1.         1.\n",
      " 1.         1.         1.         1.         0.99607843 0.86666667\n",
      " 0.30196078 0.99607843 1.         1.         1.         1.\n",
      " 1.         1.         1.         1.         1.         1.\n",
      " 1.         1.         1.         1.         1.         1.\n",
      " 1.         1.         1.         1.         1.         1.\n",
      " 1.         1.         1.         0.8627451  0.7254902  1.\n",
      " 1.         1.         1.         1.         1.         1.\n",
      " 1.         1.         1.         1.         1.         1.\n",
      " 1.         1.         1.         1.         1.         1.\n",
      " 1.         1.         1.         1.         1.         1.\n",
      " 0.99607843 0.79607843 0.58823529 1.         1.         1.\n",
      " 1.         1.         1.         1.         1.         1.\n",
      " 1.         1.         1.         1.         1.         1.\n",
      " 1.         1.         1.         1.         1.         1.\n",
      " 1.         1.         1.         1.         0.99215686 0.51372549\n",
      " 0.63921569 1.         1.         1.         1.         1.\n",
      " 1.         1.         1.         1.         1.         1.\n",
      " 1.         1.         1.         1.         1.         1.\n",
      " 1.         1.         1.         1.         1.         1.\n",
      " 1.         0.99607843 0.98823529 0.59607843 0.1254902  0.99215686\n",
      " 1.         1.         1.         1.         1.         1.\n",
      " 1.         1.         1.         1.         1.         1.\n",
      " 1.         1.         1.         1.         1.         1.\n",
      " 1.         1.         1.         1.         1.         0.99607843\n",
      " 0.98823529 0.96862745 0.44313725 0.4745098  0.99607843 1.\n",
      " 1.         1.         1.         1.         1.         1.\n",
      " 1.         1.         1.         1.         1.         1.\n",
      " 1.         1.         1.         1.         1.         1.\n",
      " 1.         1.         1.         0.99607843 0.99607843 0.2\n",
      " 0.14509804 0.88627451 0.99607843 1.         1.         1.\n",
      " 1.         1.         1.         1.         1.         1.\n",
      " 1.         1.         1.         1.         1.         1.\n",
      " 1.         1.         1.         1.         1.         1.\n",
      " 1.         1.         1.         0.74509804 0.15686275 0.41960784\n",
      " 0.99607843 1.         1.         1.         1.         1.\n",
      " 1.         1.         1.         1.         1.         1.\n",
      " 1.         1.         1.         1.         1.         1.\n",
      " 1.         1.         1.         1.         1.         1.\n",
      " 0.99607843 0.8745098  0.         0.52156863 0.99607843 1.\n",
      " 1.         1.         1.         1.         1.         1.\n",
      " 1.         1.         1.         1.         1.         1.\n",
      " 1.         1.         1.         1.         1.         1.\n",
      " 1.         1.         1.         1.         0.99215686 0.40784314\n",
      " 0.2        0.77254902 1.         1.         1.         1.\n",
      " 1.         1.         1.         1.         1.         1.\n",
      " 1.         1.         1.         1.         1.         1.\n",
      " 1.         1.         1.         1.         1.         1.\n",
      " 1.         1.         1.         0.6        0.         0.65098039\n",
      " 1.         1.         1.         1.         1.         1.\n",
      " 1.         1.         1.         1.         1.         1.\n",
      " 1.         1.         1.         1.         1.         1.\n",
      " 1.         1.         1.         1.         1.         1.\n",
      " 0.99215686 0.4745098  0.         0.7254902  1.         1.\n",
      " 1.         1.         1.         1.         1.         1.\n",
      " 1.         1.         1.         1.         1.         1.\n",
      " 1.         1.         1.         1.         1.         1.\n",
      " 1.         1.         1.         1.         1.         0.2\n",
      " 0.1254902  0.7254902  1.         1.         1.         1.\n",
      " 1.         1.         1.         1.         1.         1.\n",
      " 1.         1.         1.         1.         1.         1.\n",
      " 1.         1.         1.         1.         1.         1.\n",
      " 1.         1.         0.98823529 0.15294118 0.12156863 0.14901961\n",
      " 1.         1.         1.         1.         1.         1.\n",
      " 1.         1.         1.         1.         1.         1.\n",
      " 1.         1.         1.         1.         1.         1.\n",
      " 1.         1.         1.         1.         1.         0.99607843\n",
      " 0.55686275 0.28235294 0.         0.         0.85098039 1.\n",
      " 1.         1.         1.         1.         1.         1.\n",
      " 1.         1.         1.         1.         1.         1.\n",
      " 1.         1.         1.         1.         1.         1.\n",
      " 1.         1.         1.         0.99607843 0.58823529 0.\n",
      " 0.         0.         0.99215686 0.99215686 1.         1.\n",
      " 1.         1.         1.         1.         1.         1.\n",
      " 1.         1.         1.         1.         1.         1.\n",
      " 1.         1.         1.         1.         1.         1.\n",
      " 0.99215686 0.98823529 0.38431373 0.         0.         0.\n",
      " 0.16470588 0.99607843 0.99215686 1.         1.         1.\n",
      " 1.         1.         1.         1.         1.         1.\n",
      " 1.         1.         1.         1.         1.         1.\n",
      " 1.         1.         1.         1.         0.99215686 0.49803922\n",
      " 0.40784314 0.         0.         0.         0.         0.14901961\n",
      " 1.         1.         1.         1.         1.         1.\n",
      " 1.         1.         1.         1.         1.         1.\n",
      " 1.         1.         1.         1.         1.         1.\n",
      " 1.         0.5372549  0.10980392 0.23137255 0.         0.\n",
      " 0.         0.         0.         0.         0.36862745 0.9254902\n",
      " 0.90588235 0.99607843 0.99607843 0.99607843 1.         1.\n",
      " 1.         1.         1.         1.         1.         1.\n",
      " 0.99607843 0.99607843 0.98823529 0.99215686 0.99607843 0.24313725\n",
      " 0.         0.         0.         0.        ]\n"
     ]
    }
   ],
   "source": [
    "print(Xm_train.max(axis=0))"
   ]
  },
  {
   "cell_type": "code",
   "execution_count": 29,
   "metadata": {},
   "outputs": [],
   "source": [
    "import pandas as pd"
   ]
  },
  {
   "cell_type": "code",
   "execution_count": 30,
   "metadata": {},
   "outputs": [],
   "source": [
    "W1m = np.random.randn(785, 10)\n",
    "W2m = np.random.randn(11, 10)"
   ]
  },
  {
   "cell_type": "code",
   "execution_count": 31,
   "metadata": {},
   "outputs": [
    {
     "name": "stdout",
     "output_type": "stream",
     "text": [
      "Loss after iteration 0: 1179252.069594\n"
     ]
    },
    {
     "name": "stderr",
     "output_type": "stream",
     "text": [
      "/tmp/ipykernel_2129/1356095973.py:13: RuntimeWarning: overflow encountered in exp\n",
      "  exp_scores = np.exp(H2)\n",
      "/tmp/ipykernel_2129/1356095973.py:14: RuntimeWarning: invalid value encountered in divide\n",
      "  probs = exp_scores / np.sum(exp_scores, axis=1, keepdims=True)\n",
      "/tmp/ipykernel_2129/1342147666.py:9: RuntimeWarning: divide by zero encountered in log\n",
      "  lossTemp = -np.sum(y * np.log(probs))\n",
      "/tmp/ipykernel_2129/1342147666.py:9: RuntimeWarning: invalid value encountered in multiply\n",
      "  lossTemp = -np.sum(y * np.log(probs))\n"
     ]
    },
    {
     "ename": "KeyboardInterrupt",
     "evalue": "",
     "output_type": "error",
     "traceback": [
      "\u001b[0;31m---------------------------------------------------------------------------\u001b[0m",
      "\u001b[0;31mKeyboardInterrupt\u001b[0m                         Traceback (most recent call last)",
      "Cell \u001b[0;32mIn[31], line 2\u001b[0m\n\u001b[1;32m      1\u001b[0m \u001b[39m# train the model\u001b[39;00m\n\u001b[0;32m----> 2\u001b[0m lossm, W1m, W2m \u001b[39m=\u001b[39m train(\n\u001b[1;32m      3\u001b[0m     Xm_train, ym_train, W1m, W2m, learning_rate\u001b[39m=\u001b[39;49m\u001b[39m0.005\u001b[39;49m, num_iterations\u001b[39m=\u001b[39;49m\u001b[39m50\u001b[39;49m, print_loss\u001b[39m=\u001b[39;49m\u001b[39mTrue\u001b[39;49;00m\n\u001b[1;32m      4\u001b[0m )\n",
      "Cell \u001b[0;32mIn[12], line 27\u001b[0m, in \u001b[0;36mtrain\u001b[0;34m(X, y, W1, W2, learning_rate, num_iterations, print_loss)\u001b[0m\n\u001b[1;32m     25\u001b[0m dZ1 \u001b[39m=\u001b[39m np\u001b[39m.\u001b[39mmultiply(dZ1, (Z1t \u001b[39m>\u001b[39m \u001b[39m0\u001b[39m))\n\u001b[1;32m     26\u001b[0m dZ1 \u001b[39m=\u001b[39m np\u001b[39m.\u001b[39mmat(dZ1)\n\u001b[0;32m---> 27\u001b[0m dW1 \u001b[39m+\u001b[39m\u001b[39m=\u001b[39m np\u001b[39m.\u001b[39;49mdot(np\u001b[39m.\u001b[39;49mmat(Xb)\u001b[39m.\u001b[39;49mT, dZ1[:,:\u001b[39m-\u001b[39;49m\u001b[39m1\u001b[39;49m])  \u001b[39m# 3x3\u001b[39;00m\n\u001b[1;32m     28\u001b[0m \u001b[39m# print(dZ2)\u001b[39;00m\n\u001b[1;32m     29\u001b[0m \n\u001b[1;32m     30\u001b[0m \u001b[39m# Update the weights\u001b[39;00m\n\u001b[1;32m     31\u001b[0m W1 \u001b[39m-\u001b[39m\u001b[39m=\u001b[39m learning_rate \u001b[39m*\u001b[39m dW1 \n",
      "File \u001b[0;32m<__array_function__ internals>:180\u001b[0m, in \u001b[0;36mdot\u001b[0;34m(*args, **kwargs)\u001b[0m\n",
      "\u001b[0;31mKeyboardInterrupt\u001b[0m: "
     ]
    }
   ],
   "source": [
    "# train the model\n",
    "lossm, W1m, W2m = train(\n",
    "    Xm_train, ym_train, W1m, W2m, learning_rate=0.005, num_iterations=50, print_loss=True\n",
    ")\n"
   ]
  },
  {
   "cell_type": "code",
   "execution_count": null,
   "metadata": {},
   "outputs": [],
   "source": [
    "# save W1m and W2m to files\n",
    "# np.savetxt(\"W1m.txt\", W1m)\n",
    "# np.savetxt(\"W2m.txt\", W2m)"
   ]
  },
  {
   "cell_type": "code",
   "execution_count": null,
   "metadata": {},
   "outputs": [
    {
     "name": "stdout",
     "output_type": "stream",
     "text": [
      "accuracy:  0.09866666666666667\n"
     ]
    }
   ],
   "source": [
    "# print accuracy on test set\n",
    "Z1m, probsm = forward(X_test, W1m, W2m)\n",
    "predicted_classm = np.argmax(probsm, axis=1)\n",
    "print('accuracy: ', accuracy_score(y_test, predicted_classm))"
   ]
  },
  {
   "cell_type": "code",
   "execution_count": 32,
   "metadata": {},
   "outputs": [],
   "source": [
    "# using keras to train a CNN for Mnist\n",
    "from keras.models import Sequential\n",
    "from keras.layers import Dense, Conv2D, Flatten, MaxPooling2D"
   ]
  },
  {
   "cell_type": "code",
   "execution_count": 33,
   "metadata": {},
   "outputs": [],
   "source": [
    "# load Mnist into mTrainImages, mTrainLabels, mTestImages, mTestLabels\n",
    "(mTrainImages, mTrainLabels), (mTestImages, mTestLabels) = mnist.load_data()"
   ]
  },
  {
   "cell_type": "code",
   "execution_count": 36,
   "metadata": {},
   "outputs": [
    {
     "name": "stderr",
     "output_type": "stream",
     "text": [
      "2023-05-11 15:17:47.333037: I tensorflow/compiler/xla/stream_executor/cuda/cuda_gpu_executor.cc:982] could not open file to read NUMA node: /sys/bus/pci/devices/0000:01:00.0/numa_node\n",
      "Your kernel may have been built without NUMA support.\n",
      "2023-05-11 15:17:47.449397: W tensorflow/core/common_runtime/gpu/gpu_device.cc:1956] Cannot dlopen some GPU libraries. Please make sure the missing libraries mentioned above are installed properly if you would like to use GPU. Follow the guide at https://www.tensorflow.org/install/gpu for how to download and setup the required libraries for your platform.\n",
      "Skipping registering GPU devices...\n"
     ]
    }
   ],
   "source": [
    "# implement lenet\n",
    "model = Sequential()\n",
    "model.add(Conv2D(6, kernel_size=5, activation='relu', input_shape=(28,28,1)))\n",
    "model.add(MaxPooling2D(pool_size=(2, 2)))\n",
    "model.add(Conv2D(16, kernel_size=5, activation='relu'))\n",
    "model.add(MaxPooling2D(pool_size=(2, 2)))\n",
    "model.add(Flatten())\n",
    "model.add(Dense(120, activation='relu'))\n",
    "\n",
    "model.add(Dense(84, activation='relu'))\n",
    "model.add(Dense(10, activation='softmax'))\n"
   ]
  },
  {
   "cell_type": "code",
   "execution_count": 37,
   "metadata": {},
   "outputs": [
    {
     "name": "stdout",
     "output_type": "stream",
     "text": [
      "Epoch 1/3\n",
      "1875/1875 [==============================] - 19s 9ms/step - loss: 0.4206 - accuracy: 0.9137 - val_loss: 0.1317 - val_accuracy: 0.9590\n",
      "Epoch 2/3\n",
      "1875/1875 [==============================] - 17s 9ms/step - loss: 0.0959 - accuracy: 0.9707 - val_loss: 0.0689 - val_accuracy: 0.9788\n",
      "Epoch 3/3\n",
      "1875/1875 [==============================] - 15s 8ms/step - loss: 0.0721 - accuracy: 0.9781 - val_loss: 0.0666 - val_accuracy: 0.9792\n"
     ]
    },
    {
     "data": {
      "text/plain": [
       "<keras.callbacks.History at 0x7fbcbb32c820>"
      ]
     },
     "execution_count": 37,
     "metadata": {},
     "output_type": "execute_result"
    }
   ],
   "source": [
    "# train\n",
    "model.compile(optimizer='adam', loss='categorical_crossentropy', metrics=['accuracy'])\n",
    "model.fit(mTrainImages.reshape(mTrainImages.shape[0], 28, 28, 1), np.array(pd.get_dummies(mTrainLabels)), validation_data=(mTestImages.reshape(mTestImages.shape[0], 28, 28, 1), np.array(pd.get_dummies(mTestLabels))), epochs=3)\n"
   ]
  },
  {
   "cell_type": "code",
   "execution_count": 34,
   "metadata": {},
   "outputs": [],
   "source": [
    "# show confusion matrix\n",
    "from sklearn.metrics import confusion_matrix\n",
    "import seaborn as sns\n"
   ]
  },
  {
   "cell_type": "code",
   "execution_count": null,
   "metadata": {},
   "outputs": [
    {
     "name": "stdout",
     "output_type": "stream",
     "text": [
      "313/313 [==============================] - 1s 3ms/step\n",
      "accuracy:  0.9772\n"
     ]
    }
   ],
   "source": [
    "# accuracy\n",
    "res = model.predict(mTestImages.reshape(mTestImages.shape[0], 28, 28, 1))\n",
    "predicted_class = np.argmax(res, axis=1)\n",
    "print('accuracy: ', accuracy_score(mTestLabels, predicted_class))"
   ]
  },
  {
   "cell_type": "code",
   "execution_count": null,
   "metadata": {},
   "outputs": [
    {
     "data": {
      "text/plain": [
       "<AxesSubplot:>"
      ]
     },
     "execution_count": 166,
     "metadata": {},
     "output_type": "execute_result"
    },
    {
     "data": {
      "image/png": "[encoded data removed]",
      "text/plain": [
       "<Figure size 640x480 with 2 Axes>"
      ]
     },
     "metadata": {},
     "output_type": "display_data"
    }
   ],
   "source": [
    "# confusion matrix\n",
    "cm = confusion_matrix(mTestLabels, predicted_class)\n",
    "sns.heatmap(cm, annot=True, fmt='d')"
   ]
  },
  {
   "cell_type": "code",
   "execution_count": null,
   "metadata": {},
   "outputs": [],
   "source": [
    "# Now train a dense network on the same data\n",
    "model2 = Sequential()\n",
    "model2.add(Dense(120, activation='relu', input_shape=(784,)))\n",
    "model2.add(Dense(84, activation='relu'))\n",
    "model2.add(Dense(10, activation='softmax'))\n"
   ]
  },
  {
   "cell_type": "code",
   "execution_count": null,
   "metadata": {},
   "outputs": [
    {
     "name": "stdout",
     "output_type": "stream",
     "text": [
      "Epoch 1/3\n",
      "1875/1875 [==============================] - 6s 3ms/step - loss: 1.4369 - accuracy: 0.8643 - val_loss: 0.3526 - val_accuracy: 0.9130\n",
      "Epoch 2/3\n",
      "1875/1875 [==============================] - 5s 3ms/step - loss: 0.2612 - accuracy: 0.9311 - val_loss: 0.2396 - val_accuracy: 0.9332\n",
      "Epoch 3/3\n",
      "1875/1875 [==============================] - 5s 3ms/step - loss: 0.1913 - accuracy: 0.9462 - val_loss: 0.1762 - val_accuracy: 0.9522\n"
     ]
    },
    {
     "data": {
      "text/plain": [
       "<keras.callbacks.History at 0x7f099df7d340>"
      ]
     },
     "execution_count": 169,
     "metadata": {},
     "output_type": "execute_result"
    }
   ],
   "source": [
    "# compile\n",
    "model2.compile(optimizer='adam', loss='categorical_crossentropy', metrics=['accuracy'])\n",
    "# train on mTrainImages, mTrainLabels\n",
    "model2.fit(mTrainImages.reshape(mTrainImages.shape[0], 784), np.array(pd.get_dummies(mTrainLabels)), validation_data=(mTestImages.reshape(mTestImages.shape[0], 784), np.array(pd.get_dummies(mTestLabels))), epochs=3)"
   ]
  },
  {
   "cell_type": "code",
   "execution_count": null,
   "metadata": {},
   "outputs": [
    {
     "name": "stdout",
     "output_type": "stream",
     "text": [
      "313/313 [==============================] - 1s 2ms/step\n",
      "accuracy:  0.9522\n"
     ]
    },
    {
     "data": {
      "text/plain": [
       "<AxesSubplot:>"
      ]
     },
     "execution_count": 170,
     "metadata": {},
     "output_type": "execute_result"
    },
    {
     "data": {
      "image/png": "[encoded data removed]",
      "text/plain": [
       "<Figure size 640x480 with 2 Axes>"
      ]
     },
     "metadata": {},
     "output_type": "display_data"
    }
   ],
   "source": [
    "# accuracy and confusion matrix\n",
    "res2 = model2.predict(mTestImages.reshape(mTestImages.shape[0], 784))\n",
    "predicted_class2 = np.argmax(res2, axis=1)\n",
    "print('accuracy: ', accuracy_score(mTestLabels, predicted_class2))\n",
    "cm2 = confusion_matrix(mTestLabels, predicted_class2)\n",
    "sns.heatmap(cm2, annot=True, fmt='d')"
   ]
  },
  {
   "attachments": {},
   "cell_type": "markdown",
   "metadata": {},
   "source": [
    "Cannot really apply sepia filter unless image is RGB..."
   ]
  },
  {
   "cell_type": "code",
   "execution_count": 47,
   "metadata": {},
   "outputs": [
    {
     "data": {
      "text/plain": [
       "<matplotlib.image.AxesImage at 0x7fbc8042ffd0>"
      ]
     },
     "execution_count": 47,
     "metadata": {},
     "output_type": "execute_result"
    },
    {
     "data": {
      "image/png": "[encoded data removed]",
      "text/plain": [
       "<Figure size 640x480 with 1 Axes>"
      ]
     },
     "metadata": {},
     "output_type": "display_data"
    }
   ],
   "source": [
    "# take one image from the training set\n",
    "img = mTrainImages[0]\n",
    "plt.imshow(img, cmap='gray')"
   ]
  },
  {
   "cell_type": "code",
   "execution_count": 46,
   "metadata": {},
   "outputs": [
    {
     "data": {
      "text/plain": [
       "<matplotlib.image.AxesImage at 0x7fbc80479be0>"
      ]
     },
     "execution_count": 46,
     "metadata": {},
     "output_type": "execute_result"
    },
    {
     "data": {
      "image/png": "[encoded data removed]",
      "text/plain": [
       "<Figure size 640x480 with 1 Axes>"
      ]
     },
     "metadata": {},
     "output_type": "display_data"
    }
   ],
   "source": [
    "# apply a sepia filter to it\n",
    "sepia = np.array([[0.393, 0.769, 0.189],\n",
    "                    [0.349, 0.686, 0.168],\n",
    "                    [0.272, 0.534, 0.131]])\n",
    "\n",
    "# function to convolve a 3x3 filter over an image\n",
    "def convolve(img, filter):\n",
    "    img = img.astype(float)\n",
    "    result = np.zeros((img.shape[0]-2, img.shape[1]-2))\n",
    "    for i in range(1, img.shape[0]-1):\n",
    "        for j in range(1, img.shape[1]-1):\n",
    "            result[i-1, j-1] = np.sum(img[i-1:i+2, j-1:j+2] * filter)\n",
    "    return result\n",
    "\n",
    "\n",
    "\n",
    "plt.imshow(sepia_img, cmap='gray')"
   ]
  }
 ],
 "metadata": {
  "file_extension": ".py",
  "interpreter": {
   "hash": "e9dc543f66030a8dac45661f55ca2fb15f567084184f0424c1f0b6ed578c96be"
  },
  "kernelspec": {
   "display_name": "Python 3.7.2 64-bit ('myenv': venv)",
   "name": "python3"
  },
  "language_info": {
   "codemirror_mode": {
    "name": "ipython",
    "version": 3
   },
   "file_extension": ".py",
   "mimetype": "text/x-python",
   "name": "python",
   "nbconvert_exporter": "python",
   "pygments_lexer": "ipython3",
   "version": "3.8.16"
  },
  "mimetype": "text/x-python",
  "name": "python",
  "npconvert_exporter": "python",
  "orig_nbformat": 2,
  "pygments_lexer": "ipython3",
  "version": 3
 },
 "nbformat": 4,
 "nbformat_minor": 2
}
