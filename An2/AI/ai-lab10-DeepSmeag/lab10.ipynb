{
 "cells": [
  {
   "attachments": {},
   "cell_type": "markdown",
   "metadata": {},
   "source": [
    "# Probleme de clasificare nesupervizata (clustering) <img src=\"https://upload.wikimedia.org/wikipedia/commons/c/c8/Cluster-2.svg\" width=\"150\">"
   ]
  },
  {
   "attachments": {},
   "cell_type": "markdown",
   "metadata": {},
   "source": [
    "## Obiective\n",
    "* rezolvarea unei probleme de clustering (metoda bazata pe k-means)\n",
    "* extragerea de caracteristici din informatiile textuale\n",
    "\n",
    "## Cuvinte cheie:\n",
    "* date de antrenare si date de testare \n",
    "* atribute/catacteristici ale datelor\n",
    "* etichete ale datelor\n",
    "* normalizare date \n",
    "* model de clusterizare\n",
    "* acuratetea clusterizarii"
   ]
  },
  {
   "attachments": {},
   "cell_type": "markdown",
   "metadata": {},
   "source": [
    "## Aspecte teoretice"
   ]
  },
  {
   "attachments": {},
   "cell_type": "markdown",
   "metadata": {},
   "source": [
    "Clasificarea nesupervizata, numita si clusterizare, are drept scop invatarea unei modalitati de grupare a datelor pentru care nu au fost oferite in prealabil detalii despre apartententa lor la anumite clase. In loc sa raspunda la un feedback (construit pe baza etichetelor asociate exemplelor de antrenament), clasificarea nesuepervizata identifica asemanari intre date. \n",
    "\n",
    "Se doreste impartirea unor exemple neetichetate în submultimi disjuncte (clusteri) astfel incat:\n",
    "* exemplele din acelasi cluster sunt foarte similare\n",
    "* exemplele din clusteri diferiti sunt foarte diferite\n",
    "\n",
    "\n",
    "### Exemple de probleme de clusterizare:\n",
    "* segmentarea clientilor de pe o anumita piata  \n",
    "* analize in retele sociale (identificarea unor grupuri cu anumite particularitati)\n",
    "* compresia imaginilor"
   ]
  },
  {
   "attachments": {},
   "cell_type": "markdown",
   "metadata": {},
   "source": [
    "<details>\n",
    "  <summary>Remember the theory behind clustering </summary>\n",
    " \n",
    "\n",
    "### Formalizare problema de clusterizare:\n",
    "\n",
    "Clusterizarea presupune identificarea unui model de asociere exemplu-eticheta.\n",
    "Se dau:\n",
    "* un set de date de train si un set de date de test\n",
    "* fiecare data (exemplu) se caracterizeaza prin $m$ $atribute$ ($x = (x_1, x_2, ..., x_m)$) (atributele pot fi valori numerice sau valori nenumerice)\n",
    "\n",
    "Se cere sa se determine o functie (necunoscuta) care realizeaza gruparea datelor de antrenament in mai multe clase\n",
    "* nr de clase poate fi pre-definit (k) sau necunoscut\n",
    "* datele dintr-o clasa sunt asemanatoare\n",
    "* clasa asociata unei date (noi) de test folosind gruparea invatata pe datele de antrenament\n",
    "\n",
    "\n",
    "\n",
    "### Algoritmi\n",
    "* k-means <img src=\"http://shabal.in/visuals/kmeans/random.gif\" width=\"150\">\n",
    "\n",
    "\n",
    "Logica k-means:\n",
    "\n",
    "1. Se initializeaza $k$ centroizi $\\mu_1$, $\\mu_2$, ..., $\\mu_{k}$. Un centroid $\\mu_j$ este un vector cu $m$ valori ($m$ - nr de atribute). Initializarea se poate realiza:\n",
    "* pur random\n",
    "* alegand, random, $k$ exemple (din setul de date de antrenament)\n",
    "\n",
    "2. Se repeta pana la convergenta: \n",
    "\n",
    "- Fiecare exemplu $x^i$ din setul de antrenament se asociaza celui mai apropiat centroid (i se asociaza eticheta $c^i$)\n",
    "$$c^i = \\arg\\min_{j=1,2,  \\ldots, k}{dist(x^i, \\mu_j)},$$\n",
    "\n",
    "unde $dist(a,b)$ este o functie care masoara distanta intre 2 exemple $a$ si $b$ (intre atributele lor).\n",
    "\n",
    "- Se recalculeaza centroizii prin mutarea lor in media exemplelor asociate fiecaruia\n",
    "\n",
    "$$ \\mu_j = \\frac{\\sum_{i=1,2, \\ldots, N}{1_{c^i=j} x^i}}{\\sum_{i=1,2, \\ldots, N}{1_{c^i=j}}}$$ \n",
    "\n",
    "\n",
    "</details>\n"
   ]
  },
  {
   "attachments": {},
   "cell_type": "markdown",
   "metadata": {},
   "source": [
    "## Exemple"
   ]
  },
  {
   "attachments": {},
   "cell_type": "markdown",
   "metadata": {},
   "source": [
    "### Demo1"
   ]
  },
  {
   "attachments": {},
   "cell_type": "markdown",
   "metadata": {},
   "source": [
    "#### Problema: Ce fel de mesaje primesti in Inbox? \n",
    "Se doreste clusterizarea unor mesaje in doua categorii (spam si ham). Pentru fiecare mesaj se cunoaste textul aferent lui. Să se rezolve problema, implementându-se rutine pentru clusterizare cu k-means a mesajelor.\n",
    "\n",
    "Proces:\n",
    "* Se pleaca de la un set de date format din textul mesajelor precum cel din fisierul spam csv [link](data/spam.csv).\n",
    "* Se imparte setul de date in date de antrenament si in date de test\n",
    "* Se extrag anumite caracteristici din textul mesajelor folosind diferite reprezentari precum:\n",
    "    - Bag of Words\n",
    "    - TF-IDF\n",
    "    - Word2Vec\n",
    "* invatare model - se aplica algoritmul k-means pe setul de antrenament si se identifica cei doi centroizi (corespunzatori clusterilor spam si ham, respectiv)\n",
    "* stabilire rezultate (pt datele de test) - fiecare mesaj din setul de test se asociaza acelui cluster pentru care distanta dintre caracteristicile mesajului si centroid este minima\n",
    "* calcul metrici de performanta"
   ]
  },
  {
   "cell_type": "code",
   "execution_count": 10,
   "metadata": {},
   "outputs": [],
   "source": [
    "import csv\n",
    "import os"
   ]
  },
  {
   "attachments": {},
   "cell_type": "markdown",
   "metadata": {},
   "source": [
    "#### Pasul 1 - incarcare date"
   ]
  },
  {
   "cell_type": "code",
   "execution_count": 11,
   "metadata": {},
   "outputs": [
    {
     "name": "stdout",
     "output_type": "stream",
     "text": [
      "['Go until jurong point, crazy.. Available only in bugis n great world la e buffet... Cine there got amore wat...', 'Ok lar... Joking wif u oni...']\n",
      "['ham', 'spam']\n"
     ]
    }
   ],
   "source": [
    "# load some data\n",
    "crtDir =  os.getcwd()\n",
    "fileName = os.path.join(crtDir, 'data', 'spam.csv')\n",
    "\n",
    "data = []\n",
    "with open(fileName) as csv_file:\n",
    "    csv_reader = csv.reader(csv_file, delimiter=',')\n",
    "    line_count = 0\n",
    "    for row in csv_reader:\n",
    "        if line_count == 0:\n",
    "            dataNames = row\n",
    "        else:\n",
    "            data.append(row)\n",
    "        line_count += 1\n",
    "\n",
    "inputs = [data[i][0] for i in range(len(data))]\n",
    "outputs = [data[i][1] for i in range(len(data))]\n",
    "labelNames = list(set(outputs))\n",
    "\n",
    "print(inputs[:2])\n",
    "print(labelNames[:2])"
   ]
  },
  {
   "attachments": {},
   "cell_type": "markdown",
   "metadata": {},
   "source": [
    "#### Pasul 2 - impartire date (antrenament si test)"
   ]
  },
  {
   "cell_type": "code",
   "execution_count": 12,
   "metadata": {},
   "outputs": [
    {
     "name": "stdout",
     "output_type": "stream",
     "text": [
      "['Probably, want to pick up more?', \"No go. No openings for that room 'til after thanksgiving without an upcharge.\", \"Fuck babe ... I miss you already, you know ? Can't you let me send you some money towards your net ? I need you ... I want you ... I crave you ...\"]\n"
     ]
    }
   ],
   "source": [
    "# prepare data for training and testing\n",
    "\n",
    "import numpy as np\n",
    "\n",
    "np.random.seed(5)\n",
    "# noSamples = inputs.shape[0]\n",
    "noSamples = len(inputs)\n",
    "indexes = [i for i in range(noSamples)]\n",
    "trainSample = np.random.choice(indexes, int(0.8 * noSamples), replace = False)\n",
    "testSample = [i for i in indexes  if not i in trainSample]\n",
    "\n",
    "trainInputs = [inputs[i] for i in trainSample]\n",
    "trainOutputs = [outputs[i] for i in trainSample]\n",
    "testInputs = [inputs[i] for i in testSample]\n",
    "testOutputs = [outputs[i] for i in testSample]\n",
    "\n",
    "print(trainInputs[:3])"
   ]
  },
  {
   "attachments": {},
   "cell_type": "markdown",
   "metadata": {},
   "source": [
    "#### Pasul 3 - extragere caracteristici"
   ]
  },
  {
   "cell_type": "code",
   "execution_count": 13,
   "metadata": {
    "tags": [
     "outputPrepend"
    ]
   },
   "outputs": [
    {
     "name": "stdout",
     "output_type": "stream",
     "text": [
      "vocab:  ['00' '000' '000pes' '008704050406' '0089' '0121' '01223585236'\n",
      " '01223585334' '0125698789' '02']\n",
      "features:  [[0 0 0 ... 0 0 0]\n",
      " [0 0 0 ... 0 0 0]\n",
      " [0 0 0 ... 0 0 0]]\n"
     ]
    }
   ],
   "source": [
    "# extract some features from the raw text\n",
    "\n",
    "# # representation 1: Bag of Words\n",
    "from sklearn.feature_extraction.text import CountVectorizer\n",
    "vectorizer = CountVectorizer()\n",
    "\n",
    "trainFeatures = vectorizer.fit_transform(trainInputs)\n",
    "testFeatures = vectorizer.transform(testInputs)\n",
    "\n",
    "# vocabbulary from the train data \n",
    "print('vocab: ', vectorizer.get_feature_names_out()[:10])\n",
    "# extracted features\n",
    "print('features: ', trainFeatures.toarray()[:3][:10])\n",
    "\n",
    "\n"
   ]
  },
  {
   "cell_type": "code",
   "execution_count": 14,
   "metadata": {},
   "outputs": [
    {
     "name": "stdout",
     "output_type": "stream",
     "text": [
      "vocab:  ['all' 'and' 'are' 'at' 'be' 'but' 'call' 'can' 'do' 'for']\n",
      "features:  [[0.         0.         0.         0.         0.         0.\n",
      "  0.         0.         0.         0.         0.         0.\n",
      "  0.         0.         0.         0.         0.         0.\n",
      "  0.         0.         0.         0.         0.         0.\n",
      "  0.         0.         0.         0.         0.         0.\n",
      "  0.         0.         0.         0.         0.         0.\n",
      "  0.         0.         0.         0.         0.48953734 0.87198234\n",
      "  0.         0.         0.         0.         0.         0.\n",
      "  0.         0.        ]\n",
      " [0.         0.         0.         0.         0.         0.\n",
      "  0.         0.         0.         0.3295343  0.         0.\n",
      "  0.         0.41451322 0.         0.         0.         0.\n",
      "  0.         0.         0.         0.         0.         0.\n",
      "  0.         0.         0.         0.         0.77284681 0.\n",
      "  0.         0.         0.         0.         0.         0.\n",
      "  0.         0.34970523 0.         0.         0.         0.\n",
      "  0.         0.         0.         0.         0.         0.\n",
      "  0.         0.        ]\n",
      " [0.         0.         0.         0.         0.         0.\n",
      "  0.         0.20535323 0.         0.         0.         0.\n",
      "  0.         0.         0.         0.         0.         0.\n",
      "  0.         0.         0.         0.         0.         0.23700619\n",
      "  0.         0.         0.17910235 0.         0.         0.\n",
      "  0.         0.         0.         0.         0.         0.\n",
      "  0.         0.         0.         0.         0.         0.\n",
      "  0.         0.         0.         0.         0.         0.\n",
      "  0.91375159 0.1861142 ]]\n"
     ]
    }
   ],
   "source": [
    "# representation 2: tf-idf features - word granularity\n",
    "from sklearn.feature_extraction.text import TfidfVectorizer\n",
    "vectorizer = TfidfVectorizer(max_features=50)\n",
    "\n",
    "trainFeatures = vectorizer.fit_transform(trainInputs)\n",
    "testFeatures = vectorizer.transform(testInputs)\n",
    "\n",
    "# vocabbulary from the train data \n",
    "print('vocab: ', vectorizer.get_feature_names_out()[:10])\n",
    "# extracted features\n",
    "print('features: ', trainFeatures.toarray()[:3])\n"
   ]
  },
  {
   "cell_type": "code",
   "execution_count": 17,
   "metadata": {},
   "outputs": [
    {
     "name": "stdout",
     "output_type": "stream",
     "text": [
      "[('supporting', 0.6251285076141357), ('suport', 0.6071150302886963), ('suppport', 0.6053199768066406), ('Support', 0.6044272780418396), ('supported', 0.6009396314620972), ('backing', 0.6007589101791382), ('supports', 0.5269277691841125), ('assistance', 0.5207138061523438), ('sup_port', 0.5192490220069885), ('supportive', 0.5110024809837341)]\n",
      "vec for house:  [ 1.57226562e-01 -7.08007812e-02  5.39550781e-02 -1.89208984e-02\n",
      "  9.17968750e-02  2.55126953e-02  7.37304688e-02 -5.68847656e-02\n",
      "  1.79687500e-01  9.27734375e-02  9.03320312e-02 -4.12109375e-01\n",
      " -8.30078125e-02 -1.45507812e-01 -2.37304688e-01 -3.68652344e-02\n",
      "  8.74023438e-02 -2.77099609e-02  1.13677979e-03  8.30078125e-02\n",
      "  3.57421875e-01 -2.61718750e-01  7.47070312e-02 -8.10546875e-02\n",
      " -2.35595703e-02 -1.61132812e-01 -4.78515625e-02  1.85546875e-01\n",
      " -3.97949219e-02 -1.58203125e-01 -4.37011719e-02 -1.11328125e-01\n",
      " -1.05957031e-01  9.86328125e-02 -8.34960938e-02 -1.27929688e-01\n",
      " -1.39648438e-01 -1.86523438e-01 -5.71289062e-02 -1.17675781e-01\n",
      " -1.32812500e-01  1.55639648e-02  1.34765625e-01  8.39843750e-02\n",
      " -9.03320312e-02 -4.12597656e-02 -2.51953125e-01 -2.27539062e-01\n",
      " -6.64062500e-02 -7.66601562e-02  5.15136719e-02  5.90820312e-02\n",
      "  3.49609375e-01 -1.13769531e-01 -2.57568359e-02 -1.98242188e-01\n",
      "  4.44335938e-02  1.09863281e-01  1.04003906e-01 -1.75781250e-01\n",
      "  1.22558594e-01  7.81250000e-02  6.20117188e-02  6.49414062e-02\n",
      " -1.73828125e-01 -1.11694336e-02  1.88476562e-01  3.34472656e-02\n",
      " -4.29687500e-02 -4.71191406e-02  2.91015625e-01  4.19921875e-02\n",
      "  1.59179688e-01  1.22558594e-01 -2.55859375e-01  2.44140625e-01\n",
      "  1.54296875e-01 -3.46679688e-02  1.24023438e-01 -1.32812500e-01\n",
      "  8.44726562e-02  3.71093750e-02 -1.05468750e-01  9.81445312e-02\n",
      " -8.23974609e-03  5.34667969e-02 -1.96838379e-03  9.03320312e-02\n",
      "  1.30859375e-01 -1.57470703e-02 -2.40478516e-02 -3.29589844e-02\n",
      " -5.63964844e-02 -3.12500000e-01 -1.19140625e-01  4.41894531e-02\n",
      " -1.82617188e-01 -2.20703125e-01  8.39843750e-02 -2.15820312e-01\n",
      " -1.60156250e-01 -2.01171875e-01  1.63085938e-01 -4.57763672e-05\n",
      "  4.24804688e-02 -1.37695312e-01 -2.62451172e-02  1.53320312e-01\n",
      " -1.07421875e-01 -1.34765625e-01 -3.73840332e-03 -1.51977539e-02\n",
      " -7.27539062e-02  3.22265625e-02  1.89453125e-01 -8.00781250e-02\n",
      "  1.45507812e-01 -9.66796875e-02 -9.27734375e-02  8.91113281e-03\n",
      " -4.27246094e-02 -9.76562500e-02  3.29589844e-02 -7.95898438e-02\n",
      " -6.25000000e-02  3.39355469e-02  1.05590820e-02 -1.28906250e-01\n",
      "  1.09863281e-01  1.89453125e-01  1.52343750e-01 -1.47460938e-01\n",
      " -3.86047363e-03  1.75781250e-01 -4.58984375e-02 -1.02539062e-01\n",
      "  6.34765625e-02 -9.86328125e-02  1.87500000e-01  3.97949219e-02\n",
      " -2.65625000e-01 -1.24023438e-01 -1.35742188e-01  7.93457031e-03\n",
      "  6.59179688e-02  8.11767578e-03 -3.24707031e-02 -1.03759766e-02\n",
      " -1.90429688e-02 -8.20312500e-02  2.06054688e-01  1.40625000e-01\n",
      "  1.93359375e-01  2.91015625e-01 -9.17968750e-02 -1.40625000e-01\n",
      " -1.75781250e-01 -1.36718750e-01  2.51464844e-02 -5.83496094e-02\n",
      " -1.84570312e-01  3.10546875e-01  7.17773438e-02 -1.01074219e-01\n",
      "  1.08886719e-01 -2.23388672e-02  1.50390625e-01 -7.03125000e-02\n",
      "  1.24023438e-01  2.21679688e-01 -1.97265625e-01 -6.05468750e-02\n",
      " -4.30297852e-03 -1.69921875e-01 -1.45507812e-01 -2.17773438e-01\n",
      "  2.47070312e-01  6.64062500e-02 -8.05664062e-02  3.57421875e-01\n",
      " -8.20312500e-02 -7.87353516e-03  1.08886719e-01 -5.32226562e-02\n",
      "  3.00781250e-01 -2.37304688e-01  1.61132812e-01  1.59179688e-01\n",
      "  1.69921875e-01 -9.52148438e-02  5.20019531e-02 -6.22558594e-02\n",
      " -8.85009766e-03  4.68750000e-02 -2.88085938e-02  1.25000000e-01\n",
      "  3.49121094e-02  4.61425781e-02  1.66015625e-02 -9.57031250e-02\n",
      " -1.48437500e-01 -1.64794922e-02 -2.22656250e-01 -2.51953125e-01\n",
      " -3.58886719e-02 -2.52685547e-02  8.39233398e-05  6.98242188e-02\n",
      "  2.53906250e-01 -3.29589844e-02  6.59179688e-02  6.28662109e-03\n",
      " -7.86132812e-02 -3.01513672e-02 -9.47265625e-02  1.25000000e-01\n",
      " -1.62109375e-01  2.53906250e-01 -3.30078125e-01  6.44531250e-02\n",
      " -9.09423828e-03  7.12890625e-02  3.99780273e-03 -4.41894531e-02\n",
      " -1.42822266e-02 -9.52148438e-03  1.17675781e-01  3.49609375e-01\n",
      " -2.90527344e-02  1.86767578e-02  3.46679688e-02  1.89208984e-02\n",
      " -1.26953125e-01  2.68554688e-02 -1.06933594e-01  1.20117188e-01\n",
      " -2.69775391e-02 -5.07812500e-02 -1.76757812e-01  3.95507812e-02\n",
      "  1.35742188e-01 -9.61914062e-02 -1.98242188e-01 -1.86767578e-02\n",
      " -2.47802734e-02 -5.32226562e-02  1.54296875e-01  5.95703125e-02\n",
      "  6.39648438e-02 -6.17675781e-02  3.36914062e-02  1.75781250e-01\n",
      "  6.59179688e-02  2.22656250e-01 -1.28906250e-01  4.61425781e-02\n",
      " -2.57812500e-01  6.78710938e-02  6.29882812e-02 -1.15722656e-01\n",
      " -2.13867188e-01 -2.53906250e-01  2.73437500e-02 -4.68750000e-02\n",
      "  1.38671875e-01  2.59765625e-01 -2.07031250e-01 -9.64355469e-03\n",
      " -5.22460938e-02 -7.20214844e-03  8.49609375e-02 -2.49023438e-02\n",
      "  1.94335938e-01 -7.37304688e-02  1.22070312e-01 -3.49121094e-02\n",
      "  1.41601562e-01 -1.38671875e-01  7.61718750e-02 -1.93359375e-01\n",
      "  1.64062500e-01 -2.78320312e-02 -1.45263672e-02  1.44531250e-01\n",
      "  1.75781250e-01 -1.70898438e-02  1.26953125e-01  3.39355469e-02\n",
      " -2.80761719e-02  1.82617188e-01 -2.94921875e-01  3.78417969e-02\n",
      " -1.63085938e-01  1.73828125e-01 -1.01074219e-01 -1.49414062e-01\n",
      " -4.17480469e-02  9.82666016e-03 -4.94384766e-03 -3.29589844e-02]\n"
     ]
    }
   ],
   "source": [
    "# representation 3: embedded features extracted by a pre-train model (in fact, word2vec pretrained model)\n",
    "\n",
    "import gensim \n",
    "\n",
    "# Load Google's pre-trained Word2Vec \n",
    "crtDir =  os.getcwd()\n",
    "modelPath = os.path.join(crtDir, 'model', 'GoogleNews-vectors-negative300.bin')\n",
    "\n",
    "word2vecModel300 = gensim.models.KeyedVectors.load_word2vec_format(modelPath, binary=True) \n",
    "print(word2vecModel300.most_similar('support'))\n",
    "print(\"vec for house: \", word2vecModel300[\"house\"])\n",
    "\n"
   ]
  },
  {
   "cell_type": "code",
   "execution_count": 20,
   "metadata": {
    "tags": [
     "outputPrepend"
    ]
   },
   "outputs": [
    {
     "ename": "TypeError",
     "evalue": "'list' object is not callable",
     "output_type": "error",
     "traceback": [
      "\u001b[0;31m---------------------------------------------------------------------------\u001b[0m",
      "\u001b[0;31mTypeError\u001b[0m                                 Traceback (most recent call last)",
      "Cell \u001b[0;32mIn[20], line 14\u001b[0m\n\u001b[1;32m     11\u001b[0m         features\u001b[39m.\u001b[39mappend(result)\n\u001b[1;32m     12\u001b[0m     \u001b[39mreturn\u001b[39;00m features\n\u001b[0;32m---> 14\u001b[0m trainFeatures \u001b[39m=\u001b[39m featureComputation(word2vecModel300, trainInputs)\n\u001b[1;32m     15\u001b[0m testFeatures \u001b[39m=\u001b[39m featureComputation(word2vecModel300, testInputs)\n",
      "Cell \u001b[0;32mIn[20], line 6\u001b[0m, in \u001b[0;36mfeatureComputation\u001b[0;34m(model, data)\u001b[0m\n\u001b[1;32m      3\u001b[0m phrases \u001b[39m=\u001b[39m [ phrase\u001b[39m.\u001b[39msplit() \u001b[39mfor\u001b[39;00m phrase \u001b[39min\u001b[39;00m data]\n\u001b[1;32m      4\u001b[0m \u001b[39mfor\u001b[39;00m phrase \u001b[39min\u001b[39;00m phrases:\n\u001b[1;32m      5\u001b[0m     \u001b[39m# compute the embeddings of all the words from a phrase (words of more than 2 characters) known by the model\u001b[39;00m\n\u001b[0;32m----> 6\u001b[0m     vectors \u001b[39m=\u001b[39m [model[word] \u001b[39mfor\u001b[39;00m word \u001b[39min\u001b[39;00m phrase \u001b[39mif\u001b[39;00m (\u001b[39mlen\u001b[39m(word) \u001b[39m>\u001b[39m \u001b[39m2\u001b[39m) \u001b[39mand\u001b[39;00m (word \u001b[39min\u001b[39;00m model\u001b[39m.\u001b[39mindex_to_key())]\n\u001b[1;32m      7\u001b[0m     \u001b[39mif\u001b[39;00m \u001b[39mlen\u001b[39m(vectors) \u001b[39m==\u001b[39m \u001b[39m0\u001b[39m:\n\u001b[1;32m      8\u001b[0m         result \u001b[39m=\u001b[39m [\u001b[39m0.0\u001b[39m] \u001b[39m*\u001b[39m model\u001b[39m.\u001b[39mvector_size\n",
      "Cell \u001b[0;32mIn[20], line 6\u001b[0m, in \u001b[0;36m<listcomp>\u001b[0;34m(.0)\u001b[0m\n\u001b[1;32m      3\u001b[0m phrases \u001b[39m=\u001b[39m [ phrase\u001b[39m.\u001b[39msplit() \u001b[39mfor\u001b[39;00m phrase \u001b[39min\u001b[39;00m data]\n\u001b[1;32m      4\u001b[0m \u001b[39mfor\u001b[39;00m phrase \u001b[39min\u001b[39;00m phrases:\n\u001b[1;32m      5\u001b[0m     \u001b[39m# compute the embeddings of all the words from a phrase (words of more than 2 characters) known by the model\u001b[39;00m\n\u001b[0;32m----> 6\u001b[0m     vectors \u001b[39m=\u001b[39m [model[word] \u001b[39mfor\u001b[39;00m word \u001b[39min\u001b[39;00m phrase \u001b[39mif\u001b[39;00m (\u001b[39mlen\u001b[39m(word) \u001b[39m>\u001b[39m \u001b[39m2\u001b[39m) \u001b[39mand\u001b[39;00m (word \u001b[39min\u001b[39;00m model\u001b[39m.\u001b[39;49mindex_to_key())]\n\u001b[1;32m      7\u001b[0m     \u001b[39mif\u001b[39;00m \u001b[39mlen\u001b[39m(vectors) \u001b[39m==\u001b[39m \u001b[39m0\u001b[39m:\n\u001b[1;32m      8\u001b[0m         result \u001b[39m=\u001b[39m [\u001b[39m0.0\u001b[39m] \u001b[39m*\u001b[39m model\u001b[39m.\u001b[39mvector_size\n",
      "\u001b[0;31mTypeError\u001b[0m: 'list' object is not callable"
     ]
    }
   ],
   "source": [
    "def featureComputation(model, data):\n",
    "    features = []\n",
    "    phrases = [ phrase.split() for phrase in data]\n",
    "    for phrase in phrases:\n",
    "        # compute the embeddings of all the words from a phrase (words of more than 2 characters) known by the model\n",
    "        vectors = [model[word] for word in phrase if (len(word) > 2) and (word in model.vocab.keys())]\n",
    "        if len(vectors) == 0:\n",
    "            result = [0.0] * model.vector_size\n",
    "        else:\n",
    "            result = np.sum(vectors, axis=0) / len(vectors)\n",
    "        features.append(result)\n",
    "    return features\n",
    "\n",
    "trainFeatures = featureComputation(word2vecModel300, trainInputs)\n",
    "testFeatures = featureComputation(word2vecModel300, testInputs)\n",
    "\n"
   ]
  },
  {
   "attachments": {},
   "cell_type": "markdown",
   "metadata": {},
   "source": [
    "#### Pasul 4 - antrenare model de invatare nesupervizata (clustering)"
   ]
  },
  {
   "cell_type": "code",
   "execution_count": null,
   "metadata": {},
   "outputs": [
    {
     "data": {
      "text/plain": [
       "KMeans(algorithm='auto', copy_x=True, init='k-means++', max_iter=300,\n",
       "       n_clusters=2, n_init=10, n_jobs=None, precompute_distances='auto',\n",
       "       random_state=0, tol=0.0001, verbose=0)"
      ]
     },
     "execution_count": 17,
     "metadata": {},
     "output_type": "execute_result"
    }
   ],
   "source": [
    "# unsupervised classification ( = clustering) of data\n",
    "\n",
    "from sklearn.cluster import KMeans\n",
    "\n",
    "unsupervisedClassifier = KMeans(n_clusters=2, random_state=0)\n",
    "unsupervisedClassifier.fit(trainFeatures)\n"
   ]
  },
  {
   "attachments": {},
   "cell_type": "markdown",
   "metadata": {},
   "source": [
    "#### Pasul 5 - testare model"
   ]
  },
  {
   "cell_type": "code",
   "execution_count": null,
   "metadata": {},
   "outputs": [],
   "source": [
    "computedTestIndexes = unsupervisedClassifier.predict(testFeatures)\n",
    "computedTestOutputs = [labelNames[value] for value in computedTestIndexes]\n"
   ]
  },
  {
   "attachments": {},
   "cell_type": "markdown",
   "metadata": {},
   "source": [
    "#### Pasul 6 - calcul metrici de performanta"
   ]
  },
  {
   "cell_type": "code",
   "execution_count": null,
   "metadata": {},
   "outputs": [
    {
     "name": "stdout",
     "output_type": "stream",
     "text": [
      "acc:  0.8582959641255605\n"
     ]
    }
   ],
   "source": [
    "from sklearn.metrics import accuracy_score\n",
    "\n",
    "# just supposing that we have the true labels\n",
    "print(\"acc: \", accuracy_score(testOutputs, computedTestOutputs))\n"
   ]
  },
  {
   "attachments": {},
   "cell_type": "markdown",
   "metadata": {},
   "source": [
    "## Tema"
   ]
  },
  {
   "attachments": {},
   "cell_type": "markdown",
   "metadata": {},
   "source": [
    " ### Problema: Clasificarea textelor pe baza sentimentelor\n",
    " \n",
    " **Retea sociala: ce fel de mesaje ai postat?**\n",
    "Mai tii minte ca tocmai ti-ai inceput munca ca si software developer la Facebook si ca faci parte din echipa care se ocupa cu partea de continut a platformei? \n",
    "\n",
    "Utilizatorii sunt foarte incantati de noul algoritm de detectie a filtrelor in poze, asadar poti sa te ocupi de o noua functionalitate care ar face platforma mai atractiva. Utilizatorii posteaza o gama larga de mesaje, iar in feed-urile lor apar de multe ori prea multe mesaje negative si prea putine pozitive. Facebook incearca o noua functionalitate prin care sa detecteze sentimentele dintr-un mesaj si sa filtreze feed-urile utilizatorilor.\n",
    "\n",
    "Task-ul tau este sa implementezi un algoritm care poate recunoaste sentimentele dintr-un text (pozitiv, negativ, ura, rasism, etc.)\n",
    "\n",
    "Team leaderul echipei de ML iti propune urmatorul plan de lucru \n",
    "- devoltarea, antrenarea si testarea unui algoritm de tip k-means folosind data de tip numeric (de ex datele cu irisi) \n",
    "- devoltarea, antrenarea si testarea unui algoritm de tip k-means folosind data de tip text\n",
    "    - Considerarea unei baze cu texte etichetate cu emotii (de ex. textele din data/review_mixed.csv sau https://github.com/sarnthil/unify-emotion-datasets/tree/master/datasets)\n",
    "    - Extragerea de caracteristici din texte folosind diferite reprezentari precum:\n",
    "        - Bag of Words\n",
    "        - TF-IDF\n",
    "        - Word2Vec\n",
    "        - N-grams, etc.\n",
    "    - pe baza caracteristicilor extrase, clasificarea textelor si etichetarea lor cu emotii folosind\n",
    "        - un algoritm de invatare supervizat (folosind etichetele pt emotiile asociate fiecarui text)\n",
    "        - un algoritm de invatare nesupervizat bazat pe k-means (fara a folosi etichetele pt emotiile asociate fiecarui text)\n",
    "        - un algoritm hibrid care combina tehncile de invare cu reguli ajutatoare, de ex prin folosirea unor reguli care verifica/numara aparitiile unor cuvinte - polarized words - (e.g. negative words such as bad, worst, ugly, etc and positive words such as good, best, beautiful, etc.)\n"
   ]
  },
  {
   "cell_type": "code",
   "execution_count": 1,
   "metadata": {},
   "outputs": [],
   "source": [
    "# import classic libraries\n",
    "import numpy as np\n",
    "import matplotlib.pyplot as plt\n",
    "import seaborn as sns\n",
    "import pandas as pd\n",
    "import sklearn\n",
    "import os"
   ]
  },
  {
   "cell_type": "code",
   "execution_count": 2,
   "metadata": {},
   "outputs": [],
   "source": [
    "# load the iris dataset\n",
    "iris = sns.load_dataset('iris')"
   ]
  },
  {
   "cell_type": "code",
   "execution_count": 3,
   "metadata": {},
   "outputs": [],
   "source": [
    "# KMeans clustering\n",
    "from sklearn.cluster import KMeans\n"
   ]
  },
  {
   "cell_type": "code",
   "execution_count": 4,
   "metadata": {},
   "outputs": [
    {
     "name": "stderr",
     "output_type": "stream",
     "text": [
      "/mnt/e/codinganddev/pythons/aiMaterie/lib/python3.8/site-packages/sklearn/cluster/_kmeans.py:870: FutureWarning: The default value of `n_init` will change from 10 to 'auto' in 1.4. Set the value of `n_init` explicitly to suppress the warning\n",
      "  warnings.warn(\n"
     ]
    },
    {
     "data": {
      "text/html": [
       "<style>#sk-container-id-1 {color: black;background-color: white;}#sk-container-id-1 pre{padding: 0;}#sk-container-id-1 div.sk-toggleable {background-color: white;}#sk-container-id-1 label.sk-toggleable__label {cursor: pointer;display: block;width: 100%;margin-bottom: 0;padding: 0.3em;box-sizing: border-box;text-align: center;}#sk-container-id-1 label.sk-toggleable__label-arrow:before {content: \"▸\";float: left;margin-right: 0.25em;color: #696969;}#sk-container-id-1 label.sk-toggleable__label-arrow:hover:before {color: black;}#sk-container-id-1 div.sk-estimator:hover label.sk-toggleable__label-arrow:before {color: black;}#sk-container-id-1 div.sk-toggleable__content {max-height: 0;max-width: 0;overflow: hidden;text-align: left;background-color: #f0f8ff;}#sk-container-id-1 div.sk-toggleable__content pre {margin: 0.2em;color: black;border-radius: 0.25em;background-color: #f0f8ff;}#sk-container-id-1 input.sk-toggleable__control:checked~div.sk-toggleable__content {max-height: 200px;max-width: 100%;overflow: auto;}#sk-container-id-1 input.sk-toggleable__control:checked~label.sk-toggleable__label-arrow:before {content: \"▾\";}#sk-container-id-1 div.sk-estimator input.sk-toggleable__control:checked~label.sk-toggleable__label {background-color: #d4ebff;}#sk-container-id-1 div.sk-label input.sk-toggleable__control:checked~label.sk-toggleable__label {background-color: #d4ebff;}#sk-container-id-1 input.sk-hidden--visually {border: 0;clip: rect(1px 1px 1px 1px);clip: rect(1px, 1px, 1px, 1px);height: 1px;margin: -1px;overflow: hidden;padding: 0;position: absolute;width: 1px;}#sk-container-id-1 div.sk-estimator {font-family: monospace;background-color: #f0f8ff;border: 1px dotted black;border-radius: 0.25em;box-sizing: border-box;margin-bottom: 0.5em;}#sk-container-id-1 div.sk-estimator:hover {background-color: #d4ebff;}#sk-container-id-1 div.sk-parallel-item::after {content: \"\";width: 100%;border-bottom: 1px solid gray;flex-grow: 1;}#sk-container-id-1 div.sk-label:hover label.sk-toggleable__label {background-color: #d4ebff;}#sk-container-id-1 div.sk-serial::before {content: \"\";position: absolute;border-left: 1px solid gray;box-sizing: border-box;top: 0;bottom: 0;left: 50%;z-index: 0;}#sk-container-id-1 div.sk-serial {display: flex;flex-direction: column;align-items: center;background-color: white;padding-right: 0.2em;padding-left: 0.2em;position: relative;}#sk-container-id-1 div.sk-item {position: relative;z-index: 1;}#sk-container-id-1 div.sk-parallel {display: flex;align-items: stretch;justify-content: center;background-color: white;position: relative;}#sk-container-id-1 div.sk-item::before, #sk-container-id-1 div.sk-parallel-item::before {content: \"\";position: absolute;border-left: 1px solid gray;box-sizing: border-box;top: 0;bottom: 0;left: 50%;z-index: -1;}#sk-container-id-1 div.sk-parallel-item {display: flex;flex-direction: column;z-index: 1;position: relative;background-color: white;}#sk-container-id-1 div.sk-parallel-item:first-child::after {align-self: flex-end;width: 50%;}#sk-container-id-1 div.sk-parallel-item:last-child::after {align-self: flex-start;width: 50%;}#sk-container-id-1 div.sk-parallel-item:only-child::after {width: 0;}#sk-container-id-1 div.sk-dashed-wrapped {border: 1px dashed gray;margin: 0 0.4em 0.5em 0.4em;box-sizing: border-box;padding-bottom: 0.4em;background-color: white;}#sk-container-id-1 div.sk-label label {font-family: monospace;font-weight: bold;display: inline-block;line-height: 1.2em;}#sk-container-id-1 div.sk-label-container {text-align: center;}#sk-container-id-1 div.sk-container {/* jupyter's `normalize.less` sets `[hidden] { display: none; }` but bootstrap.min.css set `[hidden] { display: none !important; }` so we also need the `!important` here to be able to override the default hidden behavior on the sphinx rendered scikit-learn.org. See: https://github.com/scikit-learn/scikit-learn/issues/21755 */display: inline-block !important;position: relative;}#sk-container-id-1 div.sk-text-repr-fallback {display: none;}</style><div id=\"sk-container-id-1\" class=\"sk-top-container\"><div class=\"sk-text-repr-fallback\"><pre>KMeans(n_clusters=3, random_state=0)</pre><b>In a Jupyter environment, please rerun this cell to show the HTML representation or trust the notebook. <br />On GitHub, the HTML representation is unable to render, please try loading this page with nbviewer.org.</b></div><div class=\"sk-container\" hidden><div class=\"sk-item\"><div class=\"sk-estimator sk-toggleable\"><input class=\"sk-toggleable__control sk-hidden--visually\" id=\"sk-estimator-id-1\" type=\"checkbox\" checked><label for=\"sk-estimator-id-1\" class=\"sk-toggleable__label sk-toggleable__label-arrow\">KMeans</label><div class=\"sk-toggleable__content\"><pre>KMeans(n_clusters=3, random_state=0)</pre></div></div></div></div></div>"
      ],
      "text/plain": [
       "KMeans(n_clusters=3, random_state=0)"
      ]
     },
     "execution_count": 4,
     "metadata": {},
     "output_type": "execute_result"
    }
   ],
   "source": [
    "# kmeans on iris\n",
    "kmeans = KMeans(n_clusters=3, random_state=0)\n",
    "kmeans.fit(iris[['sepal_length', 'sepal_width', 'petal_length', 'petal_width']])\n"
   ]
  },
  {
   "cell_type": "code",
   "execution_count": 5,
   "metadata": {},
   "outputs": [],
   "source": [
    "# accuracy\n",
    "from sklearn.metrics import accuracy_score"
   ]
  },
  {
   "cell_type": "code",
   "execution_count": 6,
   "metadata": {},
   "outputs": [
    {
     "name": "stderr",
     "output_type": "stream",
     "text": [
      "No artists with labels found to put in legend.  Note that artists whose label start with an underscore are ignored when legend() is called with no argument.\n"
     ]
    },
    {
     "data": {
      "image/png": "[encoded data removed]",
      "text/plain": [
       "<Figure size 1000x700 with 1 Axes>"
      ]
     },
     "metadata": {},
     "output_type": "display_data"
    }
   ],
   "source": [
    "# plot the clusters\n",
    "plt.figure(figsize=(10, 7))\n",
    "# plot true labels of iris dataset\n",
    "plt.scatter(iris['sepal_length'], iris['sepal_width'], c=iris['species'].astype('category').cat.codes, cmap='rainbow')\n",
    "# legend\n",
    "plt.legend()\n",
    "\n",
    "plt.scatter(kmeans.cluster_centers_[:, 0], kmeans.cluster_centers_[:, 1], c='red', marker='x')\n",
    "plt.xlabel('Sepal Length')\n",
    "plt.ylabel('Sepal Width')\n",
    "plt.show()\n",
    "\n",
    "plt.show()\n"
   ]
  },
  {
   "cell_type": "code",
   "execution_count": 7,
   "metadata": {},
   "outputs": [],
   "source": [
    "# scikit bag of words\n",
    "from sklearn.feature_extraction.text import CountVectorizer"
   ]
  },
  {
   "cell_type": "code",
   "execution_count": 8,
   "metadata": {},
   "outputs": [],
   "source": [
    "# use countVectorizer\n",
    "vectorizer = CountVectorizer()"
   ]
  },
  {
   "cell_type": "code",
   "execution_count": 9,
   "metadata": {},
   "outputs": [],
   "source": [
    "# user pandas to import reviews_mixed.csv\n",
    "crtDir =  os.getcwd()\n",
    "fileName = os.path.join(crtDir, 'data', 'reviews_mixed.csv')\n",
    "data = pd.read_csv(fileName)"
   ]
  },
  {
   "cell_type": "code",
   "execution_count": 10,
   "metadata": {},
   "outputs": [],
   "source": [
    "corpus = data['Text'].to_list()"
   ]
  },
  {
   "cell_type": "code",
   "execution_count": 11,
   "metadata": {},
   "outputs": [],
   "source": [
    "X = vectorizer.fit(corpus)"
   ]
  },
  {
   "cell_type": "code",
   "execution_count": 12,
   "metadata": {},
   "outputs": [
    {
     "data": {
      "text/plain": [
       "{'the': 548,\n",
       " 'rooms': 458,\n",
       " 'are': 44,\n",
       " 'extremely': 203,\n",
       " 'small': 496,\n",
       " 'practically': 419,\n",
       " 'only': 387,\n",
       " 'bed': 64,\n",
       " 'room': 457,\n",
       " 'safe': 463,\n",
       " 'did': 157,\n",
       " 'not': 378,\n",
       " 'work': 639,\n",
       " 'mattress': 345,\n",
       " 'very': 608,\n",
       " 'comfortable': 117,\n",
       " 'uncomfortable': 593,\n",
       " 'thin': 553,\n",
       " 'with': 638,\n",
       " 'plastic': 411,\n",
       " 'cover': 138,\n",
       " 'that': 547,\n",
       " 'rustles': 462,\n",
       " 'every': 194,\n",
       " 'time': 565,\n",
       " 'you': 647,\n",
       " 'move': 360,\n",
       " 'no': 375,\n",
       " 'bathroom': 59,\n",
       " 'in': 286,\n",
       " 'was': 619,\n",
       " 'soooo': 508,\n",
       " 'comfy': 118,\n",
       " 'someone': 506,\n",
       " 'must': 362,\n",
       " 'have': 263,\n",
       " 'been': 68,\n",
       " 'smoking': 501,\n",
       " 'next': 372,\n",
       " 'door': 167,\n",
       " 'is': 293,\n",
       " 'spacious': 515,\n",
       " 'quiet': 435,\n",
       " 'and': 37,\n",
       " 'for': 225,\n",
       " 'people': 404,\n",
       " 'bedroom': 66,\n",
       " 'sofa': 504,\n",
       " 'bit': 74,\n",
       " 'unconfortable': 594,\n",
       " 'lights': 319,\n",
       " 'common': 120,\n",
       " 'were': 626,\n",
       " 'too': 573,\n",
       " 'dim': 161,\n",
       " 'air': 24,\n",
       " 'conditioning': 124,\n",
       " 'working': 641,\n",
       " 'fine': 217,\n",
       " 'so': 503,\n",
       " 'if': 283,\n",
       " 're': 438,\n",
       " 'type': 589,\n",
       " 'likes': 322,\n",
       " 'to': 569,\n",
       " 'let': 314,\n",
       " 'water': 621,\n",
       " 'run': 461,\n",
       " 'before': 69,\n",
       " 'getting': 239,\n",
       " 'wet': 628,\n",
       " 'or': 389,\n",
       " 'it': 296,\n",
       " 'takes': 537,\n",
       " 'minute': 353,\n",
       " 'figure': 214,\n",
       " 'out': 393,\n",
       " 'how': 277,\n",
       " 'make': 339,\n",
       " 'hot': 273,\n",
       " 'gonna': 244,\n",
       " 'get': 238,\n",
       " 'windows': 636,\n",
       " 'single': 485,\n",
       " 'glazed': 242,\n",
       " 'heat': 266,\n",
       " 'could': 135,\n",
       " 'escape': 189,\n",
       " 'although': 29,\n",
       " 'be': 62,\n",
       " 'fair': 205,\n",
       " 'outside': 395,\n",
       " 'terrible': 545,\n",
       " 'cubbyholes': 143,\n",
       " 'which': 631,\n",
       " 'marketed': 344,\n",
       " 'as': 49,\n",
       " 'corridors': 131,\n",
       " 'filthy': 216,\n",
       " 'electrical': 179,\n",
       " 'cables': 88,\n",
       " 'whole': 632,\n",
       " 'building': 84,\n",
       " 'smelly': 500,\n",
       " 'shower': 479,\n",
       " 'repulsive': 446,\n",
       " 'walls': 615,\n",
       " 'seem': 469,\n",
       " 'sound': 510,\n",
       " 'insulation': 288,\n",
       " 'gym': 250,\n",
       " 'basic': 57,\n",
       " 'mattresses': 346,\n",
       " 'springy': 519,\n",
       " 'light': 317,\n",
       " 'of': 380,\n",
       " 'unbeatable': 590,\n",
       " 'shows': 482,\n",
       " 'some': 505,\n",
       " 'wear': 624,\n",
       " 'tear': 540,\n",
       " 'thinks': 556,\n",
       " 'didnt': 159,\n",
       " 'well': 625,\n",
       " 'tv': 585,\n",
       " 'open': 388,\n",
       " 'microwave': 349,\n",
       " 'needed': 368,\n",
       " 'wasn': 620,\n",
       " 'cleaned': 106,\n",
       " 'made': 337,\n",
       " 'up': 601,\n",
       " 'had': 251,\n",
       " 'cable': 87,\n",
       " 'an': 36,\n",
       " 'iron': 292,\n",
       " 'hairdryer': 254,\n",
       " 'free': 227,\n",
       " 'coffee': 113,\n",
       " 'tea': 539,\n",
       " 'downstairs': 171,\n",
       " 'area': 45,\n",
       " 'fluctuated': 223,\n",
       " 'at': 50,\n",
       " 'times': 566,\n",
       " 'felt': 212,\n",
       " 'little': 327,\n",
       " 'draft': 172,\n",
       " 'on': 384,\n",
       " 'my': 363,\n",
       " 'last': 308,\n",
       " 'night': 374,\n",
       " 'fan': 207,\n",
       " 'really': 441,\n",
       " 'loud': 333,\n",
       " 'name': 364,\n",
       " 'under': 595,\n",
       " 'renovation': 443,\n",
       " 'pressure': 421,\n",
       " 'strong': 528,\n",
       " 'suitcase': 530,\n",
       " 'elevator': 181,\n",
       " 'might': 350,\n",
       " 'challenge': 96,\n",
       " 'pay': 402,\n",
       " 'extra': 202,\n",
       " 'tiny': 567,\n",
       " 'hip': 270,\n",
       " 'clean': 105,\n",
       " 'selection': 470,\n",
       " 'pillows': 408,\n",
       " 'walk': 612,\n",
       " 'stories': 527,\n",
       " 'hallways': 257,\n",
       " 'stale': 521,\n",
       " 'didn': 158,\n",
       " 'feel': 211,\n",
       " 'there': 551,\n",
       " 'construction': 126,\n",
       " 'across': 14,\n",
       " 'road': 453,\n",
       " 'noisy': 377,\n",
       " 'throughout': 559,\n",
       " 'day': 147,\n",
       " 'bathtub': 61,\n",
       " 'abundant': 11,\n",
       " 'window': 635,\n",
       " 'unit': 597,\n",
       " 'ice': 281,\n",
       " 'cold': 114,\n",
       " 'excellent': 197,\n",
       " 'access': 13,\n",
       " 'fitness': 219,\n",
       " 'facilities': 204,\n",
       " 'especially': 190,\n",
       " 'pool': 416,\n",
       " 'real': 440,\n",
       " 'value': 606,\n",
       " 'added': 16,\n",
       " 'barely': 56,\n",
       " 'anything': 41,\n",
       " 'else': 183,\n",
       " 'than': 546,\n",
       " 'sleep': 491,\n",
       " 'lift': 315,\n",
       " 'pain': 398,\n",
       " 'card': 93,\n",
       " 'used': 604,\n",
       " 'more': 355,\n",
       " 'counter': 136,\n",
       " 'bath': 58,\n",
       " 'we': 623,\n",
       " 'think': 555,\n",
       " 'restaurant': 449,\n",
       " 'looked': 332,\n",
       " 'inviting': 291,\n",
       " 'compared': 121,\n",
       " 'rest': 448,\n",
       " 'hotel': 274,\n",
       " 'highly': 269,\n",
       " 'engineer': 184,\n",
       " 'fixed': 220,\n",
       " 'memory': 348,\n",
       " 'foam': 224,\n",
       " 'all': 26,\n",
       " 'agreed': 22,\n",
       " 'best': 71,\n",
       " 'ever': 193,\n",
       " 'toilet': 571,\n",
       " 'paper': 401,\n",
       " 'replaced': 445,\n",
       " 'everyday': 195,\n",
       " 'beds': 67,\n",
       " 'greatest': 248,\n",
       " 'futon': 236,\n",
       " 'sleeper': 492,\n",
       " 'couch': 134,\n",
       " 'cramped': 141,\n",
       " 'cap': 92,\n",
       " 'sanitary': 465,\n",
       " 'bags': 54,\n",
       " 'available': 51,\n",
       " 'freezing': 228,\n",
       " 'stayed': 524,\n",
       " 'seating': 468,\n",
       " 'lovely': 335,\n",
       " 'heating': 267,\n",
       " 'unbelievably': 591,\n",
       " 'during': 174,\n",
       " 'smell': 498,\n",
       " 'large': 307,\n",
       " 'would': 644,\n",
       " 'nice': 373,\n",
       " 'shared': 473,\n",
       " 'restrooms': 450,\n",
       " 'do': 164,\n",
       " 'support': 534,\n",
       " 'many': 343,\n",
       " 'stiff': 525,\n",
       " 'place': 409,\n",
       " 'amenities': 33,\n",
       " '15': 1,\n",
       " 'minutes': 354,\n",
       " 'slamming': 490,\n",
       " 'after': 21,\n",
       " 'mostly': 358,\n",
       " 'apart': 42,\n",
       " 'from': 231,\n",
       " 'by': 86,\n",
       " 'other': 391,\n",
       " 'guests': 249,\n",
       " 'top': 574,\n",
       " 'then': 550,\n",
       " 'covered': 139,\n",
       " 'dirty': 163,\n",
       " 'blind': 76,\n",
       " 'detest': 155,\n",
       " 'glass': 241,\n",
       " 'tub': 581,\n",
       " 'this': 557,\n",
       " 'expected': 200,\n",
       " 'towels': 576,\n",
       " 'few': 213,\n",
       " 'degrees': 152,\n",
       " 'warmer': 618,\n",
       " 'winter': 637,\n",
       " 'rug': 460,\n",
       " 'shoes': 477,\n",
       " 'use': 603,\n",
       " 'ac': 12,\n",
       " 'plug': 414,\n",
       " 'outlets': 394,\n",
       " 'surge': 535,\n",
       " 'protectors': 429,\n",
       " 'just': 301,\n",
       " 'give': 240,\n",
       " 'idea': 282,\n",
       " 'shutters': 483,\n",
       " 'go': 243,\n",
       " 'neither': 370,\n",
       " 'down': 170,\n",
       " 'hanging': 260,\n",
       " 'one': 386,\n",
       " 'side': 484,\n",
       " 'phone': 406,\n",
       " 'elevators': 182,\n",
       " 'slow': 495,\n",
       " 'long': 331,\n",
       " 'lines': 325,\n",
       " 'location': 329,\n",
       " 'anda': 38,\n",
       " 'also': 28,\n",
       " 'garbage': 237,\n",
       " 'our': 392,\n",
       " 'kitchen': 304,\n",
       " 'isntant': 294,\n",
       " 'packages': 397,\n",
       " 'left': 312,\n",
       " 'previous': 423,\n",
       " 'customers': 146,\n",
       " 'amazing': 31,\n",
       " 'roof': 454,\n",
       " 'terrace': 544,\n",
       " 'great': 247,\n",
       " 'making': 341,\n",
       " 'aircon': 25,\n",
       " 'earplugs': 176,\n",
       " 'slept': 494,\n",
       " 'soundly': 511,\n",
       " 'when': 630,\n",
       " 'bright': 82,\n",
       " 'turned': 584,\n",
       " 'shining': 475,\n",
       " 'thru': 560,\n",
       " 'frosted': 233,\n",
       " 'panels': 400,\n",
       " 'super': 533,\n",
       " 'cosy': 132,\n",
       " 'temperature': 542,\n",
       " 'control': 128,\n",
       " 'don': 166,\n",
       " 'mind': 351,\n",
       " 'stains': 520,\n",
       " 'your': 648,\n",
       " 'sheets': 474,\n",
       " 'cockroaches': 112,\n",
       " 'functioned': 235,\n",
       " 'poor': 417,\n",
       " 'picture': 407,\n",
       " 'channel': 99,\n",
       " 'essential': 191,\n",
       " 'allow': 27,\n",
       " 'workout': 642,\n",
       " 'quite': 436,\n",
       " 'price': 424,\n",
       " 'travel': 578,\n",
       " 'cot': 133,\n",
       " 'wifi': 634,\n",
       " 'connected': 125,\n",
       " 'everything': 196,\n",
       " 'haven': 264,\n",
       " 'years': 645,\n",
       " 'showers': 481,\n",
       " 'renovations': 444,\n",
       " 'they': 552,\n",
       " 'came': 90,\n",
       " 'persian': 405,\n",
       " 'decor': 151,\n",
       " 'half': 255,\n",
       " 'hearted': 265,\n",
       " 'take': 536,\n",
       " 'lengths': 313,\n",
       " 'turkish': 583,\n",
       " 'bunting': 85,\n",
       " 'lanterns': 306,\n",
       " 'above': 10,\n",
       " 'roofed': 455,\n",
       " 'bar': 55,\n",
       " 'them': 549,\n",
       " '30': 4,\n",
       " 'ran': 437,\n",
       " 'until': 600,\n",
       " 'jiggled': 300,\n",
       " 'handle': 259,\n",
       " 'linens': 324,\n",
       " 'wardrobe': 617,\n",
       " 'space': 514,\n",
       " 'luggage': 336,\n",
       " 'towel': 575,\n",
       " 'change': 97,\n",
       " 'proof': 427,\n",
       " 'thus': 561,\n",
       " 'fast': 209,\n",
       " 'never': 371,\n",
       " 'wait': 610,\n",
       " '15th': 2,\n",
       " 'floor': 222,\n",
       " 'city': 103,\n",
       " 'noise': 376,\n",
       " 'bothering': 81,\n",
       " 'walking': 613,\n",
       " 'around': 47,\n",
       " 'sleeping': 493,\n",
       " 'execellent': 198,\n",
       " 'has': 262,\n",
       " 'most': 357,\n",
       " 'things': 554,\n",
       " 'need': 367,\n",
       " 'full': 234,\n",
       " 'size': 488,\n",
       " '40': 6,\n",
       " 'cm': 111,\n",
       " 'smaller': 497,\n",
       " 'spartan': 516,\n",
       " 'mean': 347,\n",
       " 'oher': 382,\n",
       " 'being': 70,\n",
       " 'hrs': 278,\n",
       " 'rooftop': 456,\n",
       " 'wallpaper': 614,\n",
       " 'peeking': 403,\n",
       " 'off': 381,\n",
       " 'places': 410,\n",
       " 'insufficient': 287,\n",
       " 'hard': 261,\n",
       " 'reach': 439,\n",
       " 'plugs': 415,\n",
       " 'charge': 102,\n",
       " 'devices': 156,\n",
       " 'mouse': 359,\n",
       " 'cleaning': 107,\n",
       " 'service': 472,\n",
       " 'days': 148,\n",
       " 'doors': 168,\n",
       " 'lock': 330,\n",
       " 'anymore': 40,\n",
       " 'main': 338,\n",
       " 'avenue': 52,\n",
       " 'constructions': 127,\n",
       " 'pretty': 422,\n",
       " 'requested': 447,\n",
       " 'queen': 434,\n",
       " 'called': 89,\n",
       " 'hadn': 252,\n",
       " 'received': 442,\n",
       " 'shipment': 476,\n",
       " 'liked': 321,\n",
       " 'style': 529,\n",
       " 'king': 303,\n",
       " 'plenty': 413,\n",
       " 'spread': 518,\n",
       " 'unpack': 598,\n",
       " 'awesome': 53,\n",
       " 'extended': 201,\n",
       " 'stay': 523,\n",
       " 'character': 101,\n",
       " 'hvac': 280,\n",
       " 'vent': 607,\n",
       " 'unclean': 592,\n",
       " 'bathrooms': 60,\n",
       " 'negative': 369,\n",
       " 'old': 383,\n",
       " 'dust': 175,\n",
       " 'tissue': 568,\n",
       " 'condition': 123,\n",
       " 'hold': 271,\n",
       " 'told': 572,\n",
       " 'two': 588,\n",
       " 'double': 169,\n",
       " 'good': 245,\n",
       " 'lighting': 318,\n",
       " 'over': 396,\n",
       " 'whomever': 633,\n",
       " 'prior': 425,\n",
       " 'improvement': 285,\n",
       " 'center': 95,\n",
       " 'soundproofing': 512,\n",
       " 'showerroom': 480,\n",
       " 'con': 122,\n",
       " 'maker': 340,\n",
       " 'star': 522,\n",
       " 'qualiity': 432,\n",
       " 'linen': 323,\n",
       " 'channels': 100,\n",
       " 'four': 226,\n",
       " 'werent': 627,\n",
       " 'english': 185,\n",
       " 'much': 361,\n",
       " 'potent': 418,\n",
       " 'pleasant': 412,\n",
       " 'any': 39,\n",
       " 'febreeze': 210,\n",
       " 'scent': 466,\n",
       " 'televisions': 541,\n",
       " 'flat': 221,\n",
       " 'screen': 467,\n",
       " '1990': 3,\n",
       " 'tube': 582,\n",
       " 'amenity': 34,\n",
       " 'usually': 605,\n",
       " 'book': 78,\n",
       " 'far': 208,\n",
       " 'comes': 116,\n",
       " 'yet': 646,\n",
       " 'family': 206,\n",
       " 'adults': 18,\n",
       " 'soulless': 509,\n",
       " 'view': 609,\n",
       " 'itself': 298,\n",
       " 'immaculate': 284,\n",
       " 'smelled': 499,\n",
       " 'fresh': 229,\n",
       " 'big': 72,\n",
       " 'enough': 187,\n",
       " 'both': 80,\n",
       " 'friend': 230,\n",
       " 'huge': 279,\n",
       " 'suitcases': 531,\n",
       " 'fit': 218,\n",
       " 'us': 602,\n",
       " 'still': 526,\n",
       " 'kettle': 302,\n",
       " 'boil': 77,\n",
       " 'tricky': 579,\n",
       " 'rinsed': 452,\n",
       " 'through': 558,\n",
       " 'spotless': 517,\n",
       " 'classy': 104,\n",
       " 'front': 232,\n",
       " 'entrance': 188,\n",
       " 'curb': 144,\n",
       " 'appeal': 43,\n",
       " 'way': 622,\n",
       " 'retro': 451,\n",
       " 'hand': 258,\n",
       " 'narrow': 365,\n",
       " 'curtain': 145,\n",
       " '650': 8,\n",
       " 'dollar': 165,\n",
       " 'nasty': 366,\n",
       " 'quality': 433,\n",
       " 'same': 464,\n",
       " 'private': 426,\n",
       " 'can': 91,\n",
       " 'adjust': 17,\n",
       " 'works': 643,\n",
       " 'hours': 276,\n",
       " 'morning': 356,\n",
       " 'interior': 290,\n",
       " 'traffic': 577,\n",
       " 'leave': 311,\n",
       " 'easy': 177,\n",
       " 'pry': 430,\n",
       " 'tidy': 562,\n",
       " 'blanket': 75,\n",
       " 'heavy': 268,\n",
       " 'sink': 486,\n",
       " 'tap': 538,\n",
       " 'leaked': 310,\n",
       " 'properly': 428,\n",
       " 'like': 320,\n",
       " 'decent': 149,\n",
       " 'loved': 334,\n",
       " 'elegant': 180,\n",
       " 'art': 48,\n",
       " 'deco': 150,\n",
       " 'ambience': 32,\n",
       " 'broken': 83,\n",
       " 'tiles': 564,\n",
       " 'hotter': 275,\n",
       " 'rough': 459,\n",
       " 'shop': 478,\n",
       " 'underneath': 596,\n",
       " 'closed': 108,\n",
       " '12am': 0,\n",
       " 'late': 309,\n",
       " 'wanted': 616,\n",
       " 'dimly': 162,\n",
       " 'lit': 326,\n",
       " 'holes': 272,\n",
       " 'advertised': 19,\n",
       " 'its': 297,\n",
       " 'booking': 79,\n",
       " 'com': 115,\n",
       " 'descriptions': 153,\n",
       " 'jets': 299,\n",
       " 'actually': 15,\n",
       " 'enjoyed': 186,\n",
       " 'because': 63,\n",
       " 'knew': 305,\n",
       " 'about': 9,\n",
       " 'ahead': 23,\n",
       " 'try': 580,\n",
       " 'something': 507,\n",
       " 'different': 160,\n",
       " 'bedding': 65,\n",
       " 'changed': 98,\n",
       " 'once': 385,\n",
       " 'counts': 137,\n",
       " 'drapes': 173,\n",
       " 'always': 30,\n",
       " 'sit': 487,\n",
       " 'convenient': 129,\n",
       " 'exercise': 199,\n",
       " 'closest': 109,\n",
       " 'filled': 215,\n",
       " 'tvs': 586,\n",
       " 'covering': 140,\n",
       " 'tight': 563,\n",
       " 'either': 178,\n",
       " 'yr': 649,\n",
       " 'intense': 289,\n",
       " 'minimalist': 352,\n",
       " 'aren': 46,\n",
       " 'hallway': 256,\n",
       " 'sounds': 513,\n",
       " 'cool': 130,\n",
       " 'design': 154,\n",
       " 'nyc': 379,\n",
       " 'lobby': 328,\n",
       " 'carpets': 94,\n",
       " 'coming': 119,\n",
       " 'unstitched': 599,\n",
       " 'bigger': 73,\n",
       " 'even': 192,\n",
       " 'what': 629,\n",
       " 'ordered': 390,\n",
       " 'prepaid': 420,\n",
       " 'painted': 399,\n",
       " 'sep': 471,\n",
       " '302': 5,\n",
       " 'manhattan': 342,\n",
       " 'sized': 489,\n",
       " 'ample': 35,\n",
       " 'closet': 110,\n",
       " 'waited': 611,\n",
       " 'lifts': 316,\n",
       " 'worked': 640,\n",
       " 'tend': 543,\n",
       " 'crumbs': 142,\n",
       " 'snacks': 502,\n",
       " 'hair': 253,\n",
       " 'got': 246,\n",
       " 'twins': 587,\n",
       " 'advised': 20,\n",
       " 'put': 431,\n",
       " 'together': 570,\n",
       " 'issue': 295,\n",
       " 'suite': 532,\n",
       " '4th': 7}"
      ]
     },
     "execution_count": 12,
     "metadata": {},
     "output_type": "execute_result"
    }
   ],
   "source": [
    "X.vocabulary_"
   ]
  },
  {
   "cell_type": "code",
   "execution_count": 13,
   "metadata": {},
   "outputs": [],
   "source": [
    "from gensim.models import KeyedVectors\n"
   ]
  },
  {
   "cell_type": "code",
   "execution_count": 14,
   "metadata": {},
   "outputs": [],
   "source": [
    "model = KeyedVectors.load_word2vec_format('model/GoogleNews-vectors-negative300.bin', binary=True)\n"
   ]
  },
  {
   "cell_type": "code",
   "execution_count": 33,
   "metadata": {},
   "outputs": [
    {
     "ename": "NameError",
     "evalue": "name 'model' is not defined",
     "output_type": "error",
     "traceback": [
      "\u001b[0;31m---------------------------------------------------------------------------\u001b[0m",
      "\u001b[0;31mNameError\u001b[0m                                 Traceback (most recent call last)",
      "Cell \u001b[0;32mIn[33], line 1\u001b[0m\n\u001b[0;32m----> 1\u001b[0m vector \u001b[39m=\u001b[39m model[\u001b[39m'\u001b[39m\u001b[39mword\u001b[39m\u001b[39m'\u001b[39m]\n\u001b[1;32m      2\u001b[0m \u001b[39mprint\u001b[39m(vector\u001b[39m.\u001b[39mshape)\n",
      "\u001b[0;31mNameError\u001b[0m: name 'model' is not defined"
     ]
    }
   ],
   "source": [
    "vector = model['word']\n",
    "print(vector.shape)"
   ]
  },
  {
   "cell_type": "code",
   "execution_count": 13,
   "metadata": {},
   "outputs": [],
   "source": [
    "# logistic regression\n",
    "from sklearn.linear_model import LogisticRegression"
   ]
  },
  {
   "cell_type": "code",
   "execution_count": 14,
   "metadata": {},
   "outputs": [],
   "source": [
    "regressor = LogisticRegression()"
   ]
  },
  {
   "cell_type": "code",
   "execution_count": 15,
   "metadata": {},
   "outputs": [],
   "source": [
    "sentences = corpus\n",
    "labels = data['Sentiment'].to_list()\n"
   ]
  },
  {
   "cell_type": "code",
   "execution_count": 16,
   "metadata": {},
   "outputs": [],
   "source": [
    "X = vectorizer.fit_transform(sentences)"
   ]
  },
  {
   "cell_type": "code",
   "execution_count": 17,
   "metadata": {},
   "outputs": [
    {
     "data": {
      "text/html": [
       "<style>#sk-container-id-2 {color: black;background-color: white;}#sk-container-id-2 pre{padding: 0;}#sk-container-id-2 div.sk-toggleable {background-color: white;}#sk-container-id-2 label.sk-toggleable__label {cursor: pointer;display: block;width: 100%;margin-bottom: 0;padding: 0.3em;box-sizing: border-box;text-align: center;}#sk-container-id-2 label.sk-toggleable__label-arrow:before {content: \"▸\";float: left;margin-right: 0.25em;color: #696969;}#sk-container-id-2 label.sk-toggleable__label-arrow:hover:before {color: black;}#sk-container-id-2 div.sk-estimator:hover label.sk-toggleable__label-arrow:before {color: black;}#sk-container-id-2 div.sk-toggleable__content {max-height: 0;max-width: 0;overflow: hidden;text-align: left;background-color: #f0f8ff;}#sk-container-id-2 div.sk-toggleable__content pre {margin: 0.2em;color: black;border-radius: 0.25em;background-color: #f0f8ff;}#sk-container-id-2 input.sk-toggleable__control:checked~div.sk-toggleable__content {max-height: 200px;max-width: 100%;overflow: auto;}#sk-container-id-2 input.sk-toggleable__control:checked~label.sk-toggleable__label-arrow:before {content: \"▾\";}#sk-container-id-2 div.sk-estimator input.sk-toggleable__control:checked~label.sk-toggleable__label {background-color: #d4ebff;}#sk-container-id-2 div.sk-label input.sk-toggleable__control:checked~label.sk-toggleable__label {background-color: #d4ebff;}#sk-container-id-2 input.sk-hidden--visually {border: 0;clip: rect(1px 1px 1px 1px);clip: rect(1px, 1px, 1px, 1px);height: 1px;margin: -1px;overflow: hidden;padding: 0;position: absolute;width: 1px;}#sk-container-id-2 div.sk-estimator {font-family: monospace;background-color: #f0f8ff;border: 1px dotted black;border-radius: 0.25em;box-sizing: border-box;margin-bottom: 0.5em;}#sk-container-id-2 div.sk-estimator:hover {background-color: #d4ebff;}#sk-container-id-2 div.sk-parallel-item::after {content: \"\";width: 100%;border-bottom: 1px solid gray;flex-grow: 1;}#sk-container-id-2 div.sk-label:hover label.sk-toggleable__label {background-color: #d4ebff;}#sk-container-id-2 div.sk-serial::before {content: \"\";position: absolute;border-left: 1px solid gray;box-sizing: border-box;top: 0;bottom: 0;left: 50%;z-index: 0;}#sk-container-id-2 div.sk-serial {display: flex;flex-direction: column;align-items: center;background-color: white;padding-right: 0.2em;padding-left: 0.2em;position: relative;}#sk-container-id-2 div.sk-item {position: relative;z-index: 1;}#sk-container-id-2 div.sk-parallel {display: flex;align-items: stretch;justify-content: center;background-color: white;position: relative;}#sk-container-id-2 div.sk-item::before, #sk-container-id-2 div.sk-parallel-item::before {content: \"\";position: absolute;border-left: 1px solid gray;box-sizing: border-box;top: 0;bottom: 0;left: 50%;z-index: -1;}#sk-container-id-2 div.sk-parallel-item {display: flex;flex-direction: column;z-index: 1;position: relative;background-color: white;}#sk-container-id-2 div.sk-parallel-item:first-child::after {align-self: flex-end;width: 50%;}#sk-container-id-2 div.sk-parallel-item:last-child::after {align-self: flex-start;width: 50%;}#sk-container-id-2 div.sk-parallel-item:only-child::after {width: 0;}#sk-container-id-2 div.sk-dashed-wrapped {border: 1px dashed gray;margin: 0 0.4em 0.5em 0.4em;box-sizing: border-box;padding-bottom: 0.4em;background-color: white;}#sk-container-id-2 div.sk-label label {font-family: monospace;font-weight: bold;display: inline-block;line-height: 1.2em;}#sk-container-id-2 div.sk-label-container {text-align: center;}#sk-container-id-2 div.sk-container {/* jupyter's `normalize.less` sets `[hidden] { display: none; }` but bootstrap.min.css set `[hidden] { display: none !important; }` so we also need the `!important` here to be able to override the default hidden behavior on the sphinx rendered scikit-learn.org. See: https://github.com/scikit-learn/scikit-learn/issues/21755 */display: inline-block !important;position: relative;}#sk-container-id-2 div.sk-text-repr-fallback {display: none;}</style><div id=\"sk-container-id-2\" class=\"sk-top-container\"><div class=\"sk-text-repr-fallback\"><pre>LogisticRegression()</pre><b>In a Jupyter environment, please rerun this cell to show the HTML representation or trust the notebook. <br />On GitHub, the HTML representation is unable to render, please try loading this page with nbviewer.org.</b></div><div class=\"sk-container\" hidden><div class=\"sk-item\"><div class=\"sk-estimator sk-toggleable\"><input class=\"sk-toggleable__control sk-hidden--visually\" id=\"sk-estimator-id-2\" type=\"checkbox\" checked><label for=\"sk-estimator-id-2\" class=\"sk-toggleable__label sk-toggleable__label-arrow\">LogisticRegression</label><div class=\"sk-toggleable__content\"><pre>LogisticRegression()</pre></div></div></div></div></div>"
      ],
      "text/plain": [
       "LogisticRegression()"
      ]
     },
     "execution_count": 17,
     "metadata": {},
     "output_type": "execute_result"
    }
   ],
   "source": [
    "regressor.fit(X, labels)"
   ]
  },
  {
   "cell_type": "code",
   "execution_count": 18,
   "metadata": {},
   "outputs": [
    {
     "name": "stdout",
     "output_type": "stream",
     "text": [
      "0.9806763285024155\n"
     ]
    }
   ],
   "source": [
    "y_pred = regressor.predict(X)\n",
    "accuracy = accuracy_score(labels, y_pred)\n",
    "print(accuracy)"
   ]
  },
  {
   "cell_type": "code",
   "execution_count": 19,
   "metadata": {},
   "outputs": [],
   "source": [
    "# extract N-Gram from sentences\n",
    "from nltk import ngrams\n"
   ]
  },
  {
   "cell_type": "code",
   "execution_count": 20,
   "metadata": {},
   "outputs": [
    {
     "name": "stdout",
     "output_type": "stream",
     "text": [
      "('I', 'love')\n",
      "('love', 'to')\n",
      "('to', 'play')\n",
      "('play', 'football')\n"
     ]
    }
   ],
   "source": [
    "# use ngram on sentences\n",
    "sentence = \"I love to play football\"\n",
    "n = 2\n",
    "bigrams = ngrams(sentence.split(), n)\n",
    "for grams in bigrams:\n",
    "    print(grams)"
   ]
  },
  {
   "attachments": {},
   "cell_type": "markdown",
   "metadata": {},
   "source": [
    "We've done supervised emotion labelling via logistic regressor, now let's cluster and do unsupervised"
   ]
  },
  {
   "cell_type": "code",
   "execution_count": 21,
   "metadata": {},
   "outputs": [
    {
     "name": "stderr",
     "output_type": "stream",
     "text": [
      "/mnt/e/codinganddev/pythons/aiMaterie/lib/python3.8/site-packages/sklearn/cluster/_kmeans.py:870: FutureWarning: The default value of `n_init` will change from 10 to 'auto' in 1.4. Set the value of `n_init` explicitly to suppress the warning\n",
      "  warnings.warn(\n"
     ]
    },
    {
     "data": {
      "text/html": [
       "<style>#sk-container-id-3 {color: black;background-color: white;}#sk-container-id-3 pre{padding: 0;}#sk-container-id-3 div.sk-toggleable {background-color: white;}#sk-container-id-3 label.sk-toggleable__label {cursor: pointer;display: block;width: 100%;margin-bottom: 0;padding: 0.3em;box-sizing: border-box;text-align: center;}#sk-container-id-3 label.sk-toggleable__label-arrow:before {content: \"▸\";float: left;margin-right: 0.25em;color: #696969;}#sk-container-id-3 label.sk-toggleable__label-arrow:hover:before {color: black;}#sk-container-id-3 div.sk-estimator:hover label.sk-toggleable__label-arrow:before {color: black;}#sk-container-id-3 div.sk-toggleable__content {max-height: 0;max-width: 0;overflow: hidden;text-align: left;background-color: #f0f8ff;}#sk-container-id-3 div.sk-toggleable__content pre {margin: 0.2em;color: black;border-radius: 0.25em;background-color: #f0f8ff;}#sk-container-id-3 input.sk-toggleable__control:checked~div.sk-toggleable__content {max-height: 200px;max-width: 100%;overflow: auto;}#sk-container-id-3 input.sk-toggleable__control:checked~label.sk-toggleable__label-arrow:before {content: \"▾\";}#sk-container-id-3 div.sk-estimator input.sk-toggleable__control:checked~label.sk-toggleable__label {background-color: #d4ebff;}#sk-container-id-3 div.sk-label input.sk-toggleable__control:checked~label.sk-toggleable__label {background-color: #d4ebff;}#sk-container-id-3 input.sk-hidden--visually {border: 0;clip: rect(1px 1px 1px 1px);clip: rect(1px, 1px, 1px, 1px);height: 1px;margin: -1px;overflow: hidden;padding: 0;position: absolute;width: 1px;}#sk-container-id-3 div.sk-estimator {font-family: monospace;background-color: #f0f8ff;border: 1px dotted black;border-radius: 0.25em;box-sizing: border-box;margin-bottom: 0.5em;}#sk-container-id-3 div.sk-estimator:hover {background-color: #d4ebff;}#sk-container-id-3 div.sk-parallel-item::after {content: \"\";width: 100%;border-bottom: 1px solid gray;flex-grow: 1;}#sk-container-id-3 div.sk-label:hover label.sk-toggleable__label {background-color: #d4ebff;}#sk-container-id-3 div.sk-serial::before {content: \"\";position: absolute;border-left: 1px solid gray;box-sizing: border-box;top: 0;bottom: 0;left: 50%;z-index: 0;}#sk-container-id-3 div.sk-serial {display: flex;flex-direction: column;align-items: center;background-color: white;padding-right: 0.2em;padding-left: 0.2em;position: relative;}#sk-container-id-3 div.sk-item {position: relative;z-index: 1;}#sk-container-id-3 div.sk-parallel {display: flex;align-items: stretch;justify-content: center;background-color: white;position: relative;}#sk-container-id-3 div.sk-item::before, #sk-container-id-3 div.sk-parallel-item::before {content: \"\";position: absolute;border-left: 1px solid gray;box-sizing: border-box;top: 0;bottom: 0;left: 50%;z-index: -1;}#sk-container-id-3 div.sk-parallel-item {display: flex;flex-direction: column;z-index: 1;position: relative;background-color: white;}#sk-container-id-3 div.sk-parallel-item:first-child::after {align-self: flex-end;width: 50%;}#sk-container-id-3 div.sk-parallel-item:last-child::after {align-self: flex-start;width: 50%;}#sk-container-id-3 div.sk-parallel-item:only-child::after {width: 0;}#sk-container-id-3 div.sk-dashed-wrapped {border: 1px dashed gray;margin: 0 0.4em 0.5em 0.4em;box-sizing: border-box;padding-bottom: 0.4em;background-color: white;}#sk-container-id-3 div.sk-label label {font-family: monospace;font-weight: bold;display: inline-block;line-height: 1.2em;}#sk-container-id-3 div.sk-label-container {text-align: center;}#sk-container-id-3 div.sk-container {/* jupyter's `normalize.less` sets `[hidden] { display: none; }` but bootstrap.min.css set `[hidden] { display: none !important; }` so we also need the `!important` here to be able to override the default hidden behavior on the sphinx rendered scikit-learn.org. See: https://github.com/scikit-learn/scikit-learn/issues/21755 */display: inline-block !important;position: relative;}#sk-container-id-3 div.sk-text-repr-fallback {display: none;}</style><div id=\"sk-container-id-3\" class=\"sk-top-container\"><div class=\"sk-text-repr-fallback\"><pre>KMeans(n_clusters=2, random_state=0)</pre><b>In a Jupyter environment, please rerun this cell to show the HTML representation or trust the notebook. <br />On GitHub, the HTML representation is unable to render, please try loading this page with nbviewer.org.</b></div><div class=\"sk-container\" hidden><div class=\"sk-item\"><div class=\"sk-estimator sk-toggleable\"><input class=\"sk-toggleable__control sk-hidden--visually\" id=\"sk-estimator-id-3\" type=\"checkbox\" checked><label for=\"sk-estimator-id-3\" class=\"sk-toggleable__label sk-toggleable__label-arrow\">KMeans</label><div class=\"sk-toggleable__content\"><pre>KMeans(n_clusters=2, random_state=0)</pre></div></div></div></div></div>"
      ],
      "text/plain": [
       "KMeans(n_clusters=2, random_state=0)"
      ]
     },
     "execution_count": 21,
     "metadata": {},
     "output_type": "execute_result"
    }
   ],
   "source": [
    "# use KMeans on X\n",
    "kmeans = KMeans(n_clusters=2, random_state=0)\n",
    "kmeans.fit(X)"
   ]
  },
  {
   "cell_type": "code",
   "execution_count": 22,
   "metadata": {},
   "outputs": [],
   "source": [
    "# Assign clusters to the data\n",
    "clusters = kmeans.predict(X)"
   ]
  },
  {
   "cell_type": "code",
   "execution_count": 23,
   "metadata": {},
   "outputs": [
    {
     "name": "stdout",
     "output_type": "stream",
     "text": [
      "['negative', 'negative', 'positive', 'negative', 'negative', 'positive', 'negative', 'positive', 'positive', 'negative', 'negative', 'positive', 'negative', 'negative', 'negative', 'negative', 'negative', 'negative', 'negative', 'negative', 'negative', 'negative', 'negative', 'negative', 'positive', 'negative', 'negative', 'positive', 'negative', 'negative', 'negative', 'negative', 'positive', 'positive', 'negative', 'negative', 'negative', 'negative', 'negative', 'positive', 'positive', 'negative', 'negative', 'negative', 'negative', 'positive', 'negative', 'negative', 'negative', 'negative', 'negative', 'negative', 'negative', 'negative', 'positive', 'negative', 'negative', 'positive', 'negative', 'negative', 'negative', 'negative', 'positive', 'negative', 'negative', 'negative', 'negative', 'negative', 'negative', 'positive', 'negative', 'positive', 'negative', 'positive', 'negative', 'negative', 'negative', 'positive', 'negative', 'positive', 'negative', 'positive', 'positive', 'negative', 'negative', 'negative', 'negative', 'positive', 'negative', 'negative', 'negative', 'positive', 'negative', 'negative', 'negative', 'negative', 'negative', 'negative', 'positive', 'negative', 'positive', 'positive', 'negative', 'negative', 'negative', 'negative', 'positive', 'negative', 'negative', 'negative', 'negative', 'negative', 'positive', 'negative', 'positive', 'positive', 'negative', 'negative', 'negative', 'negative', 'negative', 'positive', 'negative', 'negative', 'negative', 'positive', 'negative', 'negative', 'negative', 'positive', 'negative', 'positive', 'positive', 'positive', 'negative', 'positive', 'positive', 'positive', 'negative', 'positive', 'positive', 'positive', 'positive', 'positive', 'negative', 'positive', 'negative', 'negative', 'negative', 'negative', 'negative', 'negative', 'negative', 'positive', 'negative', 'negative', 'positive', 'negative', 'negative', 'negative', 'negative', 'negative', 'positive', 'positive', 'negative', 'negative', 'negative', 'positive', 'negative', 'negative', 'negative', 'positive', 'positive', 'negative', 'positive', 'positive', 'positive', 'negative', 'negative', 'positive', 'positive', 'negative', 'negative', 'negative', 'negative', 'positive', 'positive', 'negative', 'positive', 'positive', 'positive', 'negative', 'negative', 'negative', 'negative', 'negative', 'negative', 'positive', 'negative', 'negative', 'positive', 'negative', 'negative', 'negative', 'negative', 'negative', 'negative']\n",
      "[1 1 1 1 1 1 1 1 1 1 1 1 1 0 1 1 1 1 1 0 1 1 1 1 0 0 1 1 0 1 1 1 1 1 1 1 1\n",
      " 0 1 0 1 1 1 0 0 0 1 0 1 1 0 1 0 1 1 1 1 1 1 1 0 1 1 1 1 1 0 1 1 1 1 1 1 1\n",
      " 1 1 1 0 0 1 1 1 1 1 1 1 1 1 1 1 1 1 1 1 1 0 0 0 1 1 0 1 1 1 1 1 1 1 1 0 1\n",
      " 1 1 1 1 1 1 1 1 0 1 0 1 0 1 1 1 1 1 1 0 0 1 1 1 1 0 1 1 1 1 1 0 1 1 1 1 0\n",
      " 1 1 1 0 1 1 1 1 1 1 1 0 1 0 1 1 1 0 1 1 1 1 1 0 1 1 0 1 1 1 0 1 1 1 1 0 1\n",
      " 1 0 1 1 1 1 1 1 1 1 1 0 1 1 1 1 1 1 0 0 1 1]\n",
      "0.5990338164251208\n"
     ]
    }
   ],
   "source": [
    "# print labels and clusters\n",
    "print(labels)\n",
    "print(clusters)\n",
    "# consider negative as 1 and positive as 0 in labels\n",
    "labels2 = [1 if label == 'negative' else 0 for label in labels]\n",
    "# calculate accuracy\n",
    "accuracy = accuracy_score(labels2, clusters)\n",
    "print(accuracy)"
   ]
  },
  {
   "attachments": {},
   "cell_type": "markdown",
   "metadata": {},
   "source": [
    "For the hybrid approach, use the label assigned by clustering and append it into the training data for the logistic regressor"
   ]
  },
  {
   "cell_type": "code",
   "execution_count": 24,
   "metadata": {},
   "outputs": [],
   "source": [
    "# Take the kmeans label for each example and append it to the training data X\n",
    "X = vectorizer.fit_transform(corpus)\n",
    "X = X.toarray()\n",
    "X = np.append(X, np.array([clusters]).T, axis=1)\n"
   ]
  },
  {
   "cell_type": "code",
   "execution_count": 25,
   "metadata": {},
   "outputs": [
    {
     "data": {
      "text/html": [
       "<style>#sk-container-id-4 {color: black;background-color: white;}#sk-container-id-4 pre{padding: 0;}#sk-container-id-4 div.sk-toggleable {background-color: white;}#sk-container-id-4 label.sk-toggleable__label {cursor: pointer;display: block;width: 100%;margin-bottom: 0;padding: 0.3em;box-sizing: border-box;text-align: center;}#sk-container-id-4 label.sk-toggleable__label-arrow:before {content: \"▸\";float: left;margin-right: 0.25em;color: #696969;}#sk-container-id-4 label.sk-toggleable__label-arrow:hover:before {color: black;}#sk-container-id-4 div.sk-estimator:hover label.sk-toggleable__label-arrow:before {color: black;}#sk-container-id-4 div.sk-toggleable__content {max-height: 0;max-width: 0;overflow: hidden;text-align: left;background-color: #f0f8ff;}#sk-container-id-4 div.sk-toggleable__content pre {margin: 0.2em;color: black;border-radius: 0.25em;background-color: #f0f8ff;}#sk-container-id-4 input.sk-toggleable__control:checked~div.sk-toggleable__content {max-height: 200px;max-width: 100%;overflow: auto;}#sk-container-id-4 input.sk-toggleable__control:checked~label.sk-toggleable__label-arrow:before {content: \"▾\";}#sk-container-id-4 div.sk-estimator input.sk-toggleable__control:checked~label.sk-toggleable__label {background-color: #d4ebff;}#sk-container-id-4 div.sk-label input.sk-toggleable__control:checked~label.sk-toggleable__label {background-color: #d4ebff;}#sk-container-id-4 input.sk-hidden--visually {border: 0;clip: rect(1px 1px 1px 1px);clip: rect(1px, 1px, 1px, 1px);height: 1px;margin: -1px;overflow: hidden;padding: 0;position: absolute;width: 1px;}#sk-container-id-4 div.sk-estimator {font-family: monospace;background-color: #f0f8ff;border: 1px dotted black;border-radius: 0.25em;box-sizing: border-box;margin-bottom: 0.5em;}#sk-container-id-4 div.sk-estimator:hover {background-color: #d4ebff;}#sk-container-id-4 div.sk-parallel-item::after {content: \"\";width: 100%;border-bottom: 1px solid gray;flex-grow: 1;}#sk-container-id-4 div.sk-label:hover label.sk-toggleable__label {background-color: #d4ebff;}#sk-container-id-4 div.sk-serial::before {content: \"\";position: absolute;border-left: 1px solid gray;box-sizing: border-box;top: 0;bottom: 0;left: 50%;z-index: 0;}#sk-container-id-4 div.sk-serial {display: flex;flex-direction: column;align-items: center;background-color: white;padding-right: 0.2em;padding-left: 0.2em;position: relative;}#sk-container-id-4 div.sk-item {position: relative;z-index: 1;}#sk-container-id-4 div.sk-parallel {display: flex;align-items: stretch;justify-content: center;background-color: white;position: relative;}#sk-container-id-4 div.sk-item::before, #sk-container-id-4 div.sk-parallel-item::before {content: \"\";position: absolute;border-left: 1px solid gray;box-sizing: border-box;top: 0;bottom: 0;left: 50%;z-index: -1;}#sk-container-id-4 div.sk-parallel-item {display: flex;flex-direction: column;z-index: 1;position: relative;background-color: white;}#sk-container-id-4 div.sk-parallel-item:first-child::after {align-self: flex-end;width: 50%;}#sk-container-id-4 div.sk-parallel-item:last-child::after {align-self: flex-start;width: 50%;}#sk-container-id-4 div.sk-parallel-item:only-child::after {width: 0;}#sk-container-id-4 div.sk-dashed-wrapped {border: 1px dashed gray;margin: 0 0.4em 0.5em 0.4em;box-sizing: border-box;padding-bottom: 0.4em;background-color: white;}#sk-container-id-4 div.sk-label label {font-family: monospace;font-weight: bold;display: inline-block;line-height: 1.2em;}#sk-container-id-4 div.sk-label-container {text-align: center;}#sk-container-id-4 div.sk-container {/* jupyter's `normalize.less` sets `[hidden] { display: none; }` but bootstrap.min.css set `[hidden] { display: none !important; }` so we also need the `!important` here to be able to override the default hidden behavior on the sphinx rendered scikit-learn.org. See: https://github.com/scikit-learn/scikit-learn/issues/21755 */display: inline-block !important;position: relative;}#sk-container-id-4 div.sk-text-repr-fallback {display: none;}</style><div id=\"sk-container-id-4\" class=\"sk-top-container\"><div class=\"sk-text-repr-fallback\"><pre>LogisticRegression()</pre><b>In a Jupyter environment, please rerun this cell to show the HTML representation or trust the notebook. <br />On GitHub, the HTML representation is unable to render, please try loading this page with nbviewer.org.</b></div><div class=\"sk-container\" hidden><div class=\"sk-item\"><div class=\"sk-estimator sk-toggleable\"><input class=\"sk-toggleable__control sk-hidden--visually\" id=\"sk-estimator-id-4\" type=\"checkbox\" checked><label for=\"sk-estimator-id-4\" class=\"sk-toggleable__label sk-toggleable__label-arrow\">LogisticRegression</label><div class=\"sk-toggleable__content\"><pre>LogisticRegression()</pre></div></div></div></div></div>"
      ],
      "text/plain": [
       "LogisticRegression()"
      ]
     },
     "execution_count": 25,
     "metadata": {},
     "output_type": "execute_result"
    }
   ],
   "source": [
    "# use logistic regression on X\n",
    "regressor = LogisticRegression()\n",
    "regressor.fit(X, labels)"
   ]
  },
  {
   "cell_type": "code",
   "execution_count": 26,
   "metadata": {},
   "outputs": [
    {
     "name": "stdout",
     "output_type": "stream",
     "text": [
      "0.9806763285024155\n"
     ]
    }
   ],
   "source": [
    "# accuracy\n",
    "y_pred = regressor.predict(X)\n",
    "accuracy = accuracy_score(labels, y_pred)\n",
    "print(accuracy)"
   ]
  },
  {
   "cell_type": "code",
   "execution_count": 29,
   "metadata": {},
   "outputs": [],
   "source": [
    "# take 1 sentence and show the prediction vs real label\n",
    "sentence = sentences[0]\n",
    "sentence = vectorizer.transform([sentence])\n",
    "sentence = sentence.toarray()\n",
    "sentence = np.append(sentence, np.array([[0]]), axis=1)\n",
    "prediction = regressor.predict(sentence)\n"
   ]
  },
  {
   "cell_type": "code",
   "execution_count": 32,
   "metadata": {},
   "outputs": [
    {
     "name": "stdout",
     "output_type": "stream",
     "text": [
      "The rooms are extremely small, practically only a bed.\n",
      "['negative']\n",
      "negative\n"
     ]
    }
   ],
   "source": [
    "# prediction vs real label\n",
    "print(sentences[0])\n",
    "print(prediction)\n",
    "print(labels[0])"
   ]
  }
 ],
 "metadata": {
  "interpreter": {
   "hash": "b15e34aad66e9e3b527f162cfcae96454e420cf4f38bc5947ead173934d3535a"
  },
  "kernelspec": {
   "display_name": "Python 3.7.2 64-bit",
   "name": "python3"
  },
  "language_info": {
   "codemirror_mode": {
    "name": "ipython",
    "version": 3
   },
   "file_extension": ".py",
   "mimetype": "text/x-python",
   "name": "python",
   "nbconvert_exporter": "python",
   "pygments_lexer": "ipython3",
   "version": "3.8.16"
  },
  "orig_nbformat": 2
 },
 "nbformat": 4,
 "nbformat_minor": 2
}
