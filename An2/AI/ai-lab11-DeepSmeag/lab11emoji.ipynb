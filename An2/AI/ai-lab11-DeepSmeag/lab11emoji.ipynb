{
 "cells": [
  {
   "cell_type": "code",
   "execution_count": 3,
   "metadata": {},
   "outputs": [],
   "source": [
    "# import all kinds of libraries for image processing\n",
    "import numpy as np\n",
    "import cv2\n",
    "import matplotlib.pyplot as plt\n",
    "import matplotlib.image as mpimg"
   ]
  },
  {
   "cell_type": "code",
   "execution_count": 4,
   "metadata": {},
   "outputs": [
    {
     "name": "stderr",
     "output_type": "stream",
     "text": [
      "2023-05-24 11:40:47.482517: I tensorflow/core/platform/cpu_feature_guard.cc:182] This TensorFlow binary is optimized to use available CPU instructions in performance-critical operations.\n",
      "To enable the following instructions: AVX2 FMA, in other operations, rebuild TensorFlow with the appropriate compiler flags.\n",
      "2023-05-24 11:41:06.773838: W tensorflow/compiler/tf2tensorrt/utils/py_utils.cc:38] TF-TRT Warning: Could not find TensorRT\n"
     ]
    }
   ],
   "source": [
    "# import the dl libraries\n",
    "import tensorflow as tf\n",
    "from tensorflow import keras\n",
    "from tensorflow.keras import layers\n",
    "from tensorflow.keras.models import Sequential\n",
    "from tensorflow.keras.layers import Dense, Dropout, Activation, Flatten, Conv2D, MaxPooling2D\n",
    "\n",
    "import sklearn as sk"
   ]
  },
  {
   "cell_type": "code",
   "execution_count": 5,
   "metadata": {},
   "outputs": [],
   "source": [
    "# Create the dataset; the folder emoji contains 3 folders: angry,happy,sad\n",
    "# each of the folders contains images; we will use these images to train our model\n",
    "\n",
    "# import the libraries for reading the images\n",
    "import os\n",
    "import cv2\n",
    "import numpy as np\n",
    "from sklearn.model_selection import train_test_split\n"
   ]
  },
  {
   "cell_type": "code",
   "execution_count": 6,
   "metadata": {},
   "outputs": [],
   "source": [
    "# load images and label them based on folder name\n",
    "def load_images_from_folder(folder):\n",
    "    images = []\n",
    "    labels = []\n",
    "    for filename in os.listdir(folder):\n",
    "        label = folder.split('/')[-1]\n",
    "        img = cv2.imread(os.path.join(folder,filename))\n",
    "        if img is not None:\n",
    "            images.append(img)\n",
    "            labels.append(label)\n",
    "    return images, labels"
   ]
  },
  {
   "cell_type": "code",
   "execution_count": 7,
   "metadata": {},
   "outputs": [],
   "source": [
    "# load\n",
    "angry_images, angry_labels = load_images_from_folder('emoji/angry')\n",
    "happy_images, happy_labels = load_images_from_folder('emoji/happy')\n",
    "sad_images, sad_labels = load_images_from_folder('emoji/sad')"
   ]
  },
  {
   "cell_type": "code",
   "execution_count": 9,
   "metadata": {},
   "outputs": [],
   "source": [
    "combined_images = angry_images + happy_images + sad_images"
   ]
  },
  {
   "cell_type": "code",
   "execution_count": 12,
   "metadata": {},
   "outputs": [],
   "source": [
    "# convert the images to numpy array\n",
    "X = np.array(combined_images)\n",
    "y = np.array(angry_labels + happy_labels + sad_labels)"
   ]
  },
  {
   "cell_type": "code",
   "execution_count": 13,
   "metadata": {},
   "outputs": [],
   "source": [
    "# split the data into train and test\n",
    "X_train, X_test, y_train, y_test = train_test_split(X, y, test_size=0.1)"
   ]
  },
  {
   "cell_type": "code",
   "execution_count": 14,
   "metadata": {},
   "outputs": [
    {
     "name": "stderr",
     "output_type": "stream",
     "text": [
      "2023-05-24 12:08:33.251860: I tensorflow/compiler/xla/stream_executor/cuda/cuda_gpu_executor.cc:982] could not open file to read NUMA node: /sys/bus/pci/devices/0000:01:00.0/numa_node\n",
      "Your kernel may have been built without NUMA support.\n",
      "2023-05-24 12:08:33.331390: W tensorflow/core/common_runtime/gpu/gpu_device.cc:1956] Cannot dlopen some GPU libraries. Please make sure the missing libraries mentioned above are installed properly if you would like to use GPU. Follow the guide at https://www.tensorflow.org/install/gpu for how to download and setup the required libraries for your platform.\n",
      "Skipping registering GPU devices...\n"
     ]
    }
   ],
   "source": [
    "# create model\n",
    "model = Sequential()\n",
    "\n",
    "# add layers\n",
    "model.add(Conv2D(32, (3, 3), input_shape=(64, 64, 3)))\n",
    "model.add(Activation('relu'))\n",
    "model.add(MaxPooling2D(pool_size=(2, 2)))\n",
    "model.add(Conv2D(32, (3,3)))\n",
    "model.add(Activation('relu'))\n",
    "model.add(MaxPooling2D(pool_size=(2, 2)))\n",
    "model.add(Flatten())  # this converts our 3D feature maps to 1D feature vectors\n",
    "model.add(Dense(3))\n",
    "model.add(Activation('softmax'))\n",
    "\n",
    "# compile the model\n",
    "model.compile(loss='sparse_categorical_crossentropy',\n",
    "                optimizer='adam',\n",
    "                metrics=['accuracy'])"
   ]
  },
  {
   "cell_type": "code",
   "execution_count": 17,
   "metadata": {},
   "outputs": [],
   "source": [
    "y_labels = y_train\n",
    "y_test_labels = y_test\n",
    "\n",
    "# y_train and test turn angry to class 0, happy to class 1, sad to class 2\n",
    "y_train = np.where(y_train == 'angry', 0, y_train)\n",
    "y_train = np.where(y_train == 'happy', 1, y_train)\n",
    "y_train = np.where(y_train == 'sad', 2, y_train)\n",
    "\n",
    "y_test = np.where(y_test == 'angry', 0, y_test)\n",
    "y_test = np.where(y_test == 'happy', 1, y_test)\n",
    "y_test = np.where(y_test == 'sad', 2, y_test)\n"
   ]
  },
  {
   "cell_type": "code",
   "execution_count": 20,
   "metadata": {},
   "outputs": [],
   "source": [
    "y_train = y_train.astype('int')\n",
    "y_test = y_test.astype('int')"
   ]
  },
  {
   "cell_type": "code",
   "execution_count": 21,
   "metadata": {},
   "outputs": [
    {
     "name": "stdout",
     "output_type": "stream",
     "text": [
      "Epoch 1/100\n",
      "4/4 [==============================] - 2s 114ms/step - loss: 126.4378 - accuracy: 0.2617 - val_loss: 37.6454 - val_accuracy: 0.6667\n",
      "Epoch 2/100\n",
      "4/4 [==============================] - 0s 50ms/step - loss: 24.9878 - accuracy: 0.4486 - val_loss: 47.9861 - val_accuracy: 0.3333\n",
      "Epoch 3/100\n",
      "4/4 [==============================] - 0s 51ms/step - loss: 29.1578 - accuracy: 0.5234 - val_loss: 3.9883 - val_accuracy: 0.7500\n",
      "Epoch 4/100\n",
      "4/4 [==============================] - 0s 50ms/step - loss: 13.2191 - accuracy: 0.5981 - val_loss: 4.4739 - val_accuracy: 0.6667\n",
      "Epoch 5/100\n",
      "4/4 [==============================] - 0s 56ms/step - loss: 3.3786 - accuracy: 0.7103 - val_loss: 6.8925 - val_accuracy: 0.5833\n",
      "Epoch 6/100\n",
      "4/4 [==============================] - 0s 50ms/step - loss: 3.8330 - accuracy: 0.7477 - val_loss: 6.8148 - val_accuracy: 0.5833\n",
      "Epoch 7/100\n",
      "4/4 [==============================] - 0s 52ms/step - loss: 2.3657 - accuracy: 0.7850 - val_loss: 2.9761 - val_accuracy: 0.7500\n",
      "Epoch 8/100\n",
      "4/4 [==============================] - 0s 49ms/step - loss: 0.9354 - accuracy: 0.8224 - val_loss: 0.8411 - val_accuracy: 0.8333\n",
      "Epoch 9/100\n",
      "4/4 [==============================] - 0s 57ms/step - loss: 0.5422 - accuracy: 0.8598 - val_loss: 0.1293 - val_accuracy: 0.9167\n",
      "Epoch 10/100\n",
      "4/4 [==============================] - 0s 54ms/step - loss: 0.2919 - accuracy: 0.9159 - val_loss: 0.0556 - val_accuracy: 1.0000\n",
      "Epoch 11/100\n",
      "4/4 [==============================] - 0s 65ms/step - loss: 0.2119 - accuracy: 0.9439 - val_loss: 0.0379 - val_accuracy: 1.0000\n",
      "Epoch 12/100\n",
      "4/4 [==============================] - 0s 53ms/step - loss: 0.1186 - accuracy: 0.9533 - val_loss: 0.0368 - val_accuracy: 1.0000\n",
      "Epoch 13/100\n",
      "4/4 [==============================] - 0s 51ms/step - loss: 0.0601 - accuracy: 0.9626 - val_loss: 0.0198 - val_accuracy: 1.0000\n",
      "Epoch 14/100\n",
      "4/4 [==============================] - 0s 55ms/step - loss: 0.0390 - accuracy: 0.9907 - val_loss: 0.0323 - val_accuracy: 1.0000\n",
      "Epoch 15/100\n",
      "4/4 [==============================] - 0s 51ms/step - loss: 0.0247 - accuracy: 0.9907 - val_loss: 0.0394 - val_accuracy: 1.0000\n",
      "Epoch 16/100\n",
      "4/4 [==============================] - 0s 50ms/step - loss: 0.0216 - accuracy: 0.9907 - val_loss: 0.0425 - val_accuracy: 1.0000\n",
      "Epoch 17/100\n",
      "4/4 [==============================] - 0s 49ms/step - loss: 0.0193 - accuracy: 0.9907 - val_loss: 0.0466 - val_accuracy: 1.0000\n",
      "Epoch 18/100\n",
      "4/4 [==============================] - 0s 51ms/step - loss: 0.0174 - accuracy: 0.9907 - val_loss: 0.0514 - val_accuracy: 1.0000\n",
      "Epoch 19/100\n",
      "4/4 [==============================] - 0s 49ms/step - loss: 0.0170 - accuracy: 0.9907 - val_loss: 0.0585 - val_accuracy: 1.0000\n",
      "Epoch 20/100\n",
      "4/4 [==============================] - 0s 49ms/step - loss: 0.0165 - accuracy: 0.9907 - val_loss: 0.0727 - val_accuracy: 1.0000\n",
      "Epoch 21/100\n",
      "4/4 [==============================] - 0s 51ms/step - loss: 0.0162 - accuracy: 0.9907 - val_loss: 0.0975 - val_accuracy: 1.0000\n",
      "Epoch 22/100\n",
      "4/4 [==============================] - 0s 50ms/step - loss: 0.0158 - accuracy: 0.9907 - val_loss: 0.1232 - val_accuracy: 0.9167\n",
      "Epoch 23/100\n",
      "4/4 [==============================] - 0s 50ms/step - loss: 0.0154 - accuracy: 0.9907 - val_loss: 0.1460 - val_accuracy: 0.9167\n",
      "Epoch 24/100\n",
      "4/4 [==============================] - 0s 51ms/step - loss: 0.0148 - accuracy: 0.9907 - val_loss: 0.1805 - val_accuracy: 0.9167\n",
      "Epoch 25/100\n",
      "4/4 [==============================] - 0s 51ms/step - loss: 0.0148 - accuracy: 0.9907 - val_loss: 0.1755 - val_accuracy: 0.9167\n",
      "Epoch 26/100\n",
      "4/4 [==============================] - 0s 50ms/step - loss: 0.0141 - accuracy: 0.9907 - val_loss: 0.1385 - val_accuracy: 0.9167\n",
      "Epoch 27/100\n",
      "4/4 [==============================] - 0s 51ms/step - loss: 0.0139 - accuracy: 0.9907 - val_loss: 0.1281 - val_accuracy: 0.9167\n",
      "Epoch 28/100\n",
      "4/4 [==============================] - 0s 51ms/step - loss: 0.0139 - accuracy: 0.9907 - val_loss: 0.1153 - val_accuracy: 0.9167\n",
      "Epoch 29/100\n",
      "4/4 [==============================] - 0s 50ms/step - loss: 0.0135 - accuracy: 0.9907 - val_loss: 0.1203 - val_accuracy: 0.9167\n",
      "Epoch 30/100\n",
      "4/4 [==============================] - 0s 51ms/step - loss: 0.0133 - accuracy: 0.9907 - val_loss: 0.1259 - val_accuracy: 0.9167\n",
      "Epoch 31/100\n",
      "4/4 [==============================] - 0s 51ms/step - loss: 0.0129 - accuracy: 0.9907 - val_loss: 0.1416 - val_accuracy: 0.9167\n",
      "Epoch 32/100\n",
      "4/4 [==============================] - 0s 51ms/step - loss: 0.0116 - accuracy: 0.9907 - val_loss: 0.1688 - val_accuracy: 0.9167\n",
      "Epoch 33/100\n",
      "4/4 [==============================] - 0s 52ms/step - loss: 0.0122 - accuracy: 0.9907 - val_loss: 0.2070 - val_accuracy: 0.9167\n",
      "Epoch 34/100\n",
      "4/4 [==============================] - 0s 49ms/step - loss: 0.0076 - accuracy: 1.0000 - val_loss: 0.3091 - val_accuracy: 0.9167\n",
      "Epoch 35/100\n",
      "4/4 [==============================] - 0s 51ms/step - loss: 0.0051 - accuracy: 1.0000 - val_loss: 0.4402 - val_accuracy: 0.9167\n",
      "Epoch 36/100\n",
      "4/4 [==============================] - 0s 50ms/step - loss: 0.0035 - accuracy: 1.0000 - val_loss: 0.5045 - val_accuracy: 0.9167\n",
      "Epoch 37/100\n",
      "4/4 [==============================] - 0s 50ms/step - loss: 0.0116 - accuracy: 0.9907 - val_loss: 0.5054 - val_accuracy: 0.9167\n",
      "Epoch 38/100\n",
      "4/4 [==============================] - 0s 50ms/step - loss: 0.0054 - accuracy: 1.0000 - val_loss: 0.3167 - val_accuracy: 0.9167\n",
      "Epoch 39/100\n",
      "4/4 [==============================] - 0s 51ms/step - loss: 0.0027 - accuracy: 1.0000 - val_loss: 0.1027 - val_accuracy: 0.9167\n",
      "Epoch 40/100\n",
      "4/4 [==============================] - 0s 52ms/step - loss: 0.0018 - accuracy: 1.0000 - val_loss: 0.0412 - val_accuracy: 1.0000\n",
      "Epoch 41/100\n",
      "4/4 [==============================] - 0s 51ms/step - loss: 0.0018 - accuracy: 1.0000 - val_loss: 0.0302 - val_accuracy: 1.0000\n",
      "Epoch 42/100\n",
      "4/4 [==============================] - 0s 49ms/step - loss: 0.0017 - accuracy: 1.0000 - val_loss: 0.0351 - val_accuracy: 1.0000\n",
      "Epoch 43/100\n",
      "4/4 [==============================] - 0s 51ms/step - loss: 0.0013 - accuracy: 1.0000 - val_loss: 0.0499 - val_accuracy: 1.0000\n",
      "Epoch 44/100\n",
      "4/4 [==============================] - 0s 48ms/step - loss: 0.0010 - accuracy: 1.0000 - val_loss: 0.0833 - val_accuracy: 0.9167\n",
      "Epoch 45/100\n",
      "4/4 [==============================] - 0s 47ms/step - loss: 7.7975e-04 - accuracy: 1.0000 - val_loss: 0.1238 - val_accuracy: 0.9167\n",
      "Epoch 46/100\n",
      "4/4 [==============================] - 0s 47ms/step - loss: 6.9664e-04 - accuracy: 1.0000 - val_loss: 0.1661 - val_accuracy: 0.9167\n",
      "Epoch 47/100\n",
      "4/4 [==============================] - 0s 44ms/step - loss: 6.3364e-04 - accuracy: 1.0000 - val_loss: 0.1993 - val_accuracy: 0.9167\n",
      "Epoch 48/100\n",
      "4/4 [==============================] - 0s 49ms/step - loss: 5.9377e-04 - accuracy: 1.0000 - val_loss: 0.2229 - val_accuracy: 0.9167\n",
      "Epoch 49/100\n",
      "4/4 [==============================] - 0s 45ms/step - loss: 5.4290e-04 - accuracy: 1.0000 - val_loss: 0.2438 - val_accuracy: 0.9167\n",
      "Epoch 50/100\n",
      "4/4 [==============================] - 0s 55ms/step - loss: 5.0781e-04 - accuracy: 1.0000 - val_loss: 0.2579 - val_accuracy: 0.9167\n",
      "Epoch 51/100\n",
      "4/4 [==============================] - 0s 54ms/step - loss: 4.7536e-04 - accuracy: 1.0000 - val_loss: 0.2696 - val_accuracy: 0.9167\n",
      "Epoch 52/100\n",
      "4/4 [==============================] - 0s 51ms/step - loss: 4.3751e-04 - accuracy: 1.0000 - val_loss: 0.2817 - val_accuracy: 0.9167\n",
      "Epoch 53/100\n",
      "4/4 [==============================] - 0s 48ms/step - loss: 4.0940e-04 - accuracy: 1.0000 - val_loss: 0.2906 - val_accuracy: 0.9167\n",
      "Epoch 54/100\n",
      "4/4 [==============================] - 0s 47ms/step - loss: 3.9323e-04 - accuracy: 1.0000 - val_loss: 0.3007 - val_accuracy: 0.9167\n",
      "Epoch 55/100\n",
      "4/4 [==============================] - 0s 47ms/step - loss: 3.6747e-04 - accuracy: 1.0000 - val_loss: 0.3128 - val_accuracy: 0.9167\n",
      "Epoch 56/100\n",
      "4/4 [==============================] - 0s 48ms/step - loss: 3.5401e-04 - accuracy: 1.0000 - val_loss: 0.3259 - val_accuracy: 0.9167\n",
      "Epoch 57/100\n",
      "4/4 [==============================] - 0s 48ms/step - loss: 3.3962e-04 - accuracy: 1.0000 - val_loss: 0.3378 - val_accuracy: 0.9167\n",
      "Epoch 58/100\n",
      "4/4 [==============================] - 0s 46ms/step - loss: 3.2863e-04 - accuracy: 1.0000 - val_loss: 0.3492 - val_accuracy: 0.9167\n",
      "Epoch 59/100\n",
      "4/4 [==============================] - 0s 48ms/step - loss: 3.1744e-04 - accuracy: 1.0000 - val_loss: 0.3625 - val_accuracy: 0.9167\n",
      "Epoch 60/100\n",
      "4/4 [==============================] - 0s 49ms/step - loss: 3.0765e-04 - accuracy: 1.0000 - val_loss: 0.3767 - val_accuracy: 0.9167\n",
      "Epoch 61/100\n",
      "4/4 [==============================] - 0s 58ms/step - loss: 2.9736e-04 - accuracy: 1.0000 - val_loss: 0.3901 - val_accuracy: 0.9167\n",
      "Epoch 62/100\n",
      "4/4 [==============================] - 0s 62ms/step - loss: 2.8583e-04 - accuracy: 1.0000 - val_loss: 0.4040 - val_accuracy: 0.9167\n",
      "Epoch 63/100\n",
      "4/4 [==============================] - 0s 61ms/step - loss: 2.7747e-04 - accuracy: 1.0000 - val_loss: 0.4212 - val_accuracy: 0.9167\n",
      "Epoch 64/100\n",
      "4/4 [==============================] - 0s 64ms/step - loss: 2.6728e-04 - accuracy: 1.0000 - val_loss: 0.4370 - val_accuracy: 0.9167\n",
      "Epoch 65/100\n",
      "4/4 [==============================] - 0s 71ms/step - loss: 2.5835e-04 - accuracy: 1.0000 - val_loss: 0.4515 - val_accuracy: 0.9167\n",
      "Epoch 66/100\n",
      "4/4 [==============================] - 0s 60ms/step - loss: 2.4994e-04 - accuracy: 1.0000 - val_loss: 0.4644 - val_accuracy: 0.9167\n",
      "Epoch 67/100\n",
      "4/4 [==============================] - 0s 51ms/step - loss: 2.3985e-04 - accuracy: 1.0000 - val_loss: 0.4758 - val_accuracy: 0.9167\n",
      "Epoch 68/100\n",
      "4/4 [==============================] - 0s 59ms/step - loss: 2.3257e-04 - accuracy: 1.0000 - val_loss: 0.4879 - val_accuracy: 0.9167\n",
      "Epoch 69/100\n",
      "4/4 [==============================] - 0s 47ms/step - loss: 2.2659e-04 - accuracy: 1.0000 - val_loss: 0.5017 - val_accuracy: 0.9167\n",
      "Epoch 70/100\n",
      "4/4 [==============================] - 0s 68ms/step - loss: 2.1766e-04 - accuracy: 1.0000 - val_loss: 0.5142 - val_accuracy: 0.9167\n",
      "Epoch 71/100\n",
      "4/4 [==============================] - 0s 49ms/step - loss: 2.1132e-04 - accuracy: 1.0000 - val_loss: 0.5224 - val_accuracy: 0.9167\n",
      "Epoch 72/100\n",
      "4/4 [==============================] - 0s 47ms/step - loss: 2.0764e-04 - accuracy: 1.0000 - val_loss: 0.5299 - val_accuracy: 0.9167\n",
      "Epoch 73/100\n",
      "4/4 [==============================] - 0s 58ms/step - loss: 2.0104e-04 - accuracy: 1.0000 - val_loss: 0.5378 - val_accuracy: 0.9167\n",
      "Epoch 74/100\n",
      "4/4 [==============================] - 0s 60ms/step - loss: 1.9443e-04 - accuracy: 1.0000 - val_loss: 0.5455 - val_accuracy: 0.9167\n",
      "Epoch 75/100\n",
      "4/4 [==============================] - 0s 50ms/step - loss: 1.9036e-04 - accuracy: 1.0000 - val_loss: 0.5517 - val_accuracy: 0.9167\n",
      "Epoch 76/100\n",
      "4/4 [==============================] - 0s 54ms/step - loss: 1.8577e-04 - accuracy: 1.0000 - val_loss: 0.5573 - val_accuracy: 0.9167\n",
      "Epoch 77/100\n",
      "4/4 [==============================] - 0s 45ms/step - loss: 1.8161e-04 - accuracy: 1.0000 - val_loss: 0.5620 - val_accuracy: 0.9167\n",
      "Epoch 78/100\n",
      "4/4 [==============================] - 0s 46ms/step - loss: 1.7790e-04 - accuracy: 1.0000 - val_loss: 0.5659 - val_accuracy: 0.9167\n",
      "Epoch 79/100\n",
      "4/4 [==============================] - 0s 47ms/step - loss: 1.7397e-04 - accuracy: 1.0000 - val_loss: 0.5699 - val_accuracy: 0.9167\n",
      "Epoch 80/100\n",
      "4/4 [==============================] - 0s 56ms/step - loss: 1.6997e-04 - accuracy: 1.0000 - val_loss: 0.5743 - val_accuracy: 0.9167\n",
      "Epoch 81/100\n",
      "4/4 [==============================] - 0s 46ms/step - loss: 1.6622e-04 - accuracy: 1.0000 - val_loss: 0.5777 - val_accuracy: 0.9167\n",
      "Epoch 82/100\n",
      "4/4 [==============================] - 0s 46ms/step - loss: 1.6231e-04 - accuracy: 1.0000 - val_loss: 0.5808 - val_accuracy: 0.9167\n",
      "Epoch 83/100\n",
      "4/4 [==============================] - 0s 45ms/step - loss: 1.6001e-04 - accuracy: 1.0000 - val_loss: 0.5849 - val_accuracy: 0.9167\n",
      "Epoch 84/100\n",
      "4/4 [==============================] - 0s 45ms/step - loss: 1.5526e-04 - accuracy: 1.0000 - val_loss: 0.5873 - val_accuracy: 0.9167\n",
      "Epoch 85/100\n",
      "4/4 [==============================] - 0s 46ms/step - loss: 1.5224e-04 - accuracy: 1.0000 - val_loss: 0.5899 - val_accuracy: 0.9167\n",
      "Epoch 86/100\n",
      "4/4 [==============================] - 0s 45ms/step - loss: 1.4906e-04 - accuracy: 1.0000 - val_loss: 0.5920 - val_accuracy: 0.9167\n",
      "Epoch 87/100\n",
      "4/4 [==============================] - 0s 45ms/step - loss: 1.4534e-04 - accuracy: 1.0000 - val_loss: 0.5953 - val_accuracy: 0.9167\n",
      "Epoch 88/100\n",
      "4/4 [==============================] - 0s 47ms/step - loss: 1.4349e-04 - accuracy: 1.0000 - val_loss: 0.5997 - val_accuracy: 0.9167\n",
      "Epoch 89/100\n",
      "4/4 [==============================] - 0s 48ms/step - loss: 1.4205e-04 - accuracy: 1.0000 - val_loss: 0.6031 - val_accuracy: 0.9167\n",
      "Epoch 90/100\n",
      "4/4 [==============================] - 0s 47ms/step - loss: 1.3882e-04 - accuracy: 1.0000 - val_loss: 0.6042 - val_accuracy: 0.9167\n",
      "Epoch 91/100\n",
      "4/4 [==============================] - 0s 51ms/step - loss: 1.3569e-04 - accuracy: 1.0000 - val_loss: 0.6062 - val_accuracy: 0.9167\n",
      "Epoch 92/100\n",
      "4/4 [==============================] - 0s 48ms/step - loss: 1.3563e-04 - accuracy: 1.0000 - val_loss: 0.6053 - val_accuracy: 0.9167\n",
      "Epoch 93/100\n",
      "4/4 [==============================] - 0s 48ms/step - loss: 1.3150e-04 - accuracy: 1.0000 - val_loss: 0.6057 - val_accuracy: 0.9167\n",
      "Epoch 94/100\n",
      "4/4 [==============================] - 0s 60ms/step - loss: 1.3001e-04 - accuracy: 1.0000 - val_loss: 0.6072 - val_accuracy: 0.9167\n",
      "Epoch 95/100\n",
      "4/4 [==============================] - 0s 48ms/step - loss: 1.2796e-04 - accuracy: 1.0000 - val_loss: 0.6075 - val_accuracy: 0.9167\n",
      "Epoch 96/100\n",
      "4/4 [==============================] - 0s 46ms/step - loss: 1.2588e-04 - accuracy: 1.0000 - val_loss: 0.6086 - val_accuracy: 0.9167\n",
      "Epoch 97/100\n",
      "4/4 [==============================] - 0s 51ms/step - loss: 1.2466e-04 - accuracy: 1.0000 - val_loss: 0.6092 - val_accuracy: 0.9167\n",
      "Epoch 98/100\n",
      "4/4 [==============================] - 0s 49ms/step - loss: 1.2208e-04 - accuracy: 1.0000 - val_loss: 0.6115 - val_accuracy: 0.9167\n",
      "Epoch 99/100\n",
      "4/4 [==============================] - 0s 46ms/step - loss: 1.1743e-04 - accuracy: 1.0000 - val_loss: 0.6150 - val_accuracy: 0.9167\n",
      "Epoch 100/100\n",
      "4/4 [==============================] - 0s 48ms/step - loss: 1.1857e-04 - accuracy: 1.0000 - val_loss: 0.6202 - val_accuracy: 0.9167\n"
     ]
    },
    {
     "data": {
      "text/plain": [
       "<keras.callbacks.History at 0x7ff1ee61db20>"
      ]
     },
     "execution_count": 21,
     "metadata": {},
     "output_type": "execute_result"
    }
   ],
   "source": [
    "# train model\n",
    "model.fit(X_train, y_train, batch_size=32, epochs=100, validation_split=0.1)"
   ]
  },
  {
   "cell_type": "code",
   "execution_count": 22,
   "metadata": {},
   "outputs": [
    {
     "name": "stdout",
     "output_type": "stream",
     "text": [
      "1/1 [==============================] - 0s 25ms/step - loss: 1.2550 - accuracy: 0.8571\n",
      "Test accuracy: 0.8571428656578064\n"
     ]
    }
   ],
   "source": [
    "# accuracy on test\n",
    "test_loss, test_acc = model.evaluate(X_test, y_test)\n",
    "print('Test accuracy:', test_acc)"
   ]
  },
  {
   "cell_type": "code",
   "execution_count": 23,
   "metadata": {},
   "outputs": [
    {
     "name": "stdout",
     "output_type": "stream",
     "text": [
      "1/1 [==============================] - 0s 93ms/step\n",
      "[[1.0312928e-07 5.8052069e-06 9.9999404e-01]]\n"
     ]
    }
   ],
   "source": [
    "# take one random image from test set and predict\n",
    "random_image = X_test[0]\n",
    "random_image = np.expand_dims(random_image, axis=0)\n",
    "predictions = model.predict(random_image)\n",
    "print(predictions)"
   ]
  },
  {
   "cell_type": "code",
   "execution_count": 24,
   "metadata": {},
   "outputs": [
    {
     "data": {
      "text/plain": [
       "<matplotlib.image.AxesImage at 0x7ff1ee5cb550>"
      ]
     },
     "execution_count": 24,
     "metadata": {},
     "output_type": "execute_result"
    },
    {
     "data": {
      "image/png": "[encoded data removed]",
      "text/plain": [
       "<Figure size 640x480 with 1 Axes>"
      ]
     },
     "metadata": {},
     "output_type": "display_data"
    }
   ],
   "source": [
    "# show that image\n",
    "plt.imshow(X_test[0])"
   ]
  }
 ],
 "metadata": {
  "kernelspec": {
   "display_name": "aiMaterie",
   "language": "python",
   "name": "python3"
  },
  "language_info": {
   "codemirror_mode": {
    "name": "ipython",
    "version": 3
   },
   "file_extension": ".py",
   "mimetype": "text/x-python",
   "name": "python",
   "nbconvert_exporter": "python",
   "pygments_lexer": "ipython3",
   "version": "3.8.16"
  },
  "orig_nbformat": 4
 },
 "nbformat": 4,
 "nbformat_minor": 2
}
