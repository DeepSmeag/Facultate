{
 "cells": [
  {
   "cell_type": "code",
   "execution_count": 1,
   "metadata": {},
   "outputs": [
    {
     "name": "stderr",
     "output_type": "stream",
     "text": [
      "2023-06-03 17:55:46.678385: I tensorflow/core/platform/cpu_feature_guard.cc:182] This TensorFlow binary is optimized to use available CPU instructions in performance-critical operations.\n",
      "To enable the following instructions: AVX2 FMA, in other operations, rebuild TensorFlow with the appropriate compiler flags.\n",
      "2023-06-03 17:56:10.049794: W tensorflow/compiler/tf2tensorrt/utils/py_utils.cc:38] TF-TRT Warning: Could not find TensorRT\n"
     ]
    }
   ],
   "source": [
    "# import all sorts of libraries\n",
    "import numpy as np\n",
    "import matplotlib.pyplot as plt\n",
    "import pandas as pd\n",
    "import seaborn as sns\n",
    "\n",
    "# import ml libraries\n",
    "import sklearn\n",
    "from sklearn import datasets\n",
    "import tensorflow as tf\n",
    "from tensorflow import keras\n",
    "from tensorflow.keras import layers"
   ]
  },
  {
   "cell_type": "code",
   "execution_count": 10,
   "metadata": {},
   "outputs": [
    {
     "name": "stderr",
     "output_type": "stream",
     "text": [
      "Downloading (…)lve/main/config.json: 100%|██████████| 1.57k/1.57k [00:00<00:00, 656kB/s]\n",
      "Downloading pytorch_model.bin: 100%|██████████| 730M/730M [01:03<00:00, 11.6MB/s] \n",
      "Downloading (…)neration_config.json: 100%|██████████| 347/347 [00:00<00:00, 179kB/s]\n",
      "Downloading (…)okenizer_config.json: 100%|██████████| 1.15k/1.15k [00:00<00:00, 1.46MB/s]\n",
      "Downloading (…)olve/main/vocab.json: 100%|██████████| 127k/127k [00:00<00:00, 1.74MB/s]\n",
      "Downloading (…)olve/main/merges.txt: 100%|██████████| 62.9k/62.9k [00:00<00:00, 2.84MB/s]\n",
      "Downloading (…)in/added_tokens.json: 100%|██████████| 16.0/16.0 [00:00<00:00, 22.8kB/s]\n",
      "Downloading (…)cial_tokens_map.json: 100%|██████████| 772/772 [00:00<00:00, 626kB/s]\n"
     ]
    }
   ],
   "source": [
    "from transformers import Conversation, pipeline\n",
    "\n",
    "# Load the pre-trained conversational model\n",
    "conversational_pipeline = pipeline(\"conversational\",model='facebook/blenderbot-400M-distill')\n",
    "\n",
    "# Set up the initial user input\n",
    "user_input = \"I'm feeling down, write something to cheer me up.\"\n",
    "\n",
    "# Create a Conversation object\n",
    "conversation = Conversation()\n",
    "conversation.add_user_input(user_input)\n",
    "\n",
    "\n",
    "# Generate model response\n",
    "conversation = conversational_pipeline(conversation)\n",
    "\n",
    "\n"
   ]
  },
  {
   "cell_type": "code",
   "execution_count": 11,
   "metadata": {},
   "outputs": [
    {
     "name": "stdout",
     "output_type": "stream",
     "text": [
      "<bound method Conversation.iter_texts of Conversation id: 92511c12-bf92-4bee-a6d2-bd51eb344776 \n",
      "user >> I'm feeling down, write something to cheer me up. \n",
      "bot >>  I'm sorry to hear that. I hope you feel better soon. What's going on? \n",
      ">\n"
     ]
    }
   ],
   "source": [
    "# Get the model's reply\n",
    "reply = conversation.iter_texts\n",
    "\n",
    "\n",
    "\n",
    "# Add model's reply to the conversation\n",
    "# conversation.add_user_input(reply)\n",
    "\n",
    "# Print the model's reply\n",
    "print(reply)"
   ]
  }
 ],
 "metadata": {
  "kernelspec": {
   "display_name": "aiMaterie",
   "language": "python",
   "name": "python3"
  },
  "language_info": {
   "codemirror_mode": {
    "name": "ipython",
    "version": 3
   },
   "file_extension": ".py",
   "mimetype": "text/x-python",
   "name": "python",
   "nbconvert_exporter": "python",
   "pygments_lexer": "ipython3",
   "version": "3.8.16"
  },
  "orig_nbformat": 4
 },
 "nbformat": 4,
 "nbformat_minor": 2
}
