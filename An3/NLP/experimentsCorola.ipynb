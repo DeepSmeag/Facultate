{
 "cells": [
  {
   "cell_type": "code",
   "execution_count": 35,
   "metadata": {},
   "outputs": [
    {
     "name": "stderr",
     "output_type": "stream",
     "text": [
      "1903265it [01:35, 19962.81it/s]\n"
     ]
    }
   ],
   "source": [
    "wordembeddings = {}\n",
    "from tqdm import tqdm\n",
    "listOfWords = [\"de\", \"în\", \"mașină\", \"copil\", \"câine\", \"pisică\", \"mamă\", \"tată\", \"frate\", \"soră\", \"bunică\", \"bunic\", \"camion\", \"banană\", \"măr\", \"pară\", \"prună\", \"pește\", \"pui\", \"pasăre\", \"bicicletă\",\n",
    "                \"casă\",\"copac\",\"drum\",\"persoană\"]\n",
    "with open(\"corola.200.1.vec\",\"r\") as vecfile:\n",
    "    # for i, line in tqdm(enumerate(vecfile)):\n",
    "    #     # first word on the line is the word, the rest is the embedding; so first is string, the rest are floats\n",
    "    #     parts = line.split()\n",
    "    #     wordembeddings[parts[0]] = [float(x) for x in parts[1:]]\n",
    "    # write the word and the embedding on the millionth line, jump directly to that line\n",
    "    # linelength = len(vecfile.readline())\n",
    "    vecfile.readline()\n",
    "    with open(\"selectieCorola.txt\", \"w\") as writeFile:\n",
    "        for i,line in tqdm(enumerate(vecfile)):\n",
    "            if line.split()[0] in listOfWords:\n",
    "                writeFile.write(line)\n",
    "\n"
   ]
  },
  {
   "cell_type": "code",
   "execution_count": 25,
   "metadata": {},
   "outputs": [
    {
     "name": "stderr",
     "output_type": "stream",
     "text": [
      "1000000it [00:00, 1028339.31it/s]"
     ]
    },
    {
     "name": "stdout",
     "output_type": "stream",
     "text": [
      "quintilus 10000001746\n",
      "\n"
     ]
    },
    {
     "name": "stderr",
     "output_type": "stream",
     "text": [
      "\n"
     ]
    }
   ],
   "source": [
    "with open(\"indexareCorola.txt\", \"r\") as readFile:\n",
    "    for i,line in tqdm(enumerate(readFile)):\n",
    "        if i == 1000000:\n",
    "            print(line)\n",
    "            break"
   ]
  },
  {
   "cell_type": "code",
   "execution_count": 31,
   "metadata": {},
   "outputs": [],
   "source": [
    "def searchForWord(word):\n",
    "    with open(\"indexareCorola.txt\", \"r\") as readFile:\n",
    "        bytesToJump = 0\n",
    "        for i,line in enumerate(readFile):\n",
    "            bytesToJump += int(line.split()[2])\n",
    "            if word == line.split()[0]:\n",
    "                print(\"Found word at index \" + str(i))\n",
    "                with open(\"corola.200.1.vec\", \"r\") as vecfile:\n",
    "                    vecfile.seek(bytesToJump)\n",
    "                    print(vecfile.readline())"
   ]
  },
  {
   "cell_type": "code",
   "execution_count": 37,
   "metadata": {},
   "outputs": [
    {
     "name": "stdout",
     "output_type": "stream",
     "text": [
      "Found word at index 0\n",
      "9 -0.19082 \n",
      "\n"
     ]
    }
   ],
   "source": [
    "searchForWord(\"de\")"
   ]
  }
 ],
 "metadata": {
  "kernelspec": {
   "display_name": "nlpenv",
   "language": "python",
   "name": "python3"
  },
  "language_info": {
   "codemirror_mode": {
    "name": "ipython",
    "version": 3
   },
   "file_extension": ".py",
   "mimetype": "text/x-python",
   "name": "python",
   "nbconvert_exporter": "python",
   "pygments_lexer": "ipython3",
   "version": "3.9.5"
  }
 },
 "nbformat": 4,
 "nbformat_minor": 2
}
